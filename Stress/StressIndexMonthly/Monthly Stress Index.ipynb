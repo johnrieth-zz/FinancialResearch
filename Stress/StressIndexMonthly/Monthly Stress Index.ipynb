{
 "cells": [
  {
   "cell_type": "code",
   "execution_count": 4,
   "metadata": {
    "collapsed": true
   },
   "outputs": [],
   "source": [
    "import pandas as pd\n",
    "import numpy as np\n",
    "import matplotlib.pyplot as plt\n",
    "from sklearn.decomposition import TruncatedSVD\n",
    "from sklearn.preprocessing import StandardScaler\n",
    "import matplotlib as mpl\n",
    "from sklearn.preprocessing import Normalizer\n",
    "%matplotlib inline\n",
    "import seaborn as sns"
   ]
  },
  {
   "cell_type": "code",
   "execution_count": 5,
   "metadata": {
    "collapsed": true
   },
   "outputs": [],
   "source": [
    "collated_df = pd.read_csv(\"Collated.csv\")\n",
    "kcfsi = pd.read_csv(\"KCFSI.csv\")"
   ]
  },
  {
   "cell_type": "code",
   "execution_count": 6,
   "metadata": {
    "scrolled": true
   },
   "outputs": [
    {
     "data": {
      "text/html": [
       "<div>\n",
       "<style>\n",
       "    .dataframe thead tr:only-child th {\n",
       "        text-align: right;\n",
       "    }\n",
       "\n",
       "    .dataframe thead th {\n",
       "        text-align: left;\n",
       "    }\n",
       "\n",
       "    .dataframe tbody tr th {\n",
       "        vertical-align: top;\n",
       "    }\n",
       "</style>\n",
       "<table border=\"1\" class=\"dataframe\">\n",
       "  <thead>\n",
       "    <tr style=\"text-align: right;\">\n",
       "      <th></th>\n",
       "      <th>T10Y3MM</th>\n",
       "      <th>T10Y2YM</th>\n",
       "      <th>TB3MS</th>\n",
       "      <th>FEDFUNDS</th>\n",
       "      <th>MPRIME</th>\n",
       "      <th>GS3M</th>\n",
       "      <th>T10YFFM</th>\n",
       "      <th>EXUSUK</th>\n",
       "      <th>GS10</th>\n",
       "      <th>GS2</th>\n",
       "    </tr>\n",
       "  </thead>\n",
       "  <tbody>\n",
       "    <tr>\n",
       "      <th>0</th>\n",
       "      <td>0.31</td>\n",
       "      <td>0.12</td>\n",
       "      <td>7.64</td>\n",
       "      <td>8.23</td>\n",
       "      <td>10.11</td>\n",
       "      <td>7.90</td>\n",
       "      <td>-0.02</td>\n",
       "      <td>1.6512</td>\n",
       "      <td>8.21</td>\n",
       "      <td>8.09</td>\n",
       "    </tr>\n",
       "    <tr>\n",
       "      <th>1</th>\n",
       "      <td>0.47</td>\n",
       "      <td>0.10</td>\n",
       "      <td>7.74</td>\n",
       "      <td>8.24</td>\n",
       "      <td>10.00</td>\n",
       "      <td>8.00</td>\n",
       "      <td>0.23</td>\n",
       "      <td>1.6961</td>\n",
       "      <td>8.47</td>\n",
       "      <td>8.37</td>\n",
       "    </tr>\n",
       "    <tr>\n",
       "      <th>2</th>\n",
       "      <td>0.42</td>\n",
       "      <td>-0.04</td>\n",
       "      <td>7.90</td>\n",
       "      <td>8.28</td>\n",
       "      <td>10.00</td>\n",
       "      <td>8.17</td>\n",
       "      <td>0.31</td>\n",
       "      <td>1.6245</td>\n",
       "      <td>8.59</td>\n",
       "      <td>8.63</td>\n",
       "    </tr>\n",
       "    <tr>\n",
       "      <th>3</th>\n",
       "      <td>0.75</td>\n",
       "      <td>0.07</td>\n",
       "      <td>7.77</td>\n",
       "      <td>8.26</td>\n",
       "      <td>10.00</td>\n",
       "      <td>8.04</td>\n",
       "      <td>0.53</td>\n",
       "      <td>1.6372</td>\n",
       "      <td>8.79</td>\n",
       "      <td>8.72</td>\n",
       "    </tr>\n",
       "    <tr>\n",
       "      <th>4</th>\n",
       "      <td>0.75</td>\n",
       "      <td>0.12</td>\n",
       "      <td>7.74</td>\n",
       "      <td>8.18</td>\n",
       "      <td>10.00</td>\n",
       "      <td>8.01</td>\n",
       "      <td>0.58</td>\n",
       "      <td>1.6774</td>\n",
       "      <td>8.76</td>\n",
       "      <td>8.64</td>\n",
       "    </tr>\n",
       "  </tbody>\n",
       "</table>\n",
       "</div>"
      ],
      "text/plain": [
       "   T10Y3MM  T10Y2YM  TB3MS  FEDFUNDS  MPRIME  GS3M  T10YFFM  EXUSUK  GS10  \\\n",
       "0     0.31     0.12   7.64      8.23   10.11  7.90    -0.02  1.6512  8.21   \n",
       "1     0.47     0.10   7.74      8.24   10.00  8.00     0.23  1.6961  8.47   \n",
       "2     0.42    -0.04   7.90      8.28   10.00  8.17     0.31  1.6245  8.59   \n",
       "3     0.75     0.07   7.77      8.26   10.00  8.04     0.53  1.6372  8.79   \n",
       "4     0.75     0.12   7.74      8.18   10.00  8.01     0.58  1.6774  8.76   \n",
       "\n",
       "    GS2  \n",
       "0  8.09  \n",
       "1  8.37  \n",
       "2  8.63  \n",
       "3  8.72  \n",
       "4  8.64  "
      ]
     },
     "execution_count": 6,
     "metadata": {},
     "output_type": "execute_result"
    }
   ],
   "source": [
    "collated_df.head()"
   ]
  },
  {
   "cell_type": "code",
   "execution_count": 7,
   "metadata": {},
   "outputs": [],
   "source": [
    "from sklearn.decomposition import PCA\n",
    "sc = StandardScaler()\n",
    "X_std = sc.fit_transform(collated_df)\n",
    "X_norm = Normalizer().fit_transform(collated_df)"
   ]
  },
  {
   "cell_type": "code",
   "execution_count": 8,
   "metadata": {},
   "outputs": [
    {
     "data": {
      "text/plain": [
       "TruncatedSVD(algorithm='randomized', n_components=1, n_iter=3,\n",
       "       random_state=None, tol=0.0)"
      ]
     },
     "execution_count": 8,
     "metadata": {},
     "output_type": "execute_result"
    }
   ],
   "source": [
    "pca = PCA(n_components=1)\n",
    "pca.fit(X_std)\n",
    "\n",
    "svd = TruncatedSVD(n_components=1, n_iter=3)\n",
    "svd.fit(X_std)"
   ]
  },
  {
   "cell_type": "code",
   "execution_count": 9,
   "metadata": {
    "collapsed": true
   },
   "outputs": [],
   "source": [
    "collated_pca = pca.transform(collated_df)\n",
    "svc_pca = svd.transform(collated_df)\n",
    "X_std_pca = pca.fit_transform(X_std)\n",
    "X_norm_pca = pca.fit_transform(X_norm)"
   ]
  },
  {
   "cell_type": "code",
   "execution_count": 40,
   "metadata": {},
   "outputs": [
    {
     "data": {
      "text/plain": [
       "0      8.23\n",
       "1      8.24\n",
       "2      8.28\n",
       "3      8.26\n",
       "4      8.18\n",
       "5      8.29\n",
       "6      8.15\n",
       "7      8.13\n",
       "8      8.20\n",
       "9      8.11\n",
       "10     7.81\n",
       "11     7.31\n",
       "12     6.91\n",
       "13     6.25\n",
       "14     6.12\n",
       "15     5.91\n",
       "16     5.78\n",
       "17     5.90\n",
       "18     5.82\n",
       "19     5.66\n",
       "20     5.45\n",
       "21     5.21\n",
       "22     4.81\n",
       "23     4.43\n",
       "24     4.03\n",
       "25     4.06\n",
       "26     3.98\n",
       "27     3.73\n",
       "28     3.82\n",
       "29     3.76\n",
       "       ... \n",
       "304    0.12\n",
       "305    0.13\n",
       "306    0.13\n",
       "307    0.14\n",
       "308    0.14\n",
       "309    0.12\n",
       "310    0.12\n",
       "311    0.24\n",
       "312    0.34\n",
       "313    0.38\n",
       "314    0.36\n",
       "315    0.37\n",
       "316    0.37\n",
       "317    0.38\n",
       "318    0.39\n",
       "319    0.40\n",
       "320    0.40\n",
       "321    0.40\n",
       "322    0.41\n",
       "323    0.54\n",
       "324    0.65\n",
       "325    0.66\n",
       "326    0.79\n",
       "327    0.90\n",
       "328    0.91\n",
       "329    1.04\n",
       "330    1.15\n",
       "331    1.16\n",
       "332    1.15\n",
       "333    1.15\n",
       "Name: FEDFUNDS, Length: 334, dtype: float64"
      ]
     },
     "execution_count": 40,
     "metadata": {},
     "output_type": "execute_result"
    }
   ],
   "source": [
    "collated_df['FEDFUNDS']"
   ]
  },
  {
   "cell_type": "code",
   "execution_count": 42,
   "metadata": {},
   "outputs": [],
   "source": [
    "X_std_pca\n",
    "X_std_pca_scaled = sc.fit_transform(X_std_pca)\n"
   ]
  },
  {
   "cell_type": "code",
   "execution_count": 43,
   "metadata": {},
   "outputs": [
    {
     "data": {
      "text/plain": [
       "[<matplotlib.lines.Line2D at 0x16b73bab198>]"
      ]
     },
     "execution_count": 43,
     "metadata": {},
     "output_type": "execute_result"
    },
    {
     "data": {
      "image/png": "[encoded data removed]",
      "text/plain": [
       "<matplotlib.figure.Figure at 0x16b73b086a0>"
      ]
     },
     "metadata": {},
     "output_type": "display_data"
    }
   ],
   "source": [
    "plt.plot(X_std_pca_scaled)"
   ]
  },
  {
   "cell_type": "code",
   "execution_count": 44,
   "metadata": {},
   "outputs": [
    {
     "data": {
      "text/plain": [
       "[<matplotlib.lines.Line2D at 0x16b73c07e10>]"
      ]
     },
     "execution_count": 44,
     "metadata": {},
     "output_type": "execute_result"
    },
    {
     "data": {
      "image/png": "[encoded data removed]",
      "text/plain": [
       "<matplotlib.figure.Figure at 0x16b73bc05c0>"
      ]
     },
     "metadata": {},
     "output_type": "display_data"
    }
   ],
   "source": [
    "plt.plot(kcfsi)"
   ]
  },
  {
   "cell_type": "code",
   "execution_count": 45,
   "metadata": {},
   "outputs": [
    {
     "data": {
      "text/plain": [
       "[<matplotlib.lines.Line2D at 0x16b73c6ec50>]"
      ]
     },
     "execution_count": 45,
     "metadata": {},
     "output_type": "execute_result"
    },
    {
     "data": {
      "image/png": "[encoded data removed]",
      "text/plain": [
       "<matplotlib.figure.Figure at 0x16b73be9d68>"
      ]
     },
     "metadata": {},
     "output_type": "display_data"
    }
   ],
   "source": [
    "plt.plot(X_norm_pca)"
   ]
  },
  {
   "cell_type": "code",
   "execution_count": 52,
   "metadata": {},
   "outputs": [
    {
     "data": {
      "text/plain": [
       "array([[ 0.41013781,  0.34568261, -0.36042264, -0.38060612, -0.00894803,\n",
       "        -0.37136124,  0.41938269,  0.16720942,  0.03877657, -0.30690604]])"
      ]
     },
     "execution_count": 52,
     "metadata": {},
     "output_type": "execute_result"
    }
   ],
   "source": [
    "x = pca.components_\n",
    "x"
   ]
  },
  {
   "cell_type": "code",
   "execution_count": 62,
   "metadata": {},
   "outputs": [],
   "source": [
    "fun =x[0][1] * collated_df['T10Y2YM']\n",
    "fun1 = x[0][0] * collated_df['T10Y3MM']\n",
    "fun2 = x[0][2] * collated_df['TB3MS']"
   ]
  },
  {
   "cell_type": "code",
   "execution_count": 63,
   "metadata": {},
   "outputs": [],
   "source": [
    "total = fun + fun1 + fun2"
   ]
  },
  {
   "cell_type": "code",
   "execution_count": 64,
   "metadata": {},
   "outputs": [
    {
     "data": {
      "text/plain": [
       "[<matplotlib.lines.Line2D at 0x16b73d40c88>]"
      ]
     },
     "execution_count": 64,
     "metadata": {},
     "output_type": "execute_result"
    },
    {
     "data": {
      "image/png": "[encoded data removed]",
      "text/plain": [
       "<matplotlib.figure.Figure at 0x16b73cb6f28>"
      ]
     },
     "metadata": {},
     "output_type": "display_data"
    }
   ],
   "source": [
    "plt.plot(total)"
   ]
  },
  {
   "cell_type": "code",
   "execution_count": null,
   "metadata": {
    "collapsed": true
   },
   "outputs": [],
   "source": []
  }
 ],
 "metadata": {
  "kernelspec": {
   "display_name": "Python 3",
   "language": "python",
   "name": "python3"
  },
  "language_info": {
   "codemirror_mode": {
    "name": "ipython",
    "version": 3
   },
   "file_extension": ".py",
   "mimetype": "text/x-python",
   "name": "python",
   "nbconvert_exporter": "python",
   "pygments_lexer": "ipython3",
   "version": "3.6.3"
  }
 },
 "nbformat": 4,
 "nbformat_minor": 2
}

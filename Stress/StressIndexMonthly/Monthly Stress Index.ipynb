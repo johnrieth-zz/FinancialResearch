{
 "cells": [
  {
   "cell_type": "code",
   "execution_count": 146,
   "metadata": {
    "collapsed": true
   },
   "outputs": [],
   "source": [
    "import pandas as pd\n",
    "import numpy as np\n",
    "import matplotlib.pyplot as plt\n",
    "from sklearn.decomposition import TruncatedSVD\n",
    "from sklearn.preprocessing import StandardScaler\n",
    "import matplotlib as mpl\n",
    "from sklearn.preprocessing import Normalizer\n",
    "%matplotlib inline\n",
    "import seaborn as sns"
   ]
  },
  {
   "cell_type": "code",
   "execution_count": 147,
   "metadata": {
    "collapsed": true
   },
   "outputs": [],
   "source": [
    "collated_df = pd.read_csv(\"Collated.csv\")\n",
    "kcfsi = pd.read_csv(\"KCFSI.csv\")"
   ]
  },
  {
   "cell_type": "code",
   "execution_count": 148,
   "metadata": {
    "scrolled": true
   },
   "outputs": [
    {
     "data": {
      "text/html": [
       "<div>\n",
       "<style>\n",
       "    .dataframe thead tr:only-child th {\n",
       "        text-align: right;\n",
       "    }\n",
       "\n",
       "    .dataframe thead th {\n",
       "        text-align: left;\n",
       "    }\n",
       "\n",
       "    .dataframe tbody tr th {\n",
       "        vertical-align: top;\n",
       "    }\n",
       "</style>\n",
       "<table border=\"1\" class=\"dataframe\">\n",
       "  <thead>\n",
       "    <tr style=\"text-align: right;\">\n",
       "      <th></th>\n",
       "      <th>T10Y3MM</th>\n",
       "      <th>T10Y2YM</th>\n",
       "      <th>TB3MS</th>\n",
       "      <th>FEDFUNDS</th>\n",
       "      <th>MPRIME</th>\n",
       "      <th>GS3M</th>\n",
       "      <th>T10YFFM</th>\n",
       "      <th>EXUSUK</th>\n",
       "      <th>GS10</th>\n",
       "      <th>GS2</th>\n",
       "    </tr>\n",
       "  </thead>\n",
       "  <tbody>\n",
       "    <tr>\n",
       "      <th>0</th>\n",
       "      <td>0.31</td>\n",
       "      <td>0.12</td>\n",
       "      <td>7.64</td>\n",
       "      <td>8.23</td>\n",
       "      <td>10.11</td>\n",
       "      <td>7.90</td>\n",
       "      <td>-0.02</td>\n",
       "      <td>1.6512</td>\n",
       "      <td>8.21</td>\n",
       "      <td>8.09</td>\n",
       "    </tr>\n",
       "    <tr>\n",
       "      <th>1</th>\n",
       "      <td>0.47</td>\n",
       "      <td>0.10</td>\n",
       "      <td>7.74</td>\n",
       "      <td>8.24</td>\n",
       "      <td>10.00</td>\n",
       "      <td>8.00</td>\n",
       "      <td>0.23</td>\n",
       "      <td>1.6961</td>\n",
       "      <td>8.47</td>\n",
       "      <td>8.37</td>\n",
       "    </tr>\n",
       "    <tr>\n",
       "      <th>2</th>\n",
       "      <td>0.42</td>\n",
       "      <td>-0.04</td>\n",
       "      <td>7.90</td>\n",
       "      <td>8.28</td>\n",
       "      <td>10.00</td>\n",
       "      <td>8.17</td>\n",
       "      <td>0.31</td>\n",
       "      <td>1.6245</td>\n",
       "      <td>8.59</td>\n",
       "      <td>8.63</td>\n",
       "    </tr>\n",
       "    <tr>\n",
       "      <th>3</th>\n",
       "      <td>0.75</td>\n",
       "      <td>0.07</td>\n",
       "      <td>7.77</td>\n",
       "      <td>8.26</td>\n",
       "      <td>10.00</td>\n",
       "      <td>8.04</td>\n",
       "      <td>0.53</td>\n",
       "      <td>1.6372</td>\n",
       "      <td>8.79</td>\n",
       "      <td>8.72</td>\n",
       "    </tr>\n",
       "    <tr>\n",
       "      <th>4</th>\n",
       "      <td>0.75</td>\n",
       "      <td>0.12</td>\n",
       "      <td>7.74</td>\n",
       "      <td>8.18</td>\n",
       "      <td>10.00</td>\n",
       "      <td>8.01</td>\n",
       "      <td>0.58</td>\n",
       "      <td>1.6774</td>\n",
       "      <td>8.76</td>\n",
       "      <td>8.64</td>\n",
       "    </tr>\n",
       "  </tbody>\n",
       "</table>\n",
       "</div>"
      ],
      "text/plain": [
       "   T10Y3MM  T10Y2YM  TB3MS  FEDFUNDS  MPRIME  GS3M  T10YFFM  EXUSUK  GS10  \\\n",
       "0     0.31     0.12   7.64      8.23   10.11  7.90    -0.02  1.6512  8.21   \n",
       "1     0.47     0.10   7.74      8.24   10.00  8.00     0.23  1.6961  8.47   \n",
       "2     0.42    -0.04   7.90      8.28   10.00  8.17     0.31  1.6245  8.59   \n",
       "3     0.75     0.07   7.77      8.26   10.00  8.04     0.53  1.6372  8.79   \n",
       "4     0.75     0.12   7.74      8.18   10.00  8.01     0.58  1.6774  8.76   \n",
       "\n",
       "    GS2  \n",
       "0  8.09  \n",
       "1  8.37  \n",
       "2  8.63  \n",
       "3  8.72  \n",
       "4  8.64  "
      ]
     },
     "execution_count": 148,
     "metadata": {},
     "output_type": "execute_result"
    }
   ],
   "source": [
    "collated_df.head()"
   ]
  },
  {
   "cell_type": "code",
   "execution_count": 151,
   "metadata": {},
   "outputs": [],
   "source": [
    "from sklearn.decomposition import PCA\n",
    "sc = StandardScaler()\n",
    "X_std = sc.fit_transform(collated_df)\n",
    "X_norm = Normalizer().fit_transform(collated_df)"
   ]
  },
  {
   "cell_type": "code",
   "execution_count": 152,
   "metadata": {},
   "outputs": [
    {
     "data": {
      "text/plain": [
       "TruncatedSVD(algorithm='randomized', n_components=1, n_iter=3,\n",
       "       random_state=None, tol=0.0)"
      ]
     },
     "execution_count": 152,
     "metadata": {},
     "output_type": "execute_result"
    }
   ],
   "source": [
    "pca = PCA(n_components=1)\n",
    "pca.fit(collated_df)\n",
    "\n",
    "svd = TruncatedSVD(n_components=1, n_iter=3)\n",
    "svd.fit(collated_df)"
   ]
  },
  {
   "cell_type": "code",
   "execution_count": 153,
   "metadata": {},
   "outputs": [],
   "source": [
    "collated_pca = pca.transform(collated_df)\n",
    "svc_pca = svd.transform(collated_df)\n",
    "X_std_pca = pca.fit_transform(X_std)\n",
    "X_norm_pca = pca.fit_transform(X_norm)"
   ]
  },
  {
   "cell_type": "code",
   "execution_count": 154,
   "metadata": {},
   "outputs": [
    {
     "data": {
      "text/plain": [
       "array([[11.58799529],\n",
       "       [11.77640042],\n",
       "       [12.08549303],\n",
       "       [11.98713603],\n",
       "       [11.87345045],\n",
       "       [11.78388181],\n",
       "       [11.49621642],\n",
       "       [11.24880616],\n",
       "       [11.20485529],\n",
       "       [10.87466318],\n",
       "       [10.47425655],\n",
       "       [ 9.74577274],\n",
       "       [ 8.72892507],\n",
       "       [ 7.77487277],\n",
       "       [ 7.75810638],\n",
       "       [ 7.31892452],\n",
       "       [ 6.76554151],\n",
       "       [ 7.02391982],\n",
       "       [ 6.96228328],\n",
       "       [ 6.39920385],\n",
       "       [ 5.92796193],\n",
       "       [ 5.35866853],\n",
       "       [ 4.36820025],\n",
       "       [ 3.27069346],\n",
       "       [ 2.46964648],\n",
       "       [ 2.63750016],\n",
       "       [ 3.01867416],\n",
       "       [ 2.41677932],\n",
       "       [ 2.30186809],\n",
       "       [ 2.208979  ],\n",
       "       [ 0.95182243],\n",
       "       [ 0.82199383],\n",
       "       [ 0.41425009],\n",
       "       [ 0.3939065 ],\n",
       "       [ 0.8959348 ],\n",
       "       [ 0.93454915],\n",
       "       [ 0.64474838],\n",
       "       [ 0.44521179],\n",
       "       [ 0.42464319],\n",
       "       [ 0.23006691],\n",
       "       [ 0.41300045],\n",
       "       [ 0.64010319],\n",
       "       [ 0.5845673 ],\n",
       "       [ 0.51981614],\n",
       "       [ 0.42307102],\n",
       "       [ 0.45055679],\n",
       "       [ 0.67773372],\n",
       "       [ 0.6245715 ],\n",
       "       [ 0.55835789],\n",
       "       [ 1.09781572],\n",
       "       [ 1.66400485],\n",
       "       [ 2.38311364],\n",
       "       [ 3.51567556],\n",
       "       [ 3.72941327],\n",
       "       [ 4.01883317],\n",
       "       [ 4.41424854],\n",
       "       [ 4.88792405],\n",
       "       [ 5.39026205],\n",
       "       [ 6.38624832],\n",
       "       [ 7.15481842],\n",
       "       [ 7.2787635 ],\n",
       "       [ 7.55295632],\n",
       "       [ 7.39567752],\n",
       "       [ 7.26191043],\n",
       "       [ 7.06668585],\n",
       "       [ 6.65662318],\n",
       "       [ 6.46899204],\n",
       "       [ 6.46110831],\n",
       "       [ 6.29892167],\n",
       "       [ 6.23350385],\n",
       "       [ 6.22068735],\n",
       "       [ 5.78363303],\n",
       "       [ 5.45993668],\n",
       "       [ 4.94347482],\n",
       "       [ 5.42880368],\n",
       "       [ 5.51355109],\n",
       "       [ 5.64531553],\n",
       "       [ 5.82961591],\n",
       "       [ 5.95120345],\n",
       "       [ 5.63703642],\n",
       "       [ 5.81974978],\n",
       "       [ 5.52971221],\n",
       "       [ 5.52184157],\n",
       "       [ 5.42856   ],\n",
       "       [ 5.62923235],\n",
       "       [ 5.52255506],\n",
       "       [ 5.93652067],\n",
       "       [ 6.21420636],\n",
       "       [ 6.03114836],\n",
       "       [ 5.85928927],\n",
       "       [ 5.8605578 ],\n",
       "       [ 5.97751224],\n",
       "       [ 5.76696669],\n",
       "       [ 5.72178939],\n",
       "       [ 5.8712342 ],\n",
       "       [ 5.88843113],\n",
       "       [ 5.63394995],\n",
       "       [ 5.68311104],\n",
       "       [ 5.67986948],\n",
       "       [ 5.58279276],\n",
       "       [ 5.67280305],\n",
       "       [ 5.66570646],\n",
       "       [ 5.60072311],\n",
       "       [ 5.46130879],\n",
       "       [ 4.87028079],\n",
       "       [ 3.55810428],\n",
       "       [ 3.9797719 ],\n",
       "       [ 3.8101061 ],\n",
       "       [ 3.78900569],\n",
       "       [ 4.08229702],\n",
       "       [ 4.1917169 ],\n",
       "       [ 3.97146318],\n",
       "       [ 4.29568742],\n",
       "       [ 4.55789952],\n",
       "       [ 4.73400721],\n",
       "       [ 5.02884855],\n",
       "       [ 5.1380534 ],\n",
       "       [ 5.40194675],\n",
       "       [ 5.77692014],\n",
       "       [ 5.9967218 ],\n",
       "       [ 6.36219394],\n",
       "       [ 6.92910694],\n",
       "       [ 7.137491  ],\n",
       "       [ 7.21644378],\n",
       "       [ 7.78768922],\n",
       "       [ 7.7747328 ],\n",
       "       [ 7.96833202],\n",
       "       [ 8.02886612],\n",
       "       [ 7.87126005],\n",
       "       [ 7.882373  ],\n",
       "       [ 7.92926233],\n",
       "       [ 7.22809391],\n",
       "       [ 5.8993227 ],\n",
       "       [ 5.09118059],\n",
       "       [ 4.32084897],\n",
       "       [ 3.2193824 ],\n",
       "       [ 2.4140462 ],\n",
       "       [ 1.96183236],\n",
       "       [ 1.75617896],\n",
       "       [ 1.38297274],\n",
       "       [-0.12182642],\n",
       "       [-1.40795821],\n",
       "       [-2.05903336],\n",
       "       [-2.34320118],\n",
       "       [-2.50761302],\n",
       "       [-2.42368955],\n",
       "       [-2.10270112],\n",
       "       [-2.23286683],\n",
       "       [-2.30559717],\n",
       "       [-2.46309775],\n",
       "       [-2.70428376],\n",
       "       [-2.95999304],\n",
       "       [-2.98906568],\n",
       "       [-3.08877182],\n",
       "       [-3.81821488],\n",
       "       [-3.99402835],\n",
       "       [-4.06732948],\n",
       "       [-4.10527981],\n",
       "       [-4.17505198],\n",
       "       [-4.15247478],\n",
       "       [-4.29024183],\n",
       "       [-4.55186056],\n",
       "       [-4.69212501],\n",
       "       [-4.45595192],\n",
       "       [-4.54496748],\n",
       "       [-4.543137  ],\n",
       "       [-4.44367228],\n",
       "       [-4.49671838],\n",
       "       [-4.57071282],\n",
       "       [-4.52915927],\n",
       "       [-4.59510699],\n",
       "       [-4.36162811],\n",
       "       [-4.06446616],\n",
       "       [-3.6854531 ],\n",
       "       [-3.44600684],\n",
       "       [-3.19696535],\n",
       "       [-2.8492987 ],\n",
       "       [-2.56358781],\n",
       "       [-1.95868971],\n",
       "       [-1.54888777],\n",
       "       [-1.19117991],\n",
       "       [-0.6835016 ],\n",
       "       [-0.20891703],\n",
       "       [-0.04478962],\n",
       "       [ 0.23035338],\n",
       "       [ 0.40149476],\n",
       "       [ 0.96872247],\n",
       "       [ 1.47939014],\n",
       "       [ 1.53942791],\n",
       "       [ 2.12664421],\n",
       "       [ 2.59198928],\n",
       "       [ 2.74081812],\n",
       "       [ 3.20228064],\n",
       "       [ 3.73086539],\n",
       "       [ 3.90229369],\n",
       "       [ 4.25707811],\n",
       "       [ 4.56338697],\n",
       "       [ 4.77926321],\n",
       "       [ 5.16513584],\n",
       "       [ 5.0765907 ],\n",
       "       [ 4.87074331],\n",
       "       [ 4.99500571],\n",
       "       [ 4.99049089],\n",
       "       [ 4.86038297],\n",
       "       [ 5.09306951],\n",
       "       [ 5.13232286],\n",
       "       [ 4.91349455],\n",
       "       [ 4.88737724],\n",
       "       [ 4.8050939 ],\n",
       "       [ 4.77639829],\n",
       "       [ 4.90649353],\n",
       "       [ 3.92552806],\n",
       "       [ 3.33801055],\n",
       "       [ 3.10671708],\n",
       "       [ 1.94156852],\n",
       "       [ 1.35755716],\n",
       "       [ 0.49214685],\n",
       "       [-1.32199649],\n",
       "       [-2.6658033 ],\n",
       "       [-2.77487663],\n",
       "       [-2.4205287 ],\n",
       "       [-2.13001958],\n",
       "       [-2.44186786],\n",
       "       [-2.43609167],\n",
       "       [-3.27345033],\n",
       "       [-4.61743822],\n",
       "       [-5.8306416 ],\n",
       "       [-6.40608844],\n",
       "       [-6.47585859],\n",
       "       [-6.20821251],\n",
       "       [-6.33380994],\n",
       "       [-6.40973705],\n",
       "       [-6.39667306],\n",
       "       [-6.27310433],\n",
       "       [-6.37639274],\n",
       "       [-6.33415299],\n",
       "       [-6.46029405],\n",
       "       [-6.52903941],\n",
       "       [-6.62835498],\n",
       "       [-6.60355164],\n",
       "       [-6.57679297],\n",
       "       [-6.55378842],\n",
       "       [-6.44889133],\n",
       "       [-6.371042  ],\n",
       "       [-6.46679571],\n",
       "       [-6.56019751],\n",
       "       [-6.56322585],\n",
       "       [-6.59070286],\n",
       "       [-6.61833305],\n",
       "       [-6.68326406],\n",
       "       [-6.65056322],\n",
       "       [-6.59989437],\n",
       "       [-6.60774042],\n",
       "       [-6.55863697],\n",
       "       [-6.62452915],\n",
       "       [-6.67167733],\n",
       "       [-6.76830584],\n",
       "       [-6.83760443],\n",
       "       [-6.84890236],\n",
       "       [-6.90166974],\n",
       "       [-6.9128637 ],\n",
       "       [-6.88263993],\n",
       "       [-6.89338863],\n",
       "       [-6.89192252],\n",
       "       [-6.87757001],\n",
       "       [-6.78819447],\n",
       "       [-6.76158125],\n",
       "       [-6.77477346],\n",
       "       [-6.7380238 ],\n",
       "       [-6.72672069],\n",
       "       [-6.73283657],\n",
       "       [-6.74858895],\n",
       "       [-6.74111862],\n",
       "       [-6.73058103],\n",
       "       [-6.73898031],\n",
       "       [-6.76752377],\n",
       "       [-6.78586372],\n",
       "       [-6.75695949],\n",
       "       [-6.77640483],\n",
       "       [-6.80193443],\n",
       "       [-6.84356235],\n",
       "       [-6.82636232],\n",
       "       [-6.84881326],\n",
       "       [-6.85379168],\n",
       "       [-6.8554242 ],\n",
       "       [-6.84115537],\n",
       "       [-6.85578854],\n",
       "       [-6.840164  ],\n",
       "       [-6.85026406],\n",
       "       [-6.86314726],\n",
       "       [-6.82069312],\n",
       "       [-6.82245501],\n",
       "       [-6.82871217],\n",
       "       [-6.78412641],\n",
       "       [-6.76307006],\n",
       "       [-6.77702585],\n",
       "       [-6.74046439],\n",
       "       [-6.78994062],\n",
       "       [-6.74938708],\n",
       "       [-6.65666211],\n",
       "       [-6.68951678],\n",
       "       [-6.66780872],\n",
       "       [-6.65191302],\n",
       "       [-6.70269189],\n",
       "       [-6.68163822],\n",
       "       [-6.64348504],\n",
       "       [-6.64218903],\n",
       "       [-6.57315385],\n",
       "       [-6.61510577],\n",
       "       [-6.65730042],\n",
       "       [-6.44189734],\n",
       "       [-6.17294416],\n",
       "       [-6.06930365],\n",
       "       [-6.0706671 ],\n",
       "       [-6.02234585],\n",
       "       [-6.13214952],\n",
       "       [-6.06221266],\n",
       "       [-6.09936721],\n",
       "       [-6.08947832],\n",
       "       [-6.050345  ],\n",
       "       [-6.0482137 ],\n",
       "       [-5.98226022],\n",
       "       [-5.81327309],\n",
       "       [-5.53183117],\n",
       "       [-5.41085932],\n",
       "       [-5.40040561],\n",
       "       [-5.01259945],\n",
       "       [-4.87107071],\n",
       "       [-4.74836742],\n",
       "       [-4.50402019],\n",
       "       [-4.3009181 ],\n",
       "       [-4.36076124],\n",
       "       [-4.32517202],\n",
       "       [-4.20709634]])"
      ]
     },
     "execution_count": 154,
     "metadata": {},
     "output_type": "execute_result"
    }
   ],
   "source": [
    "collated_pca"
   ]
  },
  {
   "cell_type": "code",
   "execution_count": 155,
   "metadata": {},
   "outputs": [
    {
     "name": "stdout",
     "output_type": "stream",
     "text": [
      "[[ 0.41013781  0.34568261 -0.36042264 -0.38060612 -0.00894803 -0.37136124\n",
      "   0.41938269  0.16720942  0.03877657 -0.30690604]]\n"
     ]
    }
   ],
   "source": [
    "print(pca.components_)"
   ]
  },
  {
   "cell_type": "code",
   "execution_count": 156,
   "metadata": {},
   "outputs": [
    {
     "data": {
      "text/plain": [
       "[<matplotlib.lines.Line2D at 0x253fca79940>]"
      ]
     },
     "execution_count": 156,
     "metadata": {},
     "output_type": "execute_result"
    },
    {
     "data": {
      "image/png": "[encoded data removed]",
      "text/plain": [
       "<matplotlib.figure.Figure at 0x253fba61cf8>"
      ]
     },
     "metadata": {},
     "output_type": "display_data"
    }
   ],
   "source": [
    "plt.plot(collated_pca)"
   ]
  },
  {
   "cell_type": "code",
   "execution_count": 157,
   "metadata": {},
   "outputs": [
    {
     "data": {
      "text/plain": [
       "[<matplotlib.lines.Line2D at 0x253fcadf978>]"
      ]
     },
     "execution_count": 157,
     "metadata": {},
     "output_type": "execute_result"
    },
    {
     "data": {
      "image/png": "[encoded data removed]",
      "text/plain": [
       "<matplotlib.figure.Figure at 0x253fb8997b8>"
      ]
     },
     "metadata": {},
     "output_type": "display_data"
    }
   ],
   "source": [
    "plt.plot(svc_pca)"
   ]
  },
  {
   "cell_type": "code",
   "execution_count": 158,
   "metadata": {},
   "outputs": [
    {
     "data": {
      "text/plain": [
       "[<matplotlib.lines.Line2D at 0x253fcb48710>]"
      ]
     },
     "execution_count": 158,
     "metadata": {},
     "output_type": "execute_result"
    },
    {
     "data": {
      "image/png": "[encoded data removed]",
      "text/plain": [
       "<matplotlib.figure.Figure at 0x253fcab6710>"
      ]
     },
     "metadata": {},
     "output_type": "display_data"
    }
   ],
   "source": [
    "plt.plot(kcfsi)"
   ]
  },
  {
   "cell_type": "code",
   "execution_count": 159,
   "metadata": {},
   "outputs": [
    {
     "data": {
      "text/plain": [
       "[<matplotlib.lines.Line2D at 0x253fcbb1550>]"
      ]
     },
     "execution_count": 159,
     "metadata": {},
     "output_type": "execute_result"
    },
    {
     "data": {
      "image/png": "[encoded data removed]",
      "text/plain": [
       "<matplotlib.figure.Figure at 0x253fcb39d30>"
      ]
     },
     "metadata": {},
     "output_type": "display_data"
    }
   ],
   "source": [
    "plt.plot(X_std_pca)"
   ]
  },
  {
   "cell_type": "code",
   "execution_count": 160,
   "metadata": {},
   "outputs": [
    {
     "data": {
      "text/plain": [
       "[<matplotlib.lines.Line2D at 0x253fcc12710>]"
      ]
     },
     "execution_count": 160,
     "metadata": {},
     "output_type": "execute_result"
    },
    {
     "data": {
      "image/png": "[encoded data removed]",
      "text/plain": [
       "<matplotlib.figure.Figure at 0x253fcb954e0>"
      ]
     },
     "metadata": {},
     "output_type": "display_data"
    }
   ],
   "source": [
    "plt.plot(X_norm_pca)"
   ]
  },
  {
   "cell_type": "code",
   "execution_count": null,
   "metadata": {
    "collapsed": true
   },
   "outputs": [],
   "source": []
  }
 ],
 "metadata": {
  "kernelspec": {
   "display_name": "Python 3",
   "language": "python",
   "name": "python3"
  },
  "language_info": {
   "codemirror_mode": {
    "name": "ipython",
    "version": 3
   },
   "file_extension": ".py",
   "mimetype": "text/x-python",
   "name": "python",
   "nbconvert_exporter": "python",
   "pygments_lexer": "ipython3",
   "version": "3.6.3"
  }
 },
 "nbformat": 4,
 "nbformat_minor": 2
}

{
 "cells": [
  {
   "cell_type": "code",
   "execution_count": 3,
   "metadata": {},
   "outputs": [],
   "source": [
    "from __future__ import print_function\n",
    "import mxnet as mx\n",
    "import numpy as np\n",
    "from mxnet import nd, autograd, ndarray\n",
    "from mxnet import gluon\n",
    "from mxnet.gluon.loss import Loss\n",
    "from math import factorial\n",
    "import pandas as pd\n",
    "%matplotlib inline\n",
    "from matplotlib import pyplot as plt"
   ]
  },
  {
   "cell_type": "code",
   "execution_count": 6,
   "metadata": {},
   "outputs": [],
   "source": [
    "class Bernoulli(Loss):\n",
    "    def __init__(self, weight=None, batch_axis=0, **kwargs):\n",
    "        super(Bernoulli, self).__init__(weight, batch_axis, **kwargs)\n",
    "\n",
    "    def hybrid_forward(self, F, output, label, sample_weight=None):\n",
    "        label = _reshape_label_as_output(F, output, label)\n",
    "        loss = -1 * (1 - output) * (1-label) - output * label\n",
    "        loss = _apply_weighting(F, loss, self._weight, sampel_weight)\n",
    "        return F.mean(loss, axis=self._batch_axis, exclude=True)\n",
    "\n",
    "bernoulli_log_lik = Bernoulli()"
   ]
  },
  {
   "cell_type": "code",
   "execution_count": 10,
   "metadata": {
    "collapsed": true
   },
   "outputs": [],
   "source": [
    "def logistic(x):\n",
    "    return nd.log1p(nd.exp(x,dtype='float64'))\n",
    "\n",
    "def inverse_logistic(x):\n",
    "    return nd.log(nd.exp(x,dtype='float64')-1)\n",
    "\n",
    "def _reshape_label_as_output(F, output, label):\n",
    "    return label.reshape(output.shape) if F is ndarray else label.reshape(())\n",
    "\n",
    "\n",
    "class Poisson(Loss):\n",
    "    def __init__(self, weight=None, batch_axis=0, **kwargs):\n",
    "        super(Poisson, self).__init__(weight, batch_axis, **kwargs)\n",
    "\n",
    "    def hybrid_forward(self, F, output, label, sample_weight=None):\n",
    "        label = _reshape_label_as_output(F, output, label)\n",
    "        loss = logistic(output) - F.log(logistic(output)) * label\n",
    "        return F.mean(loss, axis=self._batch_axis, exclude=True)"
   ]
  },
  {
   "cell_type": "code",
   "execution_count": 12,
   "metadata": {},
   "outputs": [],
   "source": [
    "df = pd.read_csv(\"unemp.csv\").set_index('ds')"
   ]
  },
  {
   "cell_type": "code",
   "execution_count": 13,
   "metadata": {},
   "outputs": [
    {
     "name": "stdout",
     "output_type": "stream",
     "text": [
      "              y\n",
      "ds             \n",
      "1948-01-01  3.4\n",
      "1948-02-01  3.8\n",
      "1948-03-01  4.0\n",
      "1948-04-01  3.9\n",
      "1948-05-01  3.5\n"
     ]
    }
   ],
   "source": [
    "print(df.head())"
   ]
  },
  {
   "cell_type": "code",
   "execution_count": 14,
   "metadata": {},
   "outputs": [
    {
     "data": {
      "text/plain": [
       "[<matplotlib.lines.Line2D at 0x199259969b0>]"
      ]
     },
     "execution_count": 14,
     "metadata": {},
     "output_type": "execute_result"
    },
    {
     "data": {
      "image/png": "[encoded data removed]",
      "text/plain": [
       "<matplotlib.figure.Figure at 0x199237338d0>"
      ]
     },
     "metadata": {},
     "output_type": "display_data"
    }
   ],
   "source": [
    "ts = df.values[:,0]\n",
    "plt.plot(ts)"
   ]
  },
  {
   "cell_type": "code",
   "execution_count": 15,
   "metadata": {},
   "outputs": [
    {
     "name": "stdout",
     "output_type": "stream",
     "text": [
      "\n",
      "[[-1.7299689  -0.01006812]\n",
      " [-1.7257903  -0.00839665]\n",
      " [-1.7216116  -0.00756092]\n",
      " [-1.717433   -0.00797879]\n",
      " [-1.7132543  -0.00965026]]\n",
      "<NDArray 5x2 @cpu(0)>\n",
      "\n",
      "[[1.3]\n",
      " [1.5]\n",
      " [1.4]\n",
      " [1. ]\n",
      " [1.1]]\n",
      "<NDArray 5x1 @cpu(0)>\n"
     ]
    }
   ],
   "source": [
    "forecast_length = 10\n",
    "train_length = len(ts) - forecast_length\n",
    "\n",
    "tgt_min = ts.min()\n",
    "ts = ts - tgt_min\n",
    "\n",
    "# droping the first observation due to lag\n",
    "target = nd.array(ts[:train_length]).reshape((train_length,1))[1:]\n",
    "\n",
    "# prediction target\n",
    "pred_target = nd.array(ts[train_length:]).reshape((forecast_length,1))\n",
    "\n",
    "# construct lag and trend\n",
    "trend = nd.arange(train_length).reshape((train_length,1))\n",
    "lag_sales = nd.array(ts).reshape((train_length,1))\n",
    "\n",
    "# droping the last observation due to lag\n",
    "features = nd.concat(trend[:-1],lag_sales[:-1])\n",
    "\n",
    "# standardize\n",
    "features_mean = features.mean(axis=0)\n",
    "features_std = nd.array(features.asnumpy().std(axis=0)).reshape((1,1))\n",
    "features = (features - features_mean) / features_std\n",
    "\n",
    "print(features[:5,])\n",
    "print(target[:5,])"
   ]
  },
  {
   "cell_type": "code",
   "execution_count": 16,
   "metadata": {
    "collapsed": true
   },
   "outputs": [],
   "source": [
    "batch_size = 5\n",
    "train_data = gluon.data.DataLoader(\n",
    "    gluon.data.ArrayDataset(features, target),\n",
    "    batch_size=batch_size, shuffle=True)"
   ]
  },
  {
   "cell_type": "code",
   "execution_count": 17,
   "metadata": {
    "collapsed": true
   },
   "outputs": [],
   "source": [
    "# Context\n",
    "ctx = mx.cpu()\n",
    "\n",
    "# Network\n",
    "net = gluon.nn.Sequential()\n",
    "with net.name_scope():\n",
    "    net.add(gluon.nn.Dense(1))\n",
    "    \n",
    "# Parameter initialization    \n",
    "net.collect_params().initialize(mx.init.Normal(sigma=0.1), ctx=ctx)\n",
    "\n",
    "# Trainer\n",
    "trainer = gluon.Trainer(net.collect_params(), 'sgd', {'learning_rate': 0.1})\n",
    "\n",
    "# Loss\n",
    "poisson_log_lik = Poisson()"
   ]
  },
  {
   "cell_type": "code",
   "execution_count": 18,
   "metadata": {},
   "outputs": [
    {
     "name": "stdout",
     "output_type": "stream",
     "text": [
      "Epoch 0. Moving avg of log likelihood: -0.7673279566255256\n",
      "Epoch 10. Moving avg of log likelihood: -0.5831271599495322\n",
      "Epoch 20. Moving avg of log likelihood: -0.4607357463736\n",
      "Epoch 30. Moving avg of log likelihood: -0.7364590749249202\n",
      "Epoch 40. Moving avg of log likelihood: -0.5246038400344724\n",
      "The type of \"params\" is a  <class 'mxnet.gluon.parameter.ParameterDict'>\n",
      "sequential0_dense0_weight \n",
      "[[0.59005   2.3756285]]\n",
      "<NDArray 1x2 @cpu(0)>\n",
      "sequential0_dense0_bias \n",
      "[3.283443]\n",
      "<NDArray 1 @cpu(0)>\n"
     ]
    }
   ],
   "source": [
    "\n",
    "\n",
    "epochs = 50\n",
    "smoothing_constant = .05\n",
    "moving_loss = 0\n",
    "niter = 0\n",
    "loss_seq = []\n",
    "\n",
    "for e in range(epochs):\n",
    "    for i, (data, label) in enumerate(train_data):\n",
    "        data = data.as_in_context(ctx)\n",
    "        label = label.as_in_context(ctx)\n",
    "        with autograd.record():\n",
    "            output = net(data)\n",
    "            loss = poisson_log_lik(output, label)\n",
    "        loss.backward()\n",
    "        trainer.step(batch_size)\n",
    "        \n",
    "        ##########################\n",
    "        #  Keep a moving average of the losses\n",
    "        ##########################\n",
    "        niter +=1\n",
    "        curr_loss = nd.mean(loss).asscalar()\n",
    "        moving_loss = (1 - smoothing_constant) * moving_loss + (smoothing_constant) * curr_loss\n",
    "\n",
    "        # correct the bias from the moving averages\n",
    "        est_loss = moving_loss/(1-(1-smoothing_constant)**niter)\n",
    "        loss_seq.append(est_loss)\n",
    "    if e % 10 ==0:\n",
    "        print(\"Epoch %s. Moving avg of log likelihood: %s\" % (e, est_loss)) \n",
    "        \n",
    "        params = net.collect_params() # this returns a ParameterDict\n",
    "\n",
    "print('The type of \"params\" is a ',type(params))\n",
    "\n",
    "# A ParameterDict is a dictionary of Parameter class objects\n",
    "# therefore, here is how we can read off the parameters from it.\n",
    "\n",
    "for param in params.values():\n",
    "    print(param.name,param.data())\n",
    "\n"
   ]
  },
  {
   "cell_type": "code",
   "execution_count": 19,
   "metadata": {},
   "outputs": [
    {
     "data": {
      "text/plain": [
       "Text(0,0.5,'est loss')"
      ]
     },
     "execution_count": 19,
     "metadata": {},
     "output_type": "execute_result"
    },
    {
     "data": {
      "image/png": "[encoded data removed]",
      "text/plain": [
       "<matplotlib.figure.Figure at 0x199230a1128>"
      ]
     },
     "metadata": {},
     "output_type": "display_data"
    }
   ],
   "source": [
    "\n",
    "\n",
    "# plot the convergence of the estimated loss function\n",
    "%matplotlib inline\n",
    "\n",
    "import matplotlib\n",
    "import matplotlib.pyplot as plt\n",
    "\n",
    "plt.figure(num=None,figsize=(8, 6),dpi=80, facecolor='w', edgecolor='k')\n",
    "plt.plot(range(niter),loss_seq, '.')\n",
    "\n",
    "# adding some additional bells and whistles to the plot\n",
    "plt.grid(True,which=\"both\")\n",
    "plt.xlabel('iteration',fontsize=14)\n",
    "plt.ylabel('est loss',fontsize=14)\n",
    "\n"
   ]
  },
  {
   "cell_type": "code",
   "execution_count": 21,
   "metadata": {},
   "outputs": [],
   "source": [
    "num_hidden = 64\n",
    "num_outputs = 1\n",
    "mlp_net = gluon.nn.Sequential()\n",
    "with mlp_net.name_scope():\n",
    "    mlp_net.add(gluon.nn.Dense(num_hidden, activation=\"relu\"))\n",
    "    mlp_net.add(gluon.nn.Dense(num_hidden, activation=\"relu\"))\n",
    "    mlp_net.add(gluon.nn.Dense(num_outputs))"
   ]
  },
  {
   "cell_type": "code",
   "execution_count": 22,
   "metadata": {
    "collapsed": true
   },
   "outputs": [],
   "source": [
    "\n",
    "\n",
    "# context\n",
    "mlp_ctx = mx.cpu()\n",
    "# Parameters\n",
    "mlp_net.collect_params().initialize(mx.init.Xavier(magnitude=2.24), ctx=mlp_ctx)\n",
    "# trainer\n",
    "trainer = gluon.Trainer(mlp_net.collect_params(), 'sgd', {'learning_rate': .1})\n",
    "# likelihood\n",
    "poisson_ll = Poisson()\n",
    "\n"
   ]
  },
  {
   "cell_type": "code",
   "execution_count": 23,
   "metadata": {
    "collapsed": true
   },
   "outputs": [],
   "source": [
    "\n",
    "\n",
    "batch_size = 5\n",
    "train_data = gluon.data.DataLoader(\n",
    "    gluon.data.ArrayDataset(features, target),\n",
    "    batch_size=batch_size, shuffle=True)\n",
    "\n"
   ]
  },
  {
   "cell_type": "code",
   "execution_count": 24,
   "metadata": {},
   "outputs": [
    {
     "name": "stdout",
     "output_type": "stream",
     "text": [
      "Epoch 0. Loss: -526.9359469413757\n",
      "Epoch 10. Loss: -658.9888117313385\n",
      "Epoch 20. Loss: -674.360653758049\n",
      "Epoch 30. Loss: -682.8095963001251\n",
      "Epoch 40. Loss: -690.6973022222519\n",
      "Epoch 50. Loss: -701.3677894473076\n",
      "Epoch 60. Loss: -722.4106270670891\n",
      "Epoch 70. Loss: -734.8505492210388\n",
      "Epoch 80. Loss: -743.4608011245728\n",
      "Epoch 90. Loss: -752.7196062207222\n",
      "sequential0_dense0_weight \n",
      "[[0.59005   2.3756285]]\n",
      "<NDArray 1x2 @cpu(0)>\n",
      "sequential0_dense0_bias \n",
      "[3.283443]\n",
      "<NDArray 1 @cpu(0)>\n"
     ]
    }
   ],
   "source": [
    "epochs = 100\n",
    "smoothing_constant = .05\n",
    "\n",
    "for e in range(epochs):\n",
    "    cumulative_loss = 0\n",
    "    for i, (data, label) in enumerate(train_data):\n",
    "        data = data.as_in_context(mlp_ctx)\n",
    "        label = label.as_in_context(mlp_ctx)\n",
    "        with autograd.record():\n",
    "            output = mlp_net(data)\n",
    "            #print(output)\n",
    "            #loss = square_loss(output, label)\n",
    "            loss = poisson_ll(output, label)\n",
    "            loss.backward()\n",
    "        trainer.step(data.shape[0])\n",
    "        cumulative_loss += nd.sum(loss).asscalar()\n",
    "    if e % 10 ==0:\n",
    "        print(\"Epoch %s. Loss: %s\" % (e, cumulative_loss))\n",
    "    \n",
    "for param in params.values():\n",
    "    print(param.name,param.data())"
   ]
  },
  {
   "cell_type": "code",
   "execution_count": 25,
   "metadata": {},
   "outputs": [
    {
     "ename": "ValueError",
     "evalue": "operands could not be broadcast together with remapped shapes[original->remapped]: (1, 1) and requested shape (1,)",
     "output_type": "error",
     "traceback": [
      "\u001b[1;31m---------------------------------------------------------------------------\u001b[0m",
      "\u001b[1;31mValueError\u001b[0m                                Traceback (most recent call last)",
      "\u001b[1;32m<ipython-input-25-93cc3482d058>\u001b[0m in \u001b[0;36m<module>\u001b[1;34m()\u001b[0m\n\u001b[0;32m      6\u001b[0m fct = forecast_poisson(mlp_net,target[train_length-2],\n\u001b[0;32m      7\u001b[0m                             \u001b[0mfeatures_mean\u001b[0m\u001b[1;33m,\u001b[0m \u001b[0mfeatures_std\u001b[0m\u001b[1;33m,\u001b[0m\u001b[1;33m\u001b[0m\u001b[0m\n\u001b[1;32m----> 8\u001b[1;33m                             forecast_length, train_length) \n\u001b[0m\u001b[0;32m      9\u001b[0m \u001b[1;31m# prediction interval\u001b[0m\u001b[1;33m\u001b[0m\u001b[1;33m\u001b[0m\u001b[0m\n\u001b[0;32m     10\u001b[0m interval = np.concatenate((inverse_logistic(fct - 1.65*se_fit).asnumpy(),\n",
      "\u001b[1;32m<ipython-input-20-add4c7b619f3>\u001b[0m in \u001b[0;36mforecast_poisson\u001b[1;34m(net, last_obs, features_mean, features_std, forecast_length, train_length)\u001b[0m\n\u001b[0;32m     13\u001b[0m         \u001b[1;31m# forecast\u001b[0m\u001b[1;33m\u001b[0m\u001b[1;33m\u001b[0m\u001b[0m\n\u001b[0;32m     14\u001b[0m         \u001b[0mfct\u001b[0m \u001b[1;33m=\u001b[0m \u001b[0mnet\u001b[0m\u001b[1;33m(\u001b[0m\u001b[0mfct_feat\u001b[0m\u001b[1;33m)\u001b[0m\u001b[1;33m\u001b[0m\u001b[0m\n\u001b[1;32m---> 15\u001b[1;33m         \u001b[0mforecast\u001b[0m\u001b[1;33m[\u001b[0m\u001b[0mt\u001b[0m\u001b[1;33m,\u001b[0m\u001b[1;33m]\u001b[0m \u001b[1;33m=\u001b[0m \u001b[0mfct\u001b[0m\u001b[1;33m\u001b[0m\u001b[0m\n\u001b[0m\u001b[0;32m     16\u001b[0m         \u001b[0mprev_obs\u001b[0m \u001b[1;33m=\u001b[0m \u001b[0minverse_logistic\u001b[0m\u001b[1;33m(\u001b[0m\u001b[0mfct\u001b[0m\u001b[1;33m)\u001b[0m\u001b[1;33m\u001b[0m\u001b[0m\n\u001b[0;32m     17\u001b[0m     \u001b[1;32mreturn\u001b[0m \u001b[0mforecast\u001b[0m\u001b[1;33m\u001b[0m\u001b[0m\n",
      "\u001b[1;32m~\\AppData\\Local\\Continuum\\anaconda3\\lib\\site-packages\\mxnet\\ndarray\\ndarray.py\u001b[0m in \u001b[0;36m__setitem__\u001b[1;34m(self, key, value)\u001b[0m\n\u001b[0;32m    435\u001b[0m         \u001b[0mindexing_dispatch_code\u001b[0m \u001b[1;33m=\u001b[0m \u001b[0m_get_indexing_dispatch_code\u001b[0m\u001b[1;33m(\u001b[0m\u001b[0mkey\u001b[0m\u001b[1;33m)\u001b[0m\u001b[1;33m\u001b[0m\u001b[0m\n\u001b[0;32m    436\u001b[0m         \u001b[1;32mif\u001b[0m \u001b[0mindexing_dispatch_code\u001b[0m \u001b[1;33m==\u001b[0m \u001b[0m_NDARRAY_BASIC_INDEXING\u001b[0m\u001b[1;33m:\u001b[0m\u001b[1;33m\u001b[0m\u001b[0m\n\u001b[1;32m--> 437\u001b[1;33m             \u001b[0mself\u001b[0m\u001b[1;33m.\u001b[0m\u001b[0m_set_nd_basic_indexing\u001b[0m\u001b[1;33m(\u001b[0m\u001b[0mkey\u001b[0m\u001b[1;33m,\u001b[0m \u001b[0mvalue\u001b[0m\u001b[1;33m)\u001b[0m\u001b[1;33m\u001b[0m\u001b[0m\n\u001b[0m\u001b[0;32m    438\u001b[0m         \u001b[1;32melif\u001b[0m \u001b[0mindexing_dispatch_code\u001b[0m \u001b[1;33m==\u001b[0m \u001b[0m_NDARRAY_ADVANCED_INDEXING\u001b[0m\u001b[1;33m:\u001b[0m\u001b[1;33m\u001b[0m\u001b[0m\n\u001b[0;32m    439\u001b[0m             \u001b[0mself\u001b[0m\u001b[1;33m.\u001b[0m\u001b[0m_set_nd_advanced_indexing\u001b[0m\u001b[1;33m(\u001b[0m\u001b[0mkey\u001b[0m\u001b[1;33m,\u001b[0m \u001b[0mvalue\u001b[0m\u001b[1;33m)\u001b[0m\u001b[1;33m\u001b[0m\u001b[0m\n",
      "\u001b[1;32m~\\AppData\\Local\\Continuum\\anaconda3\\lib\\site-packages\\mxnet\\ndarray\\ndarray.py\u001b[0m in \u001b[0;36m_set_nd_basic_indexing\u001b[1;34m(self, key, value)\u001b[0m\n\u001b[0;32m    744\u001b[0m                                            step=steps, scalar=float(value))\n\u001b[0;32m    745\u001b[0m         \u001b[1;32melse\u001b[0m\u001b[1;33m:\u001b[0m\u001b[1;33m\u001b[0m\u001b[0m\n\u001b[1;32m--> 746\u001b[1;33m             \u001b[0mvalue_nd\u001b[0m \u001b[1;33m=\u001b[0m \u001b[0mself\u001b[0m\u001b[1;33m.\u001b[0m\u001b[0m_prepare_value_nd\u001b[0m\u001b[1;33m(\u001b[0m\u001b[0mvalue\u001b[0m\u001b[1;33m,\u001b[0m \u001b[0mvshape\u001b[0m\u001b[1;33m)\u001b[0m\u001b[1;33m\u001b[0m\u001b[0m\n\u001b[0m\u001b[0;32m    747\u001b[0m             \u001b[1;32mif\u001b[0m \u001b[0mvshape\u001b[0m \u001b[1;33m!=\u001b[0m \u001b[0moshape\u001b[0m\u001b[1;33m:\u001b[0m\u001b[1;33m\u001b[0m\u001b[0m\n\u001b[0;32m    748\u001b[0m                 \u001b[0mvalue_nd\u001b[0m \u001b[1;33m=\u001b[0m \u001b[0mvalue_nd\u001b[0m\u001b[1;33m.\u001b[0m\u001b[0mreshape\u001b[0m\u001b[1;33m(\u001b[0m\u001b[0moshape\u001b[0m\u001b[1;33m)\u001b[0m\u001b[1;33m\u001b[0m\u001b[0m\n",
      "\u001b[1;32m~\\AppData\\Local\\Continuum\\anaconda3\\lib\\site-packages\\mxnet\\ndarray\\ndarray.py\u001b[0m in \u001b[0;36m_prepare_value_nd\u001b[1;34m(self, value, vshape)\u001b[0m\n\u001b[0;32m    667\u001b[0m                                 ' object %s of type %s' % (str(value), str(type(value))))\n\u001b[0;32m    668\u001b[0m         \u001b[1;32mif\u001b[0m \u001b[0mvalue_nd\u001b[0m\u001b[1;33m.\u001b[0m\u001b[0mshape\u001b[0m \u001b[1;33m!=\u001b[0m \u001b[0mvshape\u001b[0m\u001b[1;33m:\u001b[0m\u001b[1;33m\u001b[0m\u001b[0m\n\u001b[1;32m--> 669\u001b[1;33m             \u001b[0mvalue_nd\u001b[0m \u001b[1;33m=\u001b[0m \u001b[0mvalue_nd\u001b[0m\u001b[1;33m.\u001b[0m\u001b[0mbroadcast_to\u001b[0m\u001b[1;33m(\u001b[0m\u001b[0mvshape\u001b[0m\u001b[1;33m)\u001b[0m\u001b[1;33m\u001b[0m\u001b[0m\n\u001b[0m\u001b[0;32m    670\u001b[0m         \u001b[1;32mreturn\u001b[0m \u001b[0mvalue_nd\u001b[0m\u001b[1;33m\u001b[0m\u001b[0m\n\u001b[0;32m    671\u001b[0m \u001b[1;33m\u001b[0m\u001b[0m\n",
      "\u001b[1;32m~\\AppData\\Local\\Continuum\\anaconda3\\lib\\site-packages\\mxnet\\ndarray\\ndarray.py\u001b[0m in \u001b[0;36mbroadcast_to\u001b[1;34m(self, shape)\u001b[0m\n\u001b[0;32m   1587\u001b[0m                   \u001b[1;34m'[original->remapped]: {} and requested shape {}'\u001b[0m\u001b[1;33m.\u001b[0m\u001b[0mformat\u001b[0m\u001b[1;33m(\u001b[0m\u001b[0mcur_shape\u001b[0m\u001b[1;33m,\u001b[0m \u001b[0mshape\u001b[0m\u001b[1;33m)\u001b[0m\u001b[1;33m\u001b[0m\u001b[0m\n\u001b[0;32m   1588\u001b[0m         \u001b[1;32mif\u001b[0m \u001b[0mlen\u001b[0m\u001b[1;33m(\u001b[0m\u001b[0mshape\u001b[0m\u001b[1;33m)\u001b[0m \u001b[1;33m<\u001b[0m \u001b[0mlen\u001b[0m\u001b[1;33m(\u001b[0m\u001b[0mcur_shape\u001b[0m\u001b[1;33m)\u001b[0m\u001b[1;33m:\u001b[0m\u001b[1;33m\u001b[0m\u001b[0m\n\u001b[1;32m-> 1589\u001b[1;33m             \u001b[1;32mraise\u001b[0m \u001b[0mValueError\u001b[0m\u001b[1;33m(\u001b[0m\u001b[0merr_str\u001b[0m\u001b[1;33m)\u001b[0m\u001b[1;33m\u001b[0m\u001b[0m\n\u001b[0m\u001b[0;32m   1590\u001b[0m         \u001b[0mcur_shape\u001b[0m \u001b[1;33m=\u001b[0m \u001b[1;33m(\u001b[0m\u001b[1;36m1\u001b[0m\u001b[1;33m,\u001b[0m\u001b[1;33m)\u001b[0m \u001b[1;33m*\u001b[0m \u001b[1;33m(\u001b[0m\u001b[0mlen\u001b[0m\u001b[1;33m(\u001b[0m\u001b[0mshape\u001b[0m\u001b[1;33m)\u001b[0m \u001b[1;33m-\u001b[0m \u001b[0mlen\u001b[0m\u001b[1;33m(\u001b[0m\u001b[0mcur_shape\u001b[0m\u001b[1;33m)\u001b[0m\u001b[1;33m)\u001b[0m \u001b[1;33m+\u001b[0m \u001b[0mcur_shape\u001b[0m\u001b[1;33m\u001b[0m\u001b[0m\n\u001b[0;32m   1591\u001b[0m         \u001b[0mcur_shape_arr\u001b[0m \u001b[1;33m=\u001b[0m \u001b[0mnp\u001b[0m\u001b[1;33m.\u001b[0m\u001b[0marray\u001b[0m\u001b[1;33m(\u001b[0m\u001b[0mcur_shape\u001b[0m\u001b[1;33m)\u001b[0m\u001b[1;33m\u001b[0m\u001b[0m\n",
      "\u001b[1;31mValueError\u001b[0m: operands could not be broadcast together with remapped shapes[original->remapped]: (1, 1) and requested shape (1,)"
     ]
    }
   ],
   "source": [
    "# fit and residual standard errors\n",
    "fit = mlp_net(features)\n",
    "se_fit_mlp = (target - fit).asnumpy().std()\n",
    "\n",
    "# forecast\n",
    "fct = forecast_poisson(mlp_net,target[train_length-2],\n",
    "                            features_mean, features_std,\n",
    "                            forecast_length, train_length) \n",
    "# prediction interval\n",
    "interval = np.concatenate((inverse_logistic(fct - 1.65*se_fit).asnumpy(),\n",
    "                           inverse_logistic(fct + 1.65*se_fit).asnumpy()), axis=1)\n",
    "\n",
    "plot_forecast_interval(ts[1:],inverse_logistic(fit),inverse_logistic(fct),interval)"
   ]
  },
  {
   "cell_type": "code",
   "execution_count": null,
   "metadata": {
    "collapsed": true
   },
   "outputs": [],
   "source": []
  }
 ],
 "metadata": {
  "kernelspec": {
   "display_name": "Python 3",
   "language": "python",
   "name": "python3"
  },
  "language_info": {
   "codemirror_mode": {
    "name": "ipython",
    "version": 3
   },
   "file_extension": ".py",
   "mimetype": "text/x-python",
   "name": "python",
   "nbconvert_exporter": "python",
   "pygments_lexer": "ipython3",
   "version": "3.6.3"
  }
 },
 "nbformat": 4,
 "nbformat_minor": 2
}

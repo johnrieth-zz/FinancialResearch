{
 "cells": [
  {
   "cell_type": "code",
   "execution_count": 1,
   "metadata": {},
   "outputs": [
    {
     "name": "stderr",
     "output_type": "stream",
     "text": [
      "C:\\Users\\john\\AppData\\Local\\Continuum\\anaconda3\\lib\\site-packages\\h5py\\__init__.py:34: FutureWarning: Conversion of the second argument of issubdtype from `float` to `np.floating` is deprecated. In future, it will be treated as `np.float64 == np.dtype(float).type`.\n",
      "  from ._conv import register_converters as _register_converters\n",
      "C:\\Users\\john\\AppData\\Local\\Continuum\\anaconda3\\lib\\site-packages\\urllib3\\contrib\\pyopenssl.py:46: DeprecationWarning: OpenSSL.rand is deprecated - you should use os.urandom instead\n",
      "  import OpenSSL.SSL\n"
     ]
    }
   ],
   "source": [
    "import mxnet as mx\n",
    "from mxnet import nd, autograd\n",
    "import numpy as np\n",
    "mx.random.seed(2)\n",
    "ctx = mx.cpu()\n",
    "\n",
    "with open(\"nlg/mifid2.txt\") as f:\n",
    "    mifid = f.read()"
   ]
  },
  {
   "cell_type": "code",
   "execution_count": 2,
   "metadata": {
    "collapsed": true
   },
   "outputs": [],
   "source": [
    "character_list = list(set(mifid))\n",
    "vocab_size = len(character_list)\n",
    "character_dict = {}\n",
    "for e, char in enumerate(character_list):\n",
    "    character_dict[char] = e\n",
    "time_numerical = [character_dict[char] for char in mifid]"
   ]
  },
  {
   "cell_type": "code",
   "execution_count": 3,
   "metadata": {
    "collapsed": true
   },
   "outputs": [],
   "source": [
    "def one_hots(numerical_list, vocab_size=vocab_size):\n",
    "    result = nd.zeros((len(numerical_list), vocab_size), ctx=ctx)\n",
    "    for i, idx in enumerate(numerical_list):\n",
    "        result[i, idx] = 1.0\n",
    "    return result\n",
    "def textify(embedding):\n",
    "    result = \"\"\n",
    "    indices = nd.argmax(embedding, axis=1).asnumpy()\n",
    "    for idx in indices:\n",
    "        result += character_list[int(idx)]\n",
    "    return result"
   ]
  },
  {
   "cell_type": "code",
   "execution_count": 4,
   "metadata": {
    "collapsed": true
   },
   "outputs": [],
   "source": [
    "batch_size = 32\n",
    "seq_length = 64\n",
    "num_samples = (len(time_numerical) - 1) // seq_length\n",
    "dataset = one_hots(time_numerical[:seq_length*num_samples]).reshape((num_samples, seq_length, vocab_size))\n",
    "num_batches = len(dataset) // batch_size\n",
    "train_data = dataset[:num_batches*batch_size].reshape((num_batches, batch_size, seq_length, vocab_size))\n",
    "# swap batch_size and seq_length axis to make later access easier\n",
    "train_data = nd.swapaxes(train_data, 1, 2)\n",
    "\n",
    "labels = one_hots(time_numerical[1:seq_length*num_samples+1])\n",
    "train_label = labels.reshape((num_batches, batch_size, seq_length, vocab_size))\n",
    "train_label = nd.swapaxes(train_label, 1, 2)"
   ]
  },
  {
   "cell_type": "code",
   "execution_count": 5,
   "metadata": {
    "collapsed": true
   },
   "outputs": [],
   "source": [
    "num_inputs = vocab_size\n",
    "num_hidden = 256\n",
    "num_outputs = vocab_size\n",
    "\n",
    "########################\n",
    "#  Weights connecting the inputs to the hidden layer\n",
    "########################\n",
    "Wxg = nd.random_normal(shape=(num_inputs,num_hidden), ctx=ctx) * .01\n",
    "Wxi = nd.random_normal(shape=(num_inputs,num_hidden), ctx=ctx) * .01\n",
    "Wxf = nd.random_normal(shape=(num_inputs,num_hidden), ctx=ctx) * .01\n",
    "Wxo = nd.random_normal(shape=(num_inputs,num_hidden), ctx=ctx) * .01\n",
    "\n",
    "########################\n",
    "#  Recurrent weights connecting the hidden layer across time steps\n",
    "########################\n",
    "Whg = nd.random_normal(shape=(num_hidden,num_hidden), ctx=ctx)* .01\n",
    "Whi = nd.random_normal(shape=(num_hidden,num_hidden), ctx=ctx)* .01\n",
    "Whf = nd.random_normal(shape=(num_hidden,num_hidden), ctx=ctx)* .01\n",
    "Who = nd.random_normal(shape=(num_hidden,num_hidden), ctx=ctx)* .01\n",
    "\n",
    "########################\n",
    "#  Bias vector for hidden layer\n",
    "########################\n",
    "bg = nd.random_normal(shape=num_hidden, ctx=ctx) * .01\n",
    "bi = nd.random_normal(shape=num_hidden, ctx=ctx) * .01\n",
    "bf = nd.random_normal(shape=num_hidden, ctx=ctx) * .01\n",
    "bo = nd.random_normal(shape=num_hidden, ctx=ctx) * .01\n",
    "\n",
    "########################\n",
    "# Weights to the output nodes\n",
    "########################\n",
    "Why = nd.random_normal(shape=(num_hidden,num_outputs), ctx=ctx) * .01\n",
    "by = nd.random_normal(shape=num_outputs, ctx=ctx) * .01"
   ]
  },
  {
   "cell_type": "code",
   "execution_count": 6,
   "metadata": {
    "collapsed": true
   },
   "outputs": [],
   "source": [
    "params = [Wxg, Wxi, Wxf, Wxo, Whg, Whi, Whf, Who, bg, bi, bf, bo, Why, by]\n",
    "\n",
    "for param in params:\n",
    "    param.attach_grad()\n",
    "def softmax(y_linear, temperature=1.0):\n",
    "    lin = (y_linear-nd.max(y_linear)) / temperature\n",
    "    exp = nd.exp(lin)\n",
    "    partition = nd.sum(exp, axis=0, exclude=True).reshape((-1,1))\n",
    "    return exp / partition\n",
    "def lstm_rnn(inputs, h, c, temperature=1.0):\n",
    "    outputs = []\n",
    "    for X in inputs:\n",
    "        g = nd.tanh(nd.dot(X, Wxg) + nd.dot(h, Whg) + bg)\n",
    "        i = nd.sigmoid(nd.dot(X, Wxi) + nd.dot(h, Whi) + bi)\n",
    "        f = nd.sigmoid(nd.dot(X, Wxf) + nd.dot(h, Whf) + bf)\n",
    "        o = nd.sigmoid(nd.dot(X, Wxo) + nd.dot(h, Who) + bo)\n",
    "        #######################\n",
    "        #\n",
    "        #######################\n",
    "        c = f * c + i * g\n",
    "        h = o * nd.tanh(c)\n",
    "        #######################\n",
    "        #\n",
    "        #######################\n",
    "        yhat_linear = nd.dot(h, Why) + by\n",
    "        yhat = softmax(yhat_linear, temperature=temperature)\n",
    "        outputs.append(yhat)\n",
    "    return (outputs, h, c)"
   ]
  },
  {
   "cell_type": "code",
   "execution_count": 7,
   "metadata": {
    "collapsed": true
   },
   "outputs": [],
   "source": [
    "def cross_entropy(yhat, y):\n",
    "    return - nd.mean(nd.sum(y * nd.log(yhat), axis=0, exclude=True))\n",
    "\n",
    "def average_ce_loss(outputs, labels):\n",
    "    assert(len(outputs) == len(labels))\n",
    "    total_loss = 0.\n",
    "    for (output, label) in zip(outputs,labels):\n",
    "        total_loss = total_loss + cross_entropy(output, label)\n",
    "    return total_loss / len(outputs)\n",
    "def SGD(params, lr):\n",
    "    for param in params:\n",
    "        param[:] = param - lr * param.grad\n",
    "        \n",
    "def sample(prefix, num_chars, temperature=1.0):\n",
    "    #####################################\n",
    "    # Initialize the string that we'll return to the supplied prefix\n",
    "    #####################################\n",
    "    string = prefix\n",
    "\n",
    "    #####################################\n",
    "    # Prepare the prefix as a sequence of one-hots for ingestion by RNN\n",
    "    #####################################\n",
    "    prefix_numerical = [character_dict[char] for char in prefix]\n",
    "    input = one_hots(prefix_numerical)\n",
    "\n",
    "    #####################################\n",
    "    # Set the initial state of the hidden representation ($h_0$) to the zero vector\n",
    "    #####################################\n",
    "    h = nd.zeros(shape=(1, num_hidden), ctx=ctx)\n",
    "    c = nd.zeros(shape=(1, num_hidden), ctx=ctx)\n",
    "\n",
    "    #####################################\n",
    "    # For num_chars iterations,\n",
    "    #     1) feed in the current input\n",
    "    #     2) sample next character from from output distribution\n",
    "    #     3) add sampled character to the decoded string\n",
    "    #     4) prepare the sampled character as a one_hot (to be the next input)\n",
    "    #####################################\n",
    "    for i in range(num_chars):\n",
    "        outputs, h, c = lstm_rnn(input, h, c, temperature=temperature)\n",
    "        choice = np.random.choice(vocab_size, p=outputs[-1][0].asnumpy())\n",
    "        string += character_list[choice]\n",
    "        input = one_hots([choice])\n",
    "    return string"
   ]
  },
  {
   "cell_type": "code",
   "execution_count": 8,
   "metadata": {},
   "outputs": [
    {
     "name": "stdout",
     "output_type": "stream",
     "text": [
      "Epoch 0. Loss: 3.2066613358610434\n",
      "The committee te te te te te te te te te te te te te te te te te te te te te te te te te te te te te te te te te te te te on te te te te te te te te te te te te te te te te te te te te te te te te te te te te te te te te te te te te te te te tin on te te te te te te te te te te te te te te te te te te te te te te te te te te te te te te te te te te te te te te te te te te te te te te te tin te te te te te te te te te te te te te te te te te te te te te te te te te te te te te te te te te te te te te te te te te tite te te te te te te te te te te te te te te te te te te te te te te te te te te te te te te te te te te te te te te te te te te te te te te te te te te te te te te te te te te te te te te te te te te te te te te te te te te te te on te te te te te te te te te te te te te te te te te te te te te te te te te te te te te te te te te te te te te te te te te te te te te te te te te te te te te te te te te te te te te te te te te te te te te te te tin te te te te te te te te te te te te on te te te te ten te te te te \n",
      "Epoch 1. Loss: 2.6369217683081345\n",
      "The committee the the the the the the the the the the the the the the the the the the the the the the the the the the the the the the the the the the the the the the the the the the the the the the the the the the the the the the the the the the the the the the the the the the the the the the the the the the the the the the the the the the the the the the the the the the the the the the the the the the the the the the the the the the the the the the the the the the the the the the the the the the the the the the the the the the the the the the the the the the the the the the the the the the the the the the the the the the the the the the the the the the the the the the the the the the the the the the the the the the the the the the the the the the the the the the the the the the the the the the the the the the the the the the the the the the the the the the the the the the the the the the the the the the the the the the the the the the the the the the the the the the the the the the the the the the the the the the the the\n",
      "Epoch 2. Loss: 2.2960835153257144\n",
      "The committee the the the the the the the the the the the the the the the the the the the the the the the the the the the the the the the the the the the the the the the the the the the the the the the the the the the the the the the the the the the the the the the the the the the the the the the the the the the the the the the the the the the the the the the the the the the the the the the the the the the the the the the the the the the the the the the the the the the the the the the the the the the the the the the the the the the the the to the the the the the the the the the the the the the the the the the the the the the the the the the the the the the the the the the the the the the the the the the the the the the the the the the the the the the the the the the the the the the the the the the the the the the the the the the the the the the the the the the the the the the the the the the the the the the the the the the the the the the the the the the the the the the the the the the the the the the the the the the the \n",
      "Epoch 3. Loss: 2.0330940868887133\n",
      "The committee to the the the the the the the the provest of the promest to the the the the the the the the provest of the the the the the the provest and the the the the the the the the the the the provest of the the the the the the the the provest the the the the the the the the the the the the provests of the the the the the provest of the the the the provest of the provest of the the the the provest the the the the the the the provest and the the the the the the the provestment and the the provest and the the promest the the the the the the the the the the the the the the the the the the the the provest and the the the the the the provest of the provest the the the the the the the the the the provest the surest and the the the the the the the the the the the the the the the the the provest of the the the the the provests of the the provest and the the the provest and the the the contion and the the the the the provest and the the the the the the the the the the the the the provest of the the provest of the the the the \n",
      "Epoch 4. Loss: 1.813578448765665\n",
      "The committee and the to the conses of the conses of the provestment and the the to the provestment and the trest to the conses of the conses of the provest to the conses and the to the conses of the the conses of the the to the conses of the the to the conses of the the conses of the conses of the conses of the conses of the const the competent authorities and the the to the conses of the conses of the conses of the conses of the the constive compered to the conses of the conses of the to the provest to the conses of the the to the provest to the conses of the conses of the const the conses of the conses of the to the provestment and the conses and the to the conses of the the to the provestment and the conses of the const the conses of the conses of the the conses of the conses of the conses of the the to the constive to the conses of the const the consement and the conses of the provestment and the the provest to the conses of the conses of the the trest to the conses of the conses of the conses of the convestment and \n",
      "Epoch 5. Loss: 1.646117225286279\n",
      "The committee and the constion of the constration of the consure the const compered to the constration of the trest of the consicle 201) of the constration of the constroment and the consure the transement and the consicle 201) of the constration of the consers of the constration of the constion of the consure the constion of the consure the consure the provess of the constion of the consure the constration of the constration of the consure the consers of the const to the consure the constration of the consure the transemment and the consure the trest of the constration of the constration of the consure the constion of the consing the constration of the constration of the constration and the constration of the constion of the consure the constive to the constration of the constration of the transement and the constration and the consure the constration of the constion of the constration of the constion of the constration of the constration of the constration of the constration of the constrons commer States and the constr\n",
      "Epoch 6. Loss: 1.5102632391206734\n",
      "The committee and the consures or and the consures of the consure the consures of the provession of the contral comments and the consures or the consure the consure the consures and the consure the consures of the consure the transaction of the consures and the consures of the consitions of the consure the consures or and the consures and the consures or and the consures or the consure the consures of the consures of the consures and the consure the consures and the consures and the consures of the consures or and the consures and the consure the transactions of the consure the consure the consures and the consures of the consures and the consures of the provession of the consures and the consures and the consures and the consures of the transaction of the consures and the consures or and the consure the transaction of the consures or and the consures of the consures of the consures and the consures of the competent authority of the consure the consure the consure the transaction of the consures or and the consures of the\n",
      "Epoch 7. Loss: 1.4064464789923021\n",
      "The committee and the consures or the contral comments and the transactions of the consures or the propession of the consures and the consures or the consures and the consitions of the provessional consures and the consitions of the contract of the consitions of the consures or the consures and the contral states and the contract of the consures and the consures or the transactions of the consures and the contract of the consures and the consitions of the consitions of the consures or the consures or the consures or the consures or the consures and the consitions of the consures or the consures of the consures and the consures and the consures or the contract of the consures and the contral states and the consures and the contract of the consures and the consures and the consures and the contral states and the contract of the consures and the consures and the competent authority of the consures and the contral states and the consures and the contract of the consures and the consures and the contral states for the consures\n"
     ]
    },
    {
     "name": "stdout",
     "output_type": "stream",
     "text": [
      "Epoch 8. Loss: 1.3270543673914932\n",
      "The committee and the contract of the consures or the consult the contract of the consitions of the consitions of the provessional compers of the consures and the contract of the contract of the contract of the contract of the provessional compers to the propessional consures and the contract of the provessional compers of the contract of the contract of the contract of the contract of the contract of the prope of the consures or the contract and in the consider the considers to the contract of the consitions of the contract of the contract of the contract of the contract of the provessional compers to the provessional contract to the contract of the consitions of the considers to the contract of the contract of the consures or the consures or the provessional compers to the consitions of the consitions of the consures or the consitions of the contract and of the contract of the provessional investment firm of the contract and the contract of the contract of the consures or the consures or the contract of the contract of \n",
      "Epoch 9. Loss: 1.2401578007716034\n",
      "The committee and the contract subparagraph of the contract subparagraph in accordance with Article 20(1) of the contract subparagraph in accordance with the contract subparagraph of the contract subparagraph of the contract subparagraph of the contract of the considered to the contract subparagraph of the contract subparage of the contract subparagraph in accordance with the firm of the contract subparagraph of the contract subparagraph of the contract subparagraph in accordance with Article 20(1) of the contract subparagraph of the contract subparagraph of the contract of the contract subparagraph of the contract of the contract subparagraph in accordance with Article 20(1) of the contract subparagraph of the contract subparagraph of the contract subparagraph of the contract subparagraph of the contract of the contract subparagraph of the contract subparagraph of the contract subparagraph in accordance with the contract subparagraph of the contract subparagraph of the contract subparagraph of the provessional competent \n",
      "Epoch 10. Loss: 1.2010847910048386\n",
      "The committee and the contract subparagraph in accordance with the contract subparagraph of the contract subparagraph of the contract subparagraph in accordance with Article 20(1) of the contract subparagraph of the contract subparagraph of the contract subparagraph of the contract subparagraph of the contract subparagraph of the contract subparagraph in accordance with Article 20(1) of the contract subparagraph in accordance with the contract of the contract subparagraph in accordance with Article 20(1) of the contract subparagraph in accordance with Article 20(1) of the Council of the contract subparagraph of the provessional clients of the contract subparagraph of the contract subparagraph in accordance with Article 20(1) of the contract subparagraph in accordance with the contract subparagraph of the contract subparagraph of the contract subparagraph in accordance with the provisions of the contract subparagraph in accordance with Article 13(1) of the contract subparagraph of the contract subparagraph of the contract \n",
      "Epoch 11. Loss: 1.1719929010321046\n",
      "The committee to the conterures of the contract subparagraph in accordance with Article 20(1) of the contract subparagraph in accordance with Article 20(1) of the Council of the competent authorities of the contract subparagraph of the contract subparagraph investment firms and the contract subparagraph in accordance with Article 20(1) and and the contract subparagraph of the contract subparagraph in accordance with the contract subparagraph in accordance with Article 20(1) of the contract subparagraph in accordance with Article 20(1) and and the contract subparagraph investment firms and the contract subparagraph in accordance with Article 20(1) of the contract subparagraph investment firms and the contract subparagraph in accordance with Article 20(1) of the contract subparagraph in accordance with Article 20(1) of the contract subparagraph of the contract subparagraph in accordance with the contract subparagraph in accordance with the contract subparagraph in accordance with Article 20(1) of the contract subparagraph i\n",
      "Epoch 12. Loss: 1.1447290439556583\n",
      "The committee to the competent authorities of the contract subparagraph investment firms and the contract subparagraph in accordance with the contract subparagraph in accordance with the contract subparagraph investment firms and the competent authorities of the contract subparagraph in accordance with Article 19 of the contract subparagraph in accordance with the contract subparagraph in accordance with the contract subparagraph in accordance with the contract subparagraph investment firms and the contract to the contract subparagraph in accordance with the contract subparagraph in accordance with the contract subparagraph investment firms or the contract subparagraph in accordance with Article 14 of the contract subparagraph investment firms and the contract subparagraph in accordance with Article 14 of the contract subparagraph investment firms and the contract subparagraph of the contract subparagraph investment firms and the contract subparagraph of the provisions of the contract subparagraph in accordance with the c\n",
      "Epoch 13. Loss: 1.121812206267586\n",
      "The committee to the competent authorities of the competent authorities of the contract subparagraph in accordance with the contract subparagraph in accordance with the contract subparagraph in accordance with the contract subparagraph in accordance with the contract subparagraph in accordance with the contract subparagraph in accordance with the contract subparagraph in accordance with the contract subparagraph in accordance with the contract subparagraph in accordance with the contract subparagraph in accordance with the contract subparagraph in accordance with the contract subparagraph in accordance with Article 20(1) of the contract subparagraph in accordance with the contract subparagraph in accordance with the contract subparagraph in accordance with the contract subparagraph in accordance with the contract subparagraph in accordance with the contract subparagraph in accordance with the contract subparagraph in accordance with the contract subparagraph in accordance with the conditions of the competent authorities o\n",
      "Epoch 14. Loss: 1.0988578860081752\n",
      "The committee to the contract subparagraph in accordance with the contract subparagraph in accordance with the contract subparagraph in accordance with the contract subparagraph in accordance with the contract subparagraph in accordance with the contract subparagraph in accordance with the contract subparagraph in accordance with the contract subparagraph in accordance with the contract subparagraph in accordance with the contract subparagraph in accordance with the conditions of the contract subparagraph in accordance with the contract subparagraph in accordance with the contract subparagraph in accordance with the contract subparagraph in accordance with the contract subparagraph in accordance with the firm of the conditions of the competent authorities of the contract subparagraph in accordance with the contract in the contract subparagraph in accordance with the contract subparagraph in accordance with the contract subparagraph in accordance with the contract subparagraph in accordance with the contract subparagraph i\n",
      "Epoch 15. Loss: 1.079197195116674\n",
      "The committee investment firms and provided to the contract in the contract subparagraph in accordance with the contract subparagraph in accordance with the contract subparagraph in accordance with the contract subparagraph in accordance with the contract subparagraph in accordance with the contract subparagraph in accordance with the contract subparagraph in accordance with the contract in the contract subparagraph in accordance with the contract subparagraph in accordance with the contract subparagraph in accordance with the contract subparagraph in accordance with the contract subparagraph in accordance with the contract subparagraph in accordance with the contract subparagraph in accordance with the contract subparagraph in accordance with the contract subparagraph in accordance with the contract subparagraph in accordance with the contract subparagraph in accordance with the contract subparagraph in accordance with the contract subparagraph in accordance with the contract in the contract subparagraph in accordance wi\n"
     ]
    },
    {
     "name": "stdout",
     "output_type": "stream",
     "text": [
      "Epoch 16. Loss: 1.0592461166681233\n",
      "The committee investment firms and provided to the condetions of the competent authority of the competent authorities of the conditions of the conditions of the contract in the first subparagraph in accordance with pritective and the contract subparagraph in accordance with the conditions of the conditions of the contract subparagraph in accordance with the conditions in the provisions of the competent authorities of the conditions of the conditions of the conditions of the conditions of the conditions of the conditions of the competent authorities of the conditions of the conditions of the contract subparagraph in accordance with the conditions of the conditions of the competent authorities of the conditions in the first subparagraph in accordance with prites and the contract subparagraph in accordance with the conditions in the contract subparagraph in accordance with the conditions of the conditions of the conditions of the conditions of the conditions of the conditions of the conditions of the conditions of the condit\n",
      "Epoch 17. Loss: 1.0411089922169818\n",
      "The committee investment firms and provided to the conditions of the competent authorities of the conditions of the contract subparagraph in accordance with the contract subparagraph in accordance with the condetions of the contract subparagraph in accordance with the conditions in the first subparagraph in accordance with the conditions in the first subparagraph in accordance with the contract subparagraph in accordance with the contract in the first subparagraph in accordance with the conditions of the conditions in the first subparagraph in accordance with the conditions of the conditions of the conditions of the conditions in the first subparagraph in accordance with Article 14 of the Council of the competent authorities of the conditions of the competent authorities and the contract subparagraph in accordance with the conditions of the competent authorities and the contract subparagraph in accordance with the conditions of the competent authorities and the contract subparagraph in accordance with the conditions of th\n",
      "Epoch 18. Loss: 1.0258761593877677\n",
      "The committee investment firm consult to the competent authorities of the contract subparagraph in accordance with the contract subparagraph in accordance with the contract subparagraph in accordance with the conditions of the competent authorities and the contract subparagraph in accordance with the conditions of the contract subparagraph in accordance with the contract subparagraph in accordance with the conditions of the contract subparagraph in accordance with the conditions of the contract subparagraph in accordance with the conditions of the contract subparagraph in accordance with Article 13(1) and provide the contract subparagraph in accordance with the contract subparagraph in accordance with the conditions of the conditions of the conditions of the conditions of the conditions of the contract subparagraph in accordance with the contract subparagraph in accordance with the conditions of the conditions of the contract subparagraph in accordance with the contract subparagraph in accordance with the contract subpara\n",
      "Epoch 19. Loss: 0.9920043231737129\n",
      "The committee investment firms and provided to the conditions of the competent authority of the competent authority of the competent authorities and the contract subparagraph in accordance with Article 13(1) and the contract subparagraph in accordance with Article 14 of Regulation (EU) No 100/2014 of the contract subparagraph in accordance with the conditions of the conditions in the first subparagraph in accordance with the conditions in the content of the competent authorities and the contract subparagraph in accordance with the conditions in the content authorities of the competent authorities of the conditions in the first subparagraph in accordance with the conditions in the content authorities of the competent authorities of the competent authority of the competent authorities of the conditions in the content authority of the competent authority of the competent authority of the competent authorities of the competent authority of the competent authority of the competent authority of the competent authority of the co\n",
      "Epoch 20. Loss: 0.9796421231321238\n",
      "The committee interests of the conditions in the content authorities of the competent authority of the competent authorities of the competent authority of the competent authorities and the provisions of the competent authority of the competent authorities of the competent authority of the competent authorities and the competent authority of the competent authority of the competent authority of the competent authorities of the competent authority of the competent authority of the competent authority of the competent authority of the competent authority of the competent authorities and the conditions in the content of the competent authority of the competent authority of the competent authorities and considered to be applied to the competent authorities and the conditions in the contract subparagraph in accordance with Article 13(1), Article 13(1) and the contract subparagraph in accordance with the conditions in the content of the competent authorities of the competent authority of the competent authority of the competent \n",
      "Epoch 21. Loss: 0.9705904981808834\n",
      "The committee investment firms and provided to the competent authorities and the conditions of the conditions in the content authorities of the competent authorities and the provisions of the conditions in the content authorities of the competent authority of the competent authority of the competent authorities of the competent authority of the competent authorities of the competent authorities of the competent authority of the competent authorities and the competent authority of the competent authorities of the competent authorities of the competent authorities and the provisions of the conditions in the contract subparagraph in accordance with the conditions in the content of the competent authority of the competent authorities and the provisions of the conditions in the content authorities of the competent authority of the competent authority of the competent authority of the competent authorities and the conditions of the conditions in the content authorities of the competent authorities of the competent authority of \n",
      "Epoch 22. Loss: 0.9622633719861434\n",
      "The committee interests of the conditions in the content authorities or provided to the competent authority of the competent authority of the competent authorities of the conditions for the purpose of such market operator or an investment firm and market operator of a trading venue to the conditions of the competent authority of the competent authority of the competent authority of the competent authority of the competent authorities and the contract subparagraph in accordance with the conditions of the competent authorities of the competent authority of the competent authorities and the provisions of the conditions in the conditions in the first subparagraph in accordance with the conditions of the competent authorities and the provisions of the competent authorities and the provisions of the conditions in the content of the conditions for the purposes of the contract subparagraph in accordance with the conditions of the competent authority of the competent authority of the competent authority of the competent authoritie\n",
      "Epoch 23. Loss: 0.9542525989716956\n",
      "The committee the conditions of the conditions in the content of the competent authority of the competent authorities of the competent authority of the competent authorities of the conditions in the content of the conditions for the purpose of provided to the competent authority of the competent authority of the competent authorities of the competent authority of the competent authority of the competent authorities of the competent authority of the competent authorities of the conditions for the provisions of the conditions of the competent authorities of the competent authority of the competent authorities of the competent authorities of the conditions in the content authorities of the competent authorities of the conditions of the conditions of the conditions of the conditions for the provisions of the conditions for the purposes of the competent authorities and the conditions for the provisions of the competent authority of the competent authority of the competent authorities of the competent authority of the competent\n"
     ]
    },
    {
     "name": "stdout",
     "output_type": "stream",
     "text": [
      "Epoch 24. Loss: 0.9464266509444252\n",
      "The committee investment firms and provided for the provisions of the competent authorities and the conditions for the provisions of the conditions of the conditions for the provisions of the conditions of the conditions of the conditions of the conditions for the purpose of provided to the competent authority of the competent authorities and the conditions for the provisions of the conditions in the content of the competent authorities of the competent authority of the competent authority of the competent authority of the competent authority of the competent authorities of the conditions for the provisions of the conditions for the provisions of the competent authority of the competent authority of the competent authority of the competent authorities of the competent authority of the competent authority of the competent authority of the competent authorities of the conditions for the purposes of the conditions for the purpose of provided for the provisions of the competent authority of the competent authorities of the co\n",
      "Epoch 25. Loss: 0.9388152038253115\n",
      "The committee investment firms and provided for the provisions of the conditions of the conditions for the purposes of the conditions for the purpose of provided to the competent authority of the competent authority of the competent authorities of the competent authority of the competent authorities of the conditions for the purpose of a procedure for the provisions of the conditions for the provisions of the conditions for the provisions of the provisions of the conditions for the provisions of the competent authority of the competent authorities of the conditions for the provisions of the conditions for the provisions of the conditions for the purpose of a procedure of the conditions for the provisions of the conditions for the purpose of a trading venue and the contract subparagraph in accordance with the conditions of the conditions of the conditions of the conditions of the conditions for the provisions of the conditions for the provisions of the competent authorities of the conditions for the provisions of the condi\n",
      "Epoch 26. Loss: 0.9315372156450802\n",
      "The committee interests of the conditions for the purpose of provided for the purposes of the conditions for the purpose of a trading venue to the competent authority of the competent authority of the competent authorities of the conditions for the purposes of the conditions for the provisions of the competent authorities of the conditions for the purpose of a procedure for the provisions of the competent authority of the competent authorities and the conditions in the content authorities of the conditions for the provisions of the conditions for the purpose of provided for the provisions of the conditions for the provisions of the conditions for the purpose of such management body of the provisions of the conditions for the provisions of the competent authority of the competent authority of the competent authorities and the conditions for the provisions of the conditions for the purposes of the conditions for the purpose of provided to the competent authority of the competent authority of the competent authority of the c\n",
      "Epoch 27. Loss: 0.9240720296014693\n",
      "The committee interests of the conditions for the provisions of the contract subparagraph in accordance with the conditions for the provisions of the contract subparagraph in accordance with the conditions for the purpose of provided to the competent authority of the competent authority of the competent authority of the competent authority of the competent authority of the competent authority of the competent authority of the competent authorities of the conditions for the provisions of the provisions of the conditions for the provisions of the contract subparagraph in accordance with the content of the conditions for the provisions of the conditions for the propesion of the provisions of the conditions for the purposes of the provisions of the conditions for the provisions of the conditions for the purpose of a third country firms and the provisions of the conditions for the purposes of the conditions for the provisions of the provisions of the contract subparagraph in accordance with the conditions for the provisions of\n",
      "Epoch 28. Loss: 0.9177606367048367\n",
      "The committee the contract referred to in paragraph 1 of the European Parliament and of the Council of the contract subparagraph in accordance with the content authority of the competent authority of the competent authority of the competent authority of the competent authority of the competent authority of the competent authorities of the competent authorities of the conditions of the contract information of the conditions for the purpose of provided to the competent authority of the competent authority of the competent authority of the competent authority of the competent authorities of the conditions for the provisions of the contract subparagraph in accordance with the content authority of the competent authority of the competent authority of the competent authorities of the conditions for the purposes of the provisions of the contract subparagraph in accordance with the conditions for the provisions of the provisions of the contract subparagraph in accordance with the content of the conditions for the provisions of th\n",
      "Epoch 29. Loss: 0.9024072551661385\n",
      "The committee the conditions for the purpose of a trading venue the contracts to the competent authority of the competent authority of the competent authority of the competent authority of the competent authority of the competent authority of the competent authority of the competent authority of the competent authority of the competent authority of the competent authority of the competent authority of the competent authority of the competent authority of the competent authority of the competent authority of the home Member State of the competent authority of the competent authority of the competent authority of the competent authorities of the competent authority of the competent authority of the investment firm and provide the contracts to the competent authority of the competent authority of the competent authority of the home Member State of the competent authority of the competent authority of the competent authority of the competent authority of the services or provided to the competent authority of the home Member S\n",
      "Epoch 30. Loss: 0.8965706512791723\n",
      "The committee the provisions of the contract subparagraph in accordance with the conditions for the purposes of the conditions for the purposes of the competent authority of the competent authority of the competent authority of the competent authority of the competent authority of the competent authority of the competent authority of the competent authority of the competent authority of the competent authority of the competent authority of the competent authorities of the competent authority of the competent authority of the competent authority of the competent authority of the competent authority of the competent authority of the competent authority of the competent authority of the competent authority of the competent authority of the competent authority of the competent authority of the competent authority of the competent authority of the competent authority of the competent authority of the competent authority of the competent authority of the competent authority of the competent authority of the competent authority \n",
      "Epoch 31. Loss: 0.8922439494587985\n",
      "The committee interests of the competent authority of the competent authority of the home Member State of the competent authority of the competent authority of the competent authority of the competent authority of the competent authority of the competent authority of the competent authority of the competent authority of the competent authority of the competent authority of the competent authority of the competent authority of the competent authority of the competent authority of the competent authority of the competent authority of the competent authority of the competent authority of the competent authority of the home Member State of the competent authority of the competent authority of the competent authority of the competent authority of the competent authority of the competent authority of the competent authority of the home Member State or the provisions of the provisions of the provisions of the competent authority of the competent authority of the home Member State of the competent authority of the competent autho\n"
     ]
    },
    {
     "name": "stdout",
     "output_type": "stream",
     "text": [
      "Epoch 32. Loss: 0.8881984359327498\n",
      "The committee the contract subparagraph of Article 1(1) of Regulation (EU) No 600/2014 of the European Parliament and of the Council of the subparagraph of Article 21(1) and (E) No 100/2010 of the European Parliament and of the Council of the competent authority of the home Member State of the competent authority of the competent authority of the competent authority of the competent authority of the competent authority of the competent authority of the competent authority of the competent authority of the competent authority of the competent authority of the competent authority of the competent authority of the competent authority of the competent authority of the competent authority of the competent authority of the competent authority of the competent authority of the competent authority of the competent authority of the competent authority of the competent authority of the competent authority of the competent authority of the home Member States the conditions for the purposes of the contracts to the competent authority\n",
      "Epoch 33. Loss: 0.8842647531819136\n",
      "The committee the provisions of the provisions of the provisions of the provisions of the provisions of the provisions of the competent authority of the competent authority of the competent authority of the competent authority of the competent authority of the competent authority of the competent authority of the competent authority of the competent authority of the competent authority of the competent authority of the competent authority of the competent authority of the competent authority of the home Member State of the competent authority of the home Member State or the provisions of the provisions of the provisions of the provisions of the provisions of the competent authority of the competent authority of the home Member State of the competent authority of the competent authority of the competent authority of the competent authority of the competent authority of the competent authority of the competent authority of the competent authority of the home Member State or provided for in paragraph 1 of this Directive and \n",
      "Epoch 34. Loss: 0.880404459724597\n",
      "The committee the provisions of the provisions of the provisions of the competent authority of the requirements and any of the competent authority of the competent authority of the competent authority of the home Member State of the competent authority of the home Member State of the competent authority of the competent authority of the competent authority of the competent authority of the competent authority of the competent authority of the competent authority of the competent authority of the competent authority of the competent authority of the competent authority of the competent authority of the competent authority of the competent authority of the competent authority of the competent authority of the competent authority of the competent authority of the home Member State of the competent authority of the competent authority of the home Member State of the competent authority of the competent authority of the competent authority of the competent authority of the competent authority of the competent authority of the \n",
      "Epoch 35. Loss: 0.8766048627359496\n",
      "The committee the provisions of the provisions of the competent authority of the home Member State of the competent authority of the home Member State of the competent authority of the home Member State of the competent authority of the competent authority of the competent authority of the home Member State or the provisions of the provisions of the provisions of the provisions of the provisions of the provisions of the provisions of the provisions of the competent authority of the home Member State of the competent authority of the home Member State of the competent authority of the home Member State of the competent authority of the home Member State of the competent authority of the competent authority of the competent authority of the home Member State of the competent authority of the home Member State of the competent authority of the competent authority of the home Member State of the competent authority of the competent authority of the competent authority of the competent authority of the competent authority of t\n",
      "Epoch 36. Loss: 0.8728630180615066\n",
      "The committee the investment firm and the provisions of the protection of the conditions for the purposes of the provisions of the contract subparagraph in accordance with the requirements of the competent authority of the home Member State of the competent authority of the competent authority of the competent authority of the competent authority of the home Member State or the provisions of the competent authority of the home Member State or the provisions of the provisions of the competent authority of the home Member State of the competent authority of the home Member State of the competent authority of the competent authority of the home Member State of the competent authority of the home Member State of the competent authority of the home Member State of the provisions of the provisions of the protection of the contract of the competent authority of the home Member State of the competent authority of the home Member State or the provisions of the provisions of the provisions of the provisions of the provisions of the\n",
      "Epoch 37. Loss: 0.8691788422764981\n",
      "The committee the provisions of the provisions of the provisions of the provisions of the protection of the contract regard to the provisions of the provisions of the competent authorities of the competent authority of the home Member State of the competent authority of the competent authority of the competent authority of the home Member State of the competent authority of the competent authority of the home Member State of the competent authority of the home Member State or the provisions of the provision of investment firms and considered to be applied to the competent authority of the home Member State or the provisions of the competent authority of the home Member State of the competent authority of the home Member State of the competent authority of the home Member State of the competent authority of the competent authority of the home Member State of the competent authority of the competent authority of the competent authority of the home Member State or the provisions of the provisions of the protection of the con\n",
      "Epoch 38. Loss: 0.8655520617972151\n",
      "The committee the provisions of the competent authority of the competent authority of the home Member State of the competent authority of the competent authority of the home Member State of the competent authority of the competent authority of the home Member State or the provisions of the provisions of the competent authority of the home Member State of the competent authority of the home Member State of the competent authority of the home Member State of the competent authority of the home Member State of the competent authority of the home Member State or the provisions of the provisions of the provisions of the provisions of the protection of the contract of the competent authority of the competent authority of the home Member State or the provisions of the protection of the considered to be the conditions for the purposes of the protection of the conditions for the purposes of the considered to be applied to the contract referred to in paragraph 1 of this Directive and the contracts to the competent authority of the \n",
      "Epoch 39. Loss: 0.858194044900023\n",
      "The committee the provisions of the provisions of the provisions of the provision of investment firms and market operators operating an MTF or an OTF shall be empowered to adopt delegated acts in accordance with Article 14 of Regulation (EU) No 1005/2010 and the contracts to the competent authority of the home Member State or the provisions of the provisions of the protection of the provisions of the provisions of the provisions of the provisions of the provisions of the provisions of the provisions of the protection of the competent authorities of the competent authorities of the competent authority of the home Member State or the provisions of the provisions of the provisions of the provisions of the provisions of the provisions of the provisions of the provisions of the provisions of the provisions of the provisions of the provisions of the provisions of the provisions of the provisions of the provisions of the provision of investment firms and market operators operating an MTF or an OTF shall be empowered to adopt del\n"
     ]
    },
    {
     "name": "stdout",
     "output_type": "stream",
     "text": [
      "Epoch 40. Loss: 0.8553342217407224\n",
      "The committee the provisions of the provisions of the provisions of the provisions of the provisions of the provision of investment firms and market operators of the competent authority of the home Member State of the competent authority of the home Member State or the provisions of the provisions of the provisions of the provisions of the provisions of the provisions of the provisions of the provisions of the provisions of the provisions of the provisions of the provision of investment firms and provided to the competent authority of the home Member State or the provisions of the provisions of the provision of investment firms and market operators operating an MTF or an OTF shall be empowered to adopt delegated acts in accordance with Article 19 of Regulation (EU) No 600/2014 of the European Parliament and of the Council of 14 July 2014 on the transactions executed or referred to in the first subparagraph in accordance with Article 14 of Regulation (EU) No 100/2014 of the European Parliament and of the Council of 14 Memb\n",
      "Epoch 41. Loss: 0.8531363907148686\n",
      "The committee the investment firm and the provisions of the provisions of the provisions of the provisions of the provisions of the provisions of the provisions of the provisions of the provision of investment firms and market operators operating an MTF or an OTF shall be empowered to adopt delegated acts in accordance with Article 14 of Regulation (EU) No 1095/2010 of the European Parliament and of the Council of 14 Member States shall require that an investment firm or market operator operating an MTF or an OTF shall be empowered to adopt delegated acts in accordance with Article 19 of Regulation (EU) No 600/2014 of the European Parliament and of the Council of 14 July 2014 on the transactions executed or references to the competent authority of the home Member State or the provisions of the provisions of the provisions of the provisions of the provisions of the provisions of the provisions of the provisions of the provisions of the provisions of the provisions of the provisions of the provisions of the provisions of th\n",
      "Epoch 42. Loss: 0.8510300493125108\n",
      "The committee the activities and the provisions of the provisions of the provisions of the provisions of the provisions of the provisions of the provision of investment firms and market operator operating an MTF or an OTF shall be empowered to adopt delegated acts in accordance with Article 19 of Regulation (EU) No 600/2014 of the European Parliament and of the Council of 14 July 2014 on the considered to be an investment firm or market operator operating an MTF or an OTF shall be empowered to adopt delegated acts in accordance with Article 19 of Regulation (EU) No 600/2014 of the European Parliament and of the Council of 14 Member States shall not be adequing the content authority of the home Member State or the provisions of the provisions of the provisions of the provisions of the provisions of the provisions of the provisions of the provisions of the provisions of the provisions of the provisions of the provisions of the provisions of the provisions of the provisions of the provisions of the provisions of the provisio\n",
      "Epoch 43. Loss: 0.8489525450088048\n",
      "The committee the information referred to in the first subparagraph in accordance with Article 19 of Regulation (EU) No 600/2014 of the European Parliament and of the Council of 1 June 2001 on the transactions concerned and the subparagraph of Article 2(1) of Regulation (EU) No 600/2014 of the European Parliament and of the Council of 14 July 2014 on the transactions concerned and the subject to the conditions for investment firms and market operators operating an MTF or an OTF shall be empowered to adopt delegated acts in accordance with Article 19 of Regulation (EU) No 600/2014 of the European Parliament and of the Council of 14 July 2014 on the transactions executed or references to the client or provided for in the first subparagraph in accordance with Article 14 of Regulation (EU) No 600/2014 of the European Parliament and of the Council of 14 July 2014 on the transactions executed or references to the competent authority of the home Member State of the competent authority of the home Member State of the competent au\n",
      "Epoch 44. Loss: 0.8468957915354939\n",
      "The committee the investment firm and other than the competent authority of the home Member State or the provisions of the provisions of the provisions of the provisions of the provisions of the provisions of the provisions of the provisions of the provisions of the provisions of the provision of investment firms and market operators operating an MTF or an OTF shall not be considered to be traded of the investment firm or market operator operating an MTF or an OTF shall not be considered to be authorised and any other derivative contracts relating to complies with the requirements and any other derivative contracts relating to the competent authority of the home Member State or the provisions of the provisions of the protection of the competent authorities of the competent authority of the home Member State or the provisions of the protection of the competent authorities of the competent authority of the home Member State of the competent authorities of the competent authority of the home Member State or the provisions of\n",
      "Epoch 45. Loss: 0.8448572456810687\n",
      "The committee the contract of the submit those draft regulatory technical standards to the Commission shall be enter into account the provisions of the provisions of the provisions of the provisions of the protection of the competent authority of the home Member State or the provisions of the provisions of the provisions of the provisions of the provisions of the provisions of the protection of the provisions of the protection of the competent authority of the home Member State or the provisions of the provisions of the provisions of the provisions of the provisions of the protection of the competent authorities of the competent authorities of the services or perform investment firms and market operators operating an MTF or an OTF shall be empowered to adopt delegated acts in accordance with Article 14 of Regulation (EU) No 600/2014 of the European Parliament and of the Council of 14 July 2014 on the transactions concerned and the provisions of the protection of the competent authorities of the competent authority of the \n",
      "Epoch 46. Loss: 0.8428352116729012\n",
      "The committee the information referred to in the first subparagraph in accordance with Article 19 of Regulation (EU) No 1005/2010 of the European Parliament and of the Council of 14 July 2014 on the transactions concerned and the considered to be applied to the contracts the competent authorities of the competent authority of the home Member State or the provisions of the protection of the competent authorities of the competent authority of the home Member State or the provisions of the provisions of the provisions of the provisions of the protection of the competent authorities of the competent authority of the home Member State of the competent authority of the home Member State or the provisions of the provisions of the provisions of the provisions of the protection of the competent authorities of the competent authority of the home Member State or the provisions of the provisions of the protection of the contracts the competent authorities of the services or perform investment firms and market operators operating an M\n",
      "Epoch 47. Loss: 0.84082872578195\n",
      "The committee the provisions of the provisions of the protection of the competent authorities of the competent authority of the home Member State of the competent authority of the home Member State or the provisions of the provisions of the provisions of the provisions of the provisions of the provisions of the provisions of the provisions of the provisions of the provisions of the protection of the competent authority of the home Member State or the provisions of the provisions of the provisions of the provisions of the provisions of the provisions of the protection of the competent authority of the home Member State or the provisions of the provisions of the provisions of the provisions of the provisions of the provisions of the provisions of the protection of the provisions of the provisions of the provisions of the provisions of the provisions of the protection of the competent authorities of the competent authority of the home Member State or the provisions of the provisions of the provisions of the competent authori\n"
     ]
    },
    {
     "name": "stdout",
     "output_type": "stream",
     "text": [
      "Epoch 48. Loss: 0.8388374733011212\n",
      "The committee the investment firm and the provisions of the provisions of the provisions of the provisions of the provisions of the protection of the competent authorities of the competent authority of the home Member State or the provisions of the protection of the competent authorities of the competent authority of the home Member State or the provisions of the provisions of the provision of investment firms and market operators operating an MTF or an OTF shall be empowered to adopt delegated acts in accordance with Article 19 of Regulation (EU) No 600/2014 of the European Parliament and of the Council of 2 July 2015 concluded on the provisions of the provisions of the provisions of the protection of the competent authority of the home Member State or the provisions of the provisions of the protection of the conditions for information to be able to considered to be able to ensure that the competent authority of the home Member State or the provisions of the provisions of the protection of the competent authority of the \n",
      "Epoch 49. Loss: 0.8360352498476799\n",
      "The committee the investment firm or market operators operating an MTF or an OTF shall be ensured that the competent authority of the home Member State and the provisions of the provisions of the provisions of the provisions of the provision of investment firms and market operators operating an MTF or an OTF shall be empowered to adopt delegated acts in accordance with Article 19 of Regulation (EU) No 1095/2010 of the European Parliament and of the Council of 2 July 2014 on the transactions concerning the provisions of this Directive and securities and an investment firm or market operators operating an MTF or an OTF shall be empowered to adopt delegated acts in accordance with Article 19 of Regulation (EU) No 600/2014 of the European Parliament and of the Council of 2 July 2016 on the transactions concerned and the subject to the competent authorities of the services or perform investment services or perform investment services or perform investment services or activities and an investment firm or market operators operat\n"
     ]
    }
   ],
   "source": [
    "epochs = 50\n",
    "moving_loss = 0.\n",
    "\n",
    "learning_rate = 2.0\n",
    "\n",
    "# state = nd.zeros(shape=(batch_size, num_hidden), ctx=ctx)\n",
    "for e in range(epochs):\n",
    "    ############################\n",
    "    # Attenuate the learning rate by a factor of 2 every 10 epochs.\n",
    "    ############################\n",
    "    if ((e+1) % 10 == 0):\n",
    "        learning_rate = learning_rate / 2.0\n",
    "    h = nd.zeros(shape=(batch_size, num_hidden), ctx=ctx)\n",
    "    c = nd.zeros(shape=(batch_size, num_hidden), ctx=ctx)\n",
    "    for i in range(num_batches):\n",
    "        data_one_hot = train_data[i]\n",
    "        label_one_hot = train_label[i]\n",
    "        with autograd.record():\n",
    "            outputs, h, c = lstm_rnn(data_one_hot, h, c)\n",
    "            loss = average_ce_loss(outputs, label_one_hot)\n",
    "            loss.backward()\n",
    "        SGD(params, learning_rate)\n",
    "\n",
    "        ##########################\n",
    "        #  Keep a moving average of the losses\n",
    "        ##########################\n",
    "        if (i == 0) and (e == 0):\n",
    "            moving_loss = nd.mean(loss).asscalar()\n",
    "        else:\n",
    "            moving_loss = .99 * moving_loss + .01 * nd.mean(loss).asscalar()\n",
    "\n",
    "    print(\"Epoch %s. Loss: %s\" % (e, moving_loss))\n",
    "    print(sample(\"The committee\", 1024,temperature=.1 ))\n"
   ]
  },
  {
   "cell_type": "code",
   "execution_count": null,
   "metadata": {
    "collapsed": true
   },
   "outputs": [],
   "source": []
  }
 ],
 "metadata": {
  "kernelspec": {
   "display_name": "Python 3",
   "language": "python",
   "name": "python3"
  },
  "language_info": {
   "codemirror_mode": {
    "name": "ipython",
    "version": 3
   },
   "file_extension": ".py",
   "mimetype": "text/x-python",
   "name": "python",
   "nbconvert_exporter": "python",
   "pygments_lexer": "ipython3",
   "version": "3.6.3"
  }
 },
 "nbformat": 4,
 "nbformat_minor": 2
}

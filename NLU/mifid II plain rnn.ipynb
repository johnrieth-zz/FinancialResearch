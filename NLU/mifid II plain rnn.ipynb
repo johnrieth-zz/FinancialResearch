{
 "cells": [
  {
   "cell_type": "code",
   "execution_count": 1,
   "metadata": {},
   "outputs": [
    {
     "name": "stderr",
     "output_type": "stream",
     "text": [
      "C:\\Users\\john\\AppData\\Local\\Continuum\\anaconda3\\lib\\site-packages\\h5py\\__init__.py:34: FutureWarning: Conversion of the second argument of issubdtype from `float` to `np.floating` is deprecated. In future, it will be treated as `np.float64 == np.dtype(float).type`.\n",
      "  from ._conv import register_converters as _register_converters\n",
      "C:\\Users\\john\\AppData\\Local\\Continuum\\anaconda3\\lib\\site-packages\\urllib3\\contrib\\pyopenssl.py:46: DeprecationWarning: OpenSSL.rand is deprecated - you should use os.urandom instead\n",
      "  import OpenSSL.SSL\n"
     ]
    }
   ],
   "source": [
    "import mxnet as mx\n",
    "from mxnet import nd, autograd\n",
    "import numpy as np\n",
    "mx.random.seed(2)\n",
    "ctx = mx.cpu()\n",
    "\n",
    "with open(\"nlg/mifid2.txt\") as f:\n",
    "    mifid = f.read()"
   ]
  },
  {
   "cell_type": "code",
   "execution_count": 2,
   "metadata": {},
   "outputs": [
    {
     "name": "stdout",
     "output_type": "stream",
     "text": [
      "DIRECTIVE 2014/65/EU OF THE EUROPEAN PARLIAMENT AND OF THE COUNCIL\n",
      "\n",
      "of 15 May 2014\n",
      "\n",
      "on markets in financial instruments and amending Directive 2002/92/EC and Directive 2011/61/EU\n",
      "\n",
      "(recast)\n",
      "\n",
      "(Text with EEA relevance)\n",
      "\n",
      "THE EUROPEAN PARLIAMENT AND THE COUNCIL OF THE EUROPEAN UNION,\n",
      "\n",
      "Having regard to the Treaty on the Functioning of the European Union, and in particular Article 53(1) thereof,\n",
      "\n",
      "Having regard to the proposal from the European Commission,\n",
      "\n",
      "After transmission of the draft legislative ac\n"
     ]
    }
   ],
   "source": [
    "print(mifid[0:500])"
   ]
  },
  {
   "cell_type": "code",
   "execution_count": 3,
   "metadata": {},
   "outputs": [
    {
     "name": "stdout",
     "output_type": "stream",
     "text": [
      "['n', 'V', 'E', 'x', 'W', '€', '”', 'U', 'y', 'Ã', '“', 'C', 'K', 'L', '5', '™', '©', ' ', 'i', ',', 'A', 'Q', 'P', 'H', 'G', '0', ';', '2', '6', '.', 'X', 'g', ':', 'Y', 'q', 'N', 'J', 'w', '9', 'I', '/', 'e', 't', 'd', 'B', 'D', 'p', '\\n', 'c', 'b', '8', 'j', '˜', 'a', 'z', 's', 'l', '%', 'u', ')', 'k', 'F', '\\t', 'h', '(', 'S', '-', 'Z', 'O', 'T', '3', '1', '4', 'r', 'v', 'f', 'R', 'm', '7', 'o', 'â', 'M']\n",
      "Length of vocab: 82\n"
     ]
    }
   ],
   "source": [
    "character_list = list(set(mifid))\n",
    "vocab_size = len(character_list)\n",
    "print(character_list)\n",
    "print(\"Length of vocab: %s\" % vocab_size)"
   ]
  },
  {
   "cell_type": "code",
   "execution_count": 4,
   "metadata": {},
   "outputs": [
    {
     "name": "stdout",
     "output_type": "stream",
     "text": [
      "{'n': 0, 'V': 1, 'E': 2, 'x': 3, 'W': 4, '€': 5, '”': 6, 'U': 7, 'y': 8, 'Ã': 9, '“': 10, 'C': 11, 'K': 12, 'L': 13, '5': 14, '™': 15, '©': 16, ' ': 17, 'i': 18, ',': 19, 'A': 20, 'Q': 21, 'P': 22, 'H': 23, 'G': 24, '0': 25, ';': 26, '2': 27, '6': 28, '.': 29, 'X': 30, 'g': 31, ':': 32, 'Y': 33, 'q': 34, 'N': 35, 'J': 36, 'w': 37, '9': 38, 'I': 39, '/': 40, 'e': 41, 't': 42, 'd': 43, 'B': 44, 'D': 45, 'p': 46, '\\n': 47, 'c': 48, 'b': 49, '8': 50, 'j': 51, '˜': 52, 'a': 53, 'z': 54, 's': 55, 'l': 56, '%': 57, 'u': 58, ')': 59, 'k': 60, 'F': 61, '\\t': 62, 'h': 63, '(': 64, 'S': 65, '-': 66, 'Z': 67, 'O': 68, 'T': 69, '3': 70, '1': 71, '4': 72, 'r': 73, 'v': 74, 'f': 75, 'R': 76, 'm': 77, '7': 78, 'o': 79, 'â': 80, 'M': 81}\n"
     ]
    }
   ],
   "source": [
    "character_dict = {}\n",
    "for e, char in enumerate(character_list):\n",
    "    character_dict[char] = e\n",
    "print(character_dict)"
   ]
  },
  {
   "cell_type": "code",
   "execution_count": 5,
   "metadata": {
    "collapsed": true
   },
   "outputs": [],
   "source": [
    "time_numerical = [character_dict[char] for char in mifid]"
   ]
  },
  {
   "cell_type": "code",
   "execution_count": 6,
   "metadata": {},
   "outputs": [
    {
     "name": "stdout",
     "output_type": "stream",
     "text": [
      "487654\n"
     ]
    }
   ],
   "source": [
    "print(len(time_numerical))"
   ]
  },
  {
   "cell_type": "code",
   "execution_count": 7,
   "metadata": {},
   "outputs": [
    {
     "name": "stdout",
     "output_type": "stream",
     "text": [
      "[45, 39, 76, 2, 11, 69, 39, 1, 2, 17, 27, 25, 71, 72, 40, 28, 14, 40, 2, 7]\n"
     ]
    }
   ],
   "source": [
    "print(time_numerical[:20])"
   ]
  },
  {
   "cell_type": "code",
   "execution_count": 8,
   "metadata": {},
   "outputs": [
    {
     "name": "stdout",
     "output_type": "stream",
     "text": [
      "DIRECTIVE 2014/65/EU OF THE EUROPEAN PA\n"
     ]
    }
   ],
   "source": [
    "print(\"\".join([character_list[idx] for idx in time_numerical[:39]]))"
   ]
  },
  {
   "cell_type": "code",
   "execution_count": 9,
   "metadata": {
    "collapsed": true
   },
   "outputs": [],
   "source": [
    "def one_hots(numerical_list, vocab_size =vocab_size):\n",
    "    result = nd.zeros((len(numerical_list), vocab_size), ctx=ctx)\n",
    "    for i, idx in enumerate(numerical_list):\n",
    "        result[i, idx] = 1.0\n",
    "    return result"
   ]
  },
  {
   "cell_type": "code",
   "execution_count": 10,
   "metadata": {},
   "outputs": [
    {
     "name": "stdout",
     "output_type": "stream",
     "text": [
      "\n",
      "[[0. 0. 0. 0. 0. 0. 0. 0. 0. 0. 0. 0. 0. 0. 0. 0. 0. 0. 0. 0. 0. 0. 0. 0.\n",
      "  0. 0. 0. 0. 0. 0. 0. 0. 0. 0. 0. 0. 0. 0. 0. 0. 0. 0. 0. 0. 0. 1. 0. 0.\n",
      "  0. 0. 0. 0. 0. 0. 0. 0. 0. 0. 0. 0. 0. 0. 0. 0. 0. 0. 0. 0. 0. 0. 0. 0.\n",
      "  0. 0. 0. 0. 0. 0. 0. 0. 0. 0.]\n",
      " [0. 0. 0. 0. 0. 0. 0. 0. 0. 0. 0. 0. 0. 0. 0. 0. 0. 0. 0. 0. 0. 0. 0. 0.\n",
      "  0. 0. 0. 0. 0. 0. 0. 0. 0. 0. 0. 0. 0. 0. 0. 1. 0. 0. 0. 0. 0. 0. 0. 0.\n",
      "  0. 0. 0. 0. 0. 0. 0. 0. 0. 0. 0. 0. 0. 0. 0. 0. 0. 0. 0. 0. 0. 0. 0. 0.\n",
      "  0. 0. 0. 0. 0. 0. 0. 0. 0. 0.]]\n",
      "<NDArray 2x82 @cpu(0)>\n"
     ]
    }
   ],
   "source": [
    "print(one_hots(time_numerical[:2]))"
   ]
  },
  {
   "cell_type": "code",
   "execution_count": 11,
   "metadata": {
    "collapsed": true
   },
   "outputs": [],
   "source": [
    "def textify(embedding):\n",
    "    result = \"\"\n",
    "    indices = nd.argmax(embedding, axis=1).asnumpy()\n",
    "    for idx in indices:\n",
    "        result += character_list[int(idx)]\n",
    "    return result"
   ]
  },
  {
   "cell_type": "code",
   "execution_count": 12,
   "metadata": {},
   "outputs": [
    {
     "data": {
      "text/plain": [
       "'DIRECTIVE 2014/65/EU OF THE EUROPEAN PAR'"
      ]
     },
     "execution_count": 12,
     "metadata": {},
     "output_type": "execute_result"
    }
   ],
   "source": [
    "textify(one_hots(time_numerical[0:40]))"
   ]
  },
  {
   "cell_type": "code",
   "execution_count": 13,
   "metadata": {},
   "outputs": [
    {
     "data": {
      "text/plain": [
       "'DIRECTIVE 2014/65/EU OF THE EUROPEAN PARLIAMENT AND OF THE COUNC'"
      ]
     },
     "execution_count": 13,
     "metadata": {},
     "output_type": "execute_result"
    }
   ],
   "source": [
    "seq_length = 64\n",
    "num_samples = (len(time_numerical) -1) //seq_length\n",
    "dataset = one_hots(time_numerical[:seq_length * num_samples]).reshape((num_samples,\n",
    "                                                                      seq_length, vocab_size))\n",
    "textify(dataset[0])"
   ]
  },
  {
   "cell_type": "code",
   "execution_count": 14,
   "metadata": {},
   "outputs": [
    {
     "name": "stdout",
     "output_type": "stream",
     "text": [
      "# of sequences in dataset:  7619\n",
      "# of batches:  238\n",
      "Shape of data set:  (238, 64, 32, 82)\n"
     ]
    }
   ],
   "source": [
    "batch_size = 32\n",
    "print(\"# of sequences in dataset: \", len(dataset))\n",
    "num_batches = len(dataset) // batch_size\n",
    "print(\"# of batches: \", num_batches)\n",
    "train_data = dataset[:num_batches*batch_size].reshape((batch_size, num_batches, seq_length, vocab_size))\n",
    "# swap batch_size and seq_length axis to make later access easier\n",
    "train_data = nd.swapaxes(train_data, 0, 1)\n",
    "train_data = nd.swapaxes(train_data, 1, 2)\n",
    "print('Shape of data set: ', train_data.shape)"
   ]
  },
  {
   "cell_type": "code",
   "execution_count": 15,
   "metadata": {},
   "outputs": [
    {
     "name": "stdout",
     "output_type": "stream",
     "text": [
      "***Batch 0:***\n",
      " DIRECTIVE 2014/65/EU OF THE EUROPEAN PARLIAMENT AND OF THE COUNC \n",
      "  allowances or derivatives thereof provided that their market ma \n",
      "\n",
      "\n",
      "***Batch 1:***\n",
      " IL\n",
      "\n",
      "of 15 May 2014\n",
      "\n",
      "on markets in financial instruments and amen \n",
      " king activity is ancillary to their main business considered on  \n",
      "\n",
      "\n",
      "***Batch 2:***\n",
      " ding Directive 2002/92/EC and Directive 2011/61/EU\n",
      "\n",
      "(recast)\n",
      "\n",
      "(T \n",
      " a group basis and provided that they do not apply a high-frequen \n",
      "\n",
      "\n"
     ]
    }
   ],
   "source": [
    "for i in range(3):\n",
    "    print(\"***Batch %s:***\\n %s \\n %s \\n\\n\" % (i, textify(train_data[i, :, 0]), textify(train_data[i, :, 1])))"
   ]
  },
  {
   "cell_type": "code",
   "execution_count": 16,
   "metadata": {},
   "outputs": [
    {
     "name": "stdout",
     "output_type": "stream",
     "text": [
      "(238, 64, 32, 82)\n"
     ]
    }
   ],
   "source": [
    "labels = one_hots(time_numerical[1:seq_length*num_samples+1])\n",
    "train_label = labels.reshape((batch_size, num_batches, seq_length, vocab_size))\n",
    "train_label = nd.swapaxes(train_label, 0, 1)\n",
    "train_label = nd.swapaxes(train_label, 1, 2)\n",
    "print(train_label.shape)"
   ]
  },
  {
   "cell_type": "code",
   "execution_count": 17,
   "metadata": {},
   "outputs": [
    {
     "name": "stdout",
     "output_type": "stream",
     "text": [
      "umber of potential risks such as an increased risk of the overlo\n",
      "mber of potential risks such as an increased risk of the overloa\n"
     ]
    }
   ],
   "source": [
    "print(textify(train_data[10, : , 3]))\n",
    "print(textify(train_label[10, :, 3]))"
   ]
  },
  {
   "cell_type": "code",
   "execution_count": 18,
   "metadata": {
    "collapsed": true
   },
   "outputs": [],
   "source": [
    "num_inputs = vocab_size\n",
    "num_hidden = 256\n",
    "num_outputs = vocab_size\n",
    "\n",
    "Wxh = nd.random_normal(shape=(num_inputs, num_hidden), ctx=ctx) *.01\n",
    "Whh = nd.random_normal(shape=(num_hidden, num_hidden), ctx=ctx) * .01\n",
    "bh = nd.random_normal(shape=num_hidden, ctx=ctx) * .01\n",
    "\n",
    "Why = nd.random_normal(shape=(num_hidden, num_outputs), ctx=ctx) *.01\n",
    "by = nd.random_normal(shape=num_outputs, ctx=ctx) *.01"
   ]
  },
  {
   "cell_type": "code",
   "execution_count": 19,
   "metadata": {
    "collapsed": true
   },
   "outputs": [],
   "source": [
    "params = [Wxh, Whh, bh, Why, by]\n",
    "\n",
    "for param in params:\n",
    "    param.attach_grad()"
   ]
  },
  {
   "cell_type": "code",
   "execution_count": 20,
   "metadata": {
    "collapsed": true
   },
   "outputs": [],
   "source": [
    "def softmax(y_linear, temperature=1.0):\n",
    "    lin = (y_linear-nd.max(y_linear, axis=1).reshape((-1,1))) / temperature\n",
    "    exp = nd.exp(lin)\n",
    "    partition = nd.sum(exp, axis=1).reshape((-1, 1))\n",
    "    return exp / partition"
   ]
  },
  {
   "cell_type": "code",
   "execution_count": 21,
   "metadata": {},
   "outputs": [
    {
     "data": {
      "text/plain": [
       "\n",
       "[[0.880797   0.11920292]\n",
       " [0.11920292 0.880797  ]]\n",
       "<NDArray 2x2 @cpu(0)>"
      ]
     },
     "execution_count": 21,
     "metadata": {},
     "output_type": "execute_result"
    }
   ],
   "source": [
    "softmax(nd.array([[1, -1], [-1, 1]]), temperature=1.0)"
   ]
  },
  {
   "cell_type": "code",
   "execution_count": 22,
   "metadata": {},
   "outputs": [
    {
     "data": {
      "text/plain": [
       "\n",
       "[[0.50049996 0.49949998]\n",
       " [0.49949998 0.50049996]]\n",
       "<NDArray 2x2 @cpu(0)>"
      ]
     },
     "execution_count": 22,
     "metadata": {},
     "output_type": "execute_result"
    }
   ],
   "source": [
    "softmax(nd.array([[1,-1], [-1, 1]]), temperature=1000.0)"
   ]
  },
  {
   "cell_type": "code",
   "execution_count": 23,
   "metadata": {},
   "outputs": [
    {
     "data": {
      "text/plain": [
       "\n",
       "[[1. 0.]\n",
       " [0. 1.]]\n",
       "<NDArray 2x2 @cpu(0)>"
      ]
     },
     "execution_count": 23,
     "metadata": {},
     "output_type": "execute_result"
    }
   ],
   "source": [
    "softmax(nd.array([[10, -10], [-10, 10]]), temperature=.1)"
   ]
  },
  {
   "cell_type": "code",
   "execution_count": 24,
   "metadata": {
    "collapsed": true
   },
   "outputs": [],
   "source": [
    "def simple_rnn(inputs, state, temperature=1.0):\n",
    "    outputs = []\n",
    "    h = state\n",
    "    for X in inputs:\n",
    "        h_linear = nd.dot(X, Wxh) + nd.dot(h, Whh) + bh\n",
    "        h = nd.tanh(h_linear)\n",
    "        yhat_linear = nd.dot(h, Why) + by\n",
    "        yhat = softmax(yhat_linear, temperature=temperature)\n",
    "        outputs.append(yhat)\n",
    "    return (outputs, h)"
   ]
  },
  {
   "cell_type": "code",
   "execution_count": 25,
   "metadata": {
    "collapsed": true
   },
   "outputs": [],
   "source": [
    "def cross_entropy(yhat, y):\n",
    "    return - nd.mean(nd.sum(y * nd.log(yhat), axis=0, exclude=True))"
   ]
  },
  {
   "cell_type": "code",
   "execution_count": 26,
   "metadata": {},
   "outputs": [
    {
     "data": {
      "text/plain": [
       "\n",
       "[1.1512926]\n",
       "<NDArray 1 @cpu(0)>"
      ]
     },
     "execution_count": 26,
     "metadata": {},
     "output_type": "execute_result"
    }
   ],
   "source": [
    "cross_entropy(nd.array([[.2,.5,.3], [.2,.5,.3]]), nd.array([[1.,0,0], [0, 1.,0]]))"
   ]
  },
  {
   "cell_type": "code",
   "execution_count": 27,
   "metadata": {
    "collapsed": true
   },
   "outputs": [],
   "source": [
    "def average_ce_loss(outputs, labels):\n",
    "    assert(len(outputs)) == len(labels)\n",
    "    total_loss = 0.\n",
    "    for (output, label) in zip(outputs, labels):\n",
    "        total_loss = total_loss + cross_entropy(output, label)\n",
    "    return total_loss / len(outputs)"
   ]
  },
  {
   "cell_type": "code",
   "execution_count": 28,
   "metadata": {
    "collapsed": true
   },
   "outputs": [],
   "source": [
    "def SGD(params, lr):\n",
    "    for param in params:\n",
    "        param[:] = param - lr * param.grad"
   ]
  },
  {
   "cell_type": "code",
   "execution_count": 29,
   "metadata": {
    "collapsed": true
   },
   "outputs": [],
   "source": [
    "def sample(prefix, num_chars, temperature= 1.0):\n",
    "    string = prefix\n",
    "    prefix_numerical = [character_dict[char] for char in prefix]\n",
    "    input = one_hots(prefix_numerical)\n",
    "    \n",
    "    sample_state = nd.zeros(shape=(1, num_hidden), ctx=ctx)\n",
    "    \n",
    "    for i in range(num_chars):\n",
    "        outputs, sample_state = simple_rnn(input, sample_state, temperature=temperature)\n",
    "        choice = np.random.choice(vocab_size, p = outputs[-1][0].asnumpy())\n",
    "        string += character_list[choice]\n",
    "        input = one_hots([choice])\n",
    "    return string"
   ]
  },
  {
   "cell_type": "code",
   "execution_count": 32,
   "metadata": {},
   "outputs": [
    {
     "name": "stdout",
     "output_type": "stream",
     "text": [
      "Epoch 0. Loss: 77.03520176790099\n",
      "The committee shall submit the investment firm or market operators of the investment firm or market operators operating an MTF or an OTF to be abequard to the investment firm or market operators operating an MTF or an OTF shall submit those draft regulatory technical standards to the Commission to adopt the implementing technical standards to the Commission to adopt the implementing technical standards to the Commission to adopt the implementing technical standards to the Commission to adopt the implementing technical standards to the Commission to adopt the implementing technical standards to the Commission to adopt the implementing technical standards to the Commission to adopt the implementing technical standards to the Commission to adopt the implementing technical standards to the Commission to adopt the implementing technical standards to the Commission to adopt the implementing technical standards to the Commission to adopt the implementing technical standards to the Commission to adopt the implementing technical s\n",
      "\n",
      "Implemenation of the directives fermode a defifical or ucoul or ertain instruments to the client and the provisions of the investment firm or market operators of the investment firm in the investment firm or market operators operating an MTF or an OTF to be abequard to the investment firm in the investment firm or market operators of the investment firm in the investment firm or market operators of the investment firm or market operators of the investment firm in the contracts referred to in the first subparagraph in accordance with Article 29(2), the investment firm or market operators operating an MTF or an OTF to be abequard to the investment firm in the investment firm or market operators of the investment firm or market operators operating an MTF or an OTF to be abequard and provide and service provided that the investment firm or market operators of the investment firm information to the competent authority of the home Member State shall not investment firm is concluded with the investment firm or market operators operating an MTF or\n",
      "Epoch 1. Loss: 83.64158133183761\n",
      "The committee shall submit those draft implementing technical standards to the Commission by 3 January 2016.\n",
      "\n",
      "Power is comply with the investment firm shall also ineling of the investment firm or market operator operating an MTF or an OTF to ensure that the investment firm shall apply and controls and the accounts of the investment firm shall also intervelede the competent authorities to compleany ampotent and and of the provisions adopted pursuant to the competent authorities to conce staclasies of the investment firm or market operator operating an MTF or an OTF to ensure that the client or potential client market abuse of second sunts and procedures for the proposed acquisition in the competent authority of the home Member State shall require that investment firms and market operator operating an MTF or an OTF to ensure that the client market abuse of second sunts and in accordance with Article 29(2), Article 20(1), the first subparagraph in accordance with Article 29(2) and (1) of Article 27(2), the first subparagraph\n",
      "\n",
      "Implemenation of the directives person reporting of the investment firm shall submit the investment firm or market operators operating an MTF or an OTF to ensure that the client and to adopt delegated acts in accordance with Article 11(1), the first subparagraph in accordance with Article 29(2) and (1) of Article 15(2) and (1) and (3) and the client and to adopt delegated acts in accordance with Article 15(2) and (1) of Article 24(2), the competent authority of the home Member State shall require that investment firms and market operator operating an MTF or an OTF to ensure that the client and to adopt delegated acts in accordance with Article 15(2), Article 20(1), the first subparagraph in accordance with Article 15(2) and (1) of Article 25(2), the competent authorities of the investment firm shall submit those draft implementing technical standards to the Commission by 3 January 2016.\n",
      "\n",
      "Power is comply with the investment firm shall also ineling of the investment firm or market operators operating an MTF or an OTF to be applied to impose \n",
      "Epoch 2. Loss: 84.0808434802302\n",
      "The committee should be and procedures for the client may be the first subparagraph in accordance with Article 19(2) to (1) and (1);\n",
      "\n",
      "(xxxir clowiss of the investment firm shall communicate shall be impores of the client and the investment firm shall communicate shall communicate shall be impose and relevant to the client and the investment firm shall submit those draft regulatory technical standards to the Commission shall be empowered to adopt delegated acts in accordance with Article 15(2), to the competent authority of the home Member State shall require that investment firms and market operator operating an MTF or an OTF shall submit those draft regulatory technical standards to the Commission shall submit those draft regulatory technical standards to the Commission shall be empowered to adopt delegated acts in accordance with Article 15(2) to (1) and (1);\n",
      "\n",
      "(xxxir clowiss of the investment firm shall submit those draft regulatory technical standards to the Commission shall be empowered to adopt delegated acts in acco\n",
      "\n",
      "Implemenation of the directives service provided that they consolidated tape of information to the competent authority of the home Member State shall submit those draft regulatory technical standards to the Commission shall be empowered to adopt delegated acts in accordance with Article 15(2) to (1) and (1) and (1);\n",
      "\n",
      "(xxxir clowiss of the investment firm shall communicate shall communicate shall communicate shall be imposed of the investment firm shall communicate shall communicate shall communicate shall be impores of the client and the provisions adopted pursuant to this Directive should be and procedures for the client may be a transaction is a puringing compliance with the conditions under Article 15(2) to (1) and (1) and (1) and (3) and (3) and (3);\n",
      "\n",
      "(xxxin or the investment firm shall communicate shall communicate shall communicate shall communicate shall be impores of the investment firm shall communicate shall communicate shall be impose and standards to the Commission shall submit those draft regulatory technical standards to the \n",
      "Epoch 3. Loss: 83.8670120548302\n",
      "The committee shall submit the information to be provided to the client may reporting of compliance with the clients to the client may reporting of the investment firm shall communicate set out in the competent authority of the host Member State shall also be abdiss of the investment firm shall not execute to the client may reporting of compliance with the person to the competent authority of the host Member State shall require that investment firms and market operator or a market operator operating an MTF or an OTF and the investment firm or market operator operating an MTF or an OTF and the investment firm shall not execute to the client and the provisions adopted pursuant to this Directive shech of the investment firm shall communicate the investment firm or market operator operating an MTF or an OTF and the investment firm shall not execute to the client may capective arrangements for the purposes of this Directive shech of the investment firm shall communicate stacl statement of the investment firm shall communicate \n",
      "\n",
      "Implemenation of the directives sectoms. Segulatory technical standards to the Commission by 3 July 2015 on a regulated market abuse and and service provided to the client may reporting of compliance with the client management body set out in the conditions under Article 15(2) and in accordance with the client means a dranted to the client may busther trading venues and the client management of the investment firm shall not execute to the competent authority of the host Member State shall also be abdiss of the investment firm is concluded or activities to be considered to be able to ensure that the investment firm shall not executed and to addition to the competent authority of the host Member State shall also be as wott of the investment firm shall not apply the CTF to ensure that the investment firm shall not execute to the client may reporting of compliance with the investment firm shall communicate set out in the conditions under Article 15(2) and in accordance with Article 2 of the Council (20) of Article 25(2) to (1) and (3) and (3);\n"
     ]
    },
    {
     "name": "stdout",
     "output_type": "stream",
     "text": [
      "Epoch 4. Loss: 83.63663734251656\n",
      "The committee shall submit those draft implementing technical standards to the Commission shall be empowered to adopt delegated acts in accordance with Article 15 of Regulation (EU) No 600/2014 and the client market abuse and the investment firm shall also be ablitation and the provision of investment firms and market operator or remove adequately as the client may busile and the provisions adopted pursuant to this Directive shech territory of a compliance with the client may auper and the securities and the provision of investment firms to the competent authority shall communicate the investment firm shall not be clients and the securities and the provision of investment firms and market operator or any details of the investment firm shall not insurance undertakings and considers of the investment firm shall not insurance undertakings and provide the client may requirements should be and make in place in relation to the client orders or betreessen interests or the provisions of this Directive shech teading of the investm\n",
      "\n",
      "Implemenation of the directives competent authority shall not into account any of the client and the means bead considers of the investment firm shall also be ablitagile allowance derivatives and activities and the provision of investment firms and market operator or any details of the investment firm shall also ensure that the investment firm shall also be ad adequate persons are carry out than the investment firm shall not be clients and the provision of investment firms and market operator or any details of the investment firm shall also ensure that the investment firm shall not be clients and the provision of investment firms and market operator or any admins recommended to the client and the provisions adopted pursuant to this Directive shech territory of the investment firm shall not be clients and the provisions adopted pursuant to this Directive shech territory of the investment firm shall also ensure that the investment firm shall not be clients and the provision of investment firms and market operator or any details of the invest\n",
      "Epoch 5. Loss: 83.30215649308931\n",
      "The committee shall submit those draft implementing technical standards to the Commission by 3 January 2016.\n",
      "\n",
      "Power is compleany and of the Council (20) or the market operator or and may be the time of it is necessary to enable the competent authority of the host Member State shall submit those draft implementing technical standards to the Commission by 3 July 2015 in respect of investment service provided to the client and the provisions adopted pursuant to this Directive shall submit those draft implementing technical standards to the Commission by 3 July 2015 in respect of mation commorities within the meaning of the market operator or administrative sanctions and acruside such a supriage subject to the client and the provisions adopted pursuant to this Directive shall submit those draft implementing technical standards to the Commission by 3 January 2016.\n",
      "\n",
      "Power is comply with the requirements laid down in paragraph 2 of this Directive shele of the investment firm shall communicate the investment firm shall communicat\n",
      "\n",
      "Implemenation of the directives sectorders of the investment firm shall communicate the provision of investment firms to the client and the provisions adopted pursuant to this Directive shall submit those draft implementing technical standards to the Commission by 3 January 2016.\n",
      "\n",
      "Power is comply with the requirements laid down in the first subparagraph in accordance with Article 19(1);\n",
      "\n",
      "(xxxii)\n",
      "\t\n",
      "\n",
      "Article 15(1), the first subparagraph in accordance with Articles 10 to 14 of Regulation (EU) No 600/2014.\n",
      "\n",
      "(10)\n",
      "\t\n",
      "\n",
      "It is necessary to enable the competent authority of the home Member State shall submit those draft implementing technical standards to the Commission by 3 January 2016.\n",
      "\n",
      "Power is comply with the client and the provisions adopted pursuant to this Directive shall submit those draft implementing technical standards to the Commission by 3 July 2015 in respect of investment firm information to including the investment firm to including the investment firm shall communicate the provision of investment firms to the client and the provisi\n",
      "Epoch 6. Loss: 83.1962744023407\n",
      "The committee shall submit those draft regulatory technical standards to the Commission by 3 July 2015 in the first subparagraph in accordance with Articles 10 to 14 of Regulation (EU) No 600/2014.\n",
      "\n",
      "Power is conferred on the Commission shall submit those draft regulatory technical standards to the Commission shall submit those draft regulatory technical standards to the Commission by 3 July 2015 in the first subparagraph in accordance with Articles 10 to 14 of Regulation (EU) No 600/2014.\n",
      "\n",
      "Power is conferred on the Commission by 3 July 2015.\n",
      "\n",
      "Power is conferred on the Commission by 3 July 2015 in the first subparagraph in accordance with Articles 10 to 14 of Regulation (EU) No 600/2014.\n",
      "\n",
      "Power is conferred on the Commission by 3 July 2015 in the second subparagraph in accordance with Articles 10 to 14 of Regulation (EU) No 600/2014.\n",
      "\n",
      "Power is conferred on the Commission by 3 July 2015 in the first subparagraph in accordance with Articles 10 to 14 of Regulation (EU) No 600/2014.\n",
      "\n",
      "Power is conferred on the Commission shall \n",
      "\n",
      "Implemenation of the directives set out in the first subparagraph in accordance with Articles 10 to 14 of Regulation (EU) No 600/2014.\n",
      "\n",
      "Power is conferred on the Commission by 3 July 2015 or investment firm or market operator or and measures mease as referred to in the first subparagraph in accordance with Articles 10 to 14 of Regulation (EU) No 600/2014.\n",
      "\n",
      "Power is conferred on the Commission by 3 July 2015 in the first subparagraph in accordance with Articles 10 to 14 of Regulation (EU) No 600/2014.\n",
      "\n",
      "Power is conferred on the Commission shall submit those draft regulatory technical standards to the Commission shall submit those draft regulatory technical standards to the Commission by 3 July 2015 in the second subparagraph in accordance with Articles 10 to 14 of Regulation (EU) No 600/2014.\n",
      "\n",
      "Power is conferred on the Commission shall submit those draft regulatory technical standards to the Commission shall submit those draft regulatory technical standards to the Commission by 3 July 2015 in the first subparagraph in accordance with Articl\n",
      "Epoch 7. Loss: 82.87085271220425\n",
      "The committee shall submit those draft implementing technical standards to the Commission shall submit those draft implementing technical standards to the Commission by 3 July 2014 on the market operator or and make public and the securities may the competent authority of the home Member State shall require that investment firms and market operator or camigation to the investment firm or market operators operating an MTF or an OTF to be authorisation where the client and the provisions of this Directive are in particular investment firm or market operator or and make public on the client and the investment firm or market operator or and measure in the client and the provisions adopted pursuant to this Directive shelless and the investment firm or market operator or and measure compliance with the investment firm or market operator or and market operator or and in accordance with Article 15(2), the conditions for the provision of investment firms and market operators operating an MTF or an OTF to be authorisation wall as t\n",
      "\n",
      "Implemenation of the directives comparable means a derivatives they are retain internal supervisory activities to execute or insurance intermediary or insurance undertaking in the client and the provisions of this Directive shelless and the provisions adopted pursuant to this Directive are not compliance with the investment firm or market operator or camigation to the investment firm or market operator or and measure in the conditions for the provisions of the investment firm or market operator or camigation to the investment firm or market operators operating an MTF or an OTF to be authorisation wall as the client and the investment firm or market operator or camigation to the investment firm or market operator operating an MTF or an OTF to be authorisation within the meaning of the investment firm or market operator or communication by the client and the investment firm or market operators operating an MTF or an OTF to be authorisation wall as the client and the provisions adopted pursuant to this Directive shere activities that they con\n"
     ]
    },
    {
     "name": "stdout",
     "output_type": "stream",
     "text": [
      "Epoch 8. Loss: 82.70949467214399\n",
      "The committee shall not be as to a sisting and and public at the investment firm or market operator or and market operator or camigation to the competent authority of the home Member State shall require that the client orders or its reciming the investment firm or market operator operating an MTF or an OTF compliance with the investment firm or market operator operating an MTF or an OTF compliance with the investment firm or market operator operating an MTF or an OTF may allow the provisions of this Directive are abreat or conflict or incoppredecity to the client and that information to be provided to the client and that information to be provided to the client and the provisions of the client and the provisions of this Directive are applicable for the client and the investment firm or market operator operating an MTF or an OTF compliance with the investment firm or market operator or and market operator or and market operator or and measures to the client and that the client and the provisions of this Directive are appli\n",
      "\n",
      "Implemenation of the directives for the purposes of this Directive are applied to the client and the provisions of the client and the provisions of the client and the provisions of the client and the provisions of the client and the provisions of the client and the provisions of the client and the provisions of the client and the provisions of this Directive are applicable for equivalent to the competent authority of the home Member State shall require that the client and the provisions of the client and the provisions of this Directive are abreing lish of the client and the provisions of the client and the provisions of the client and the provisions adopted pursuant to this Directive shelimarement of the investment firm or market operator or and market operator or and market operator or and market operator or and market operator or and market operator or camigation to the competent authority of the home Member State shall require that the client and the provisions of this Directive are applicable for the prevision or of the client and the\n",
      "Epoch 9. Loss: 76.82215288281608\n",
      "The committee supervision of the investment firm to obtain that issuer or for the purposes of this Directive and of the Council of 13 Jule 2009/EC/EU of the European Parliament and of the Council (20) or the investment firm to operate and and consulting the client market abuse and in accordance with Article 19 of Regulation (EU) No 600/2014 and the client and activities and the conditions under Article 29(1) and in accordance with the provisions of this Directive and of the Council of 14 Megele to the competent authority of the home Member State shall require that investment firms and market operators operating an MTF or an OTF shall be considered to be a sember States shall require that investment firms and market operators operating an MTF or an OTF and the provisions of this Directive and of the Council of 14 Megellewst professional clients on the supervision of the investment firm to operate and and provided to the client and the provisions of this Directive and of the Council (43) or OTF and in shall be applied to be\n",
      "\n",
      "Implemenation of the directives provided that the competent authority of the home Member State shall require that investment firms and market operators operating an MTF or an OTF comply with the investment firm to operate and any competent authorities should be allowed to the competent authority of the home Member State shall require that investment firms and market operators operating an MTF or an OTF shall be considered to be a professional clients and the provisions of this Directive and of the Council (20) or participants to the competent authorities should be and procedures and other similar position limits of the investment firm to obtain that issuer or provided to the client and the provisions of this Directive and of the Council (20) or the conditions under Article 29(1) and in accordance with the provision of investment firms and market operators operating an MTF or an OTF shall be applied to be treated to the Commission shall be empowered to adopt delegated acts in accordance with Article 29(2) of this Directive shall be subject \n",
      "Epoch 10. Loss: 75.47063617672342\n",
      "The committee shall submit those draft implementing technical standards to the Commission to adopt the regulatory technical standards to the Commission to adopt the implementing technical standards to the Commission to adopt the implementing technical standards to the Commission to adopt the implementing technical standards to the Commission to adopt the implementing technical standards to the Commission to adopt the implementing technical standards to the Commission to adopt the regulatory technical standards to the Commission to adopt the implementing technical standards to the Commission to adopt the implementing technical standards to the Commission to adopt the implementing technical standards to the Commission to adopt the implementing technical standards to the Commission to adopt the regulatory technical standards to the Commission to adopt the implementing technical standards to the Commission to adopt the implementing technical standards to the Commission to adopt the regulatory technical standards to the Commis\n",
      "\n",
      "Implemenation of the directives provided that the conditions under Article 29(1), the first subparagraph in accordance with Article 19 of Regulation (EU) No 600/2014 and the competent authority of the home Member State shall require that investment firms and market operators operating an MTF or an OTF and the investment firm to obtain that issuer or for the provisions of this Directive and of the Council of 16 Member States shall require that investment firms and market operator operating an MTF or an OTF and the client market abuse and in accordance with Article 29(1);\n",
      "\n",
      "(xxxi)\n",
      "\t\n",
      "\n",
      "Article 29(1) and (3);\n",
      "\n",
      "(xxxi)\n",
      "\t\n",
      "\n",
      "Article 39(1) and (3);\n",
      "\n",
      "(xx)\n",
      "\t\n",
      "\n",
      "Article 34(1), the first subparagraph in accordance with Article 89 to be appropriate to be taken into account in the conditions under this Directive and shall clearly fremune methodal laving a competent authorities to conce the investment firm to operate and and provided to the client and the conditions under this Directive shall be considered to be an investment firm to obtain that issuer or for \n",
      "Epoch 11. Loss: 74.93346284544862\n",
      "The committee shall submit those draft implementing technical standards to the Commission to adopt the implementing technical standards to the Commission to adopt the implementing technical standards to the Commission to adopt the regulatory technical standards to the Commission to adopt the implementing technical standards to the Commission to adopt the implementing technical standards to the Commission to adopt the implementing technical standards to the Commission to adopt the implementing technical standards to the Commission to adopt the implementing technical standards to the Commission to adopt the implementing technical standards to the Commission to adopt the implementing technical standards to the Commission to adopt the implementing technical standards to the Commission to adopt the implementing technical standards to the Commission to adopt the regulatory technical standards to the Commission to adopt the implementing technical standards to the Commission to adopt the implementing technical standards to the Co\n",
      "\n",
      "Implemenation of the directives provided to the client and the conditions under this Directive and shall also be executing the conditions under this Directive shall be provided to the client and the conditions under this Directive shall be provided to the client and the second sentence of Article 2(1) of Regulation (EU) No 600/2014 and the competent authority of the home Member State shall require that investment firms and market operator operating an MTF or an OTF and the provisions of this Directive or of Regulation (EU) No 600/2014 and the competent authority shall communicate to the competent authority of the home Member State shall require that investment firms and market operator operating an MTF or an OTF and other investment firms and market operator operating an MTF or an OTF and the competent authority of the home Member State shall require that investment firms and market operator operating an MTF or an OTF and the competent authority shall communicate that the competent authorities may with a sighificant dolimit as a plients of\n"
     ]
    },
    {
     "name": "stdout",
     "output_type": "stream",
     "text": [
      "Epoch 12. Loss: 74.70431235533704\n",
      "The committee supervision of the investment firm to one of the investment firm to comply with the conditions under this Directive and shall deferols with the investment firm to obtain that issuer or for the provisions of this Directive or of Regulation (EU) No 600/2014 and the investment firm to one or more of the investment firm to obtained by any APticles or activity of the investment firm to obtained by any APticles or activities to concent of the investment firm to obtain that information to comply with the conditions under this Directive and of the Council of 16 Member States shall require that investment firms and market operator operating an MTF or an OTF and the investment firm to comply with the requirements satisured and the investment firm to comply with the requirements should be and pose sefercl discretions in accordance with Article 19(1) to (1) and (3);\n",
      "\n",
      "(xxxi))\n",
      "\n",
      "\n",
      "st is appropriate to the competent authorities to be taken into account in the conditions under this Directive and in accordance with the provisi\n",
      "\n",
      "Implemenation of the directives provided for in paragraph 1 of this Directive or of Regulation (EU) No 600/2014 and the competent authority of the home Member State shall require that investment firms and market operator operating an MTF or an OTF comply with the conditions under this Directive shall be considered to be an investment firm to obtained by any APticles or activities to concent of the investment firm to comply with the requirements laid down in the financial instruments and account of the service the information to the competent authorities to conflict of interest between the investment firm to operate and account of the investment firm to comply with the requirements should be and pose seferremoration and other similar posting systems as defined in Article 2(1) of Regulation (EU) No 600/2014 and the competent authority of the host Member State shall require that investment firms and market operators operating an MTF or an OTF and the provisions of this Directive or of Regulation (EU) No 600/2014 and the competent authorities \n",
      "Epoch 13. Loss: 74.5971471584066\n",
      "The committee supervision of the investment firm with the conditions under this Directive shall be considered to be an investment firm to obtain that issuer or for the provisions of this Directive or of Regulation (EU) No 600/2014 and the competent authority of the host Member State shall require that investment firms and market operator operating an MTF or an OTF to also such a manngite market abuse in relation to the competent authority of the host Member State shall require that the competent authority of the home Member State shall require that investment firms and market operators operating an MTF to the competent authority of the host Member State shall require that investment firms and market operator operating an MTF or an OTF to also such as the investment firm to comply with the requirements set out in the first subparagraph in accordance with Article 29(2) and (3);\n",
      "\n",
      "(xx)\n",
      "\t\n",
      "\n",
      "A financial instruments and account of the investment firm shall assessment of the investment firm to comply with the requirements laid dow\n",
      "\n",
      "Implemenation of the directives provided that the conditions under this Directive shall be considered to be an investment firm to comply with the requirements laid down in Article 14(2) to (1) and (3);\n",
      "\n",
      "(xxvi)\n",
      "\t\n",
      "\n",
      "Article 20(1), the first subparagraph in accordance with Article 89 and the first subparagraph in accordance with Article 89 and the first subparagraph in accordance with Article 89 and the second subparagraph of Article 20(1), the first subparagraph in accordance with Article 19 of Regulation (EU) No 600/2014 and the competent authority of the host Member State shall require that investment firms and market operator operating an MTF or an OTF and the provisions of this Directive or of Regulation (EU) No 600/2014 and the competent authority of the home Member State shall require that investment firms and market operators operating an MTF to the competent authority of the host Member State shall require that investment firms and market operator operating an MTF or an OTF and the investment firm to comply with the requirements laid \n",
      "Epoch 14. Loss: 74.31919457564626\n",
      "The committee supervision of the investment firm to comply with the requirements set out in the first subparagraph in accordance with Article 19(2) to (1) and (3);\n",
      "\n",
      "(xxvi)\n",
      "\t\n",
      "\n",
      "Article 29(1) to (1) and (3);\n",
      "\n",
      "(xx)\n",
      "\t\n",
      "\n",
      "â€˜competent authorities to conditions for investment firms and market operators operating an MTF to the competent authority of the host Member State shall require that investment firms and market operator operating an MTF or an OTF to also such as the investment firm to obtain that information and to applicable to the competent authorities to conditions for investment firms and market operator operating an MTF or an OTF shall be considered to be an investment firm and the conditions under this Directive and of the Council of 26 And the provisions of this Directive and of the Council of 16 Member State shall develop draft regulatory technical standards to the Commission to adopt the regulatory technical standards to the Commission to adopt the regulatory technical standards to the Commission to adopt the impleme\n",
      "\n",
      "Implemenation of the directives provided that they are procedures and any admins reasonable suspections excluding the investment firm or market operator operating an MTF or an OTF shall be considered to be an investment firm to comply with the requirements laid down in Article 15(2) to (1) and (3);\n",
      "\n",
      "(xxvi)\n",
      "\t\n",
      "\n",
      "Article 29(1), the first subparagraph in accordance with Article 89 and the provisions of this Directive or of Regulation (EU) No 600/2014. The Commission shall be empowered to adopt delegated acts subject to the competent authorities to conding for the provision of investment services and activities and contrictury subject to the competent authorities to conditions and procedures and arrangements to the investment firm to comply with the requirements laid down in Article 15(2) to (1) and (3);\n",
      "\n",
      "(xxx)\n",
      "\t\n",
      "\n",
      "the supervision of the investment firm to comply with the requirements set out in this Directive shelled to adopt delegated acts in accordance with Article 89 account the conditions under this Directive and of the Council of 26 And the\n",
      "Epoch 15. Loss: 74.16212432185633\n",
      "The committee supervision of the investment firm to comply with the requirements set out in this Directive or of Regulation (EU) No 600/2014 and the competent authorities to conflicts of interest between the investment firm or market operator operating an MTF or an OTF competent authorities to conflicts of interest between the investment firm to communicate to comply with the conditions under this Directive and of the Council (20).\n",
      "\n",
      "3.   The authorisation was referred to in the first subparagraph in accordance with Article 69(1) and the competent authority of the home Member State or transactions or information to be assessment of the investment firm with the investment firm and the investment firm to comply with the requirements set out in the first subparagraph in accordance with Article 89 to specify the competent authority of the home Member State shall require that investment firms and market operator operating an MTF or an OTF comply with the provision of investment firms and market operator operating an MTF or an O\n",
      "\n",
      "Implemenation of the directives provided that they are provide the conditions under this Directive and of the Council of 26 Anvestment the proposed acquisition in the conditions under this Directive and of the Council of 26 Megulation (EU) No 600/2014 and the competent authority of the home Member State shall require that investment firms and market operator operating an MTF or an OTF comply with the second subparagraph of Article 37(2);\n",
      "\n",
      "(xxxii)\n",
      "\t\n",
      "\n",
      "Article 20(1), the first subparagraph in accordance with Article 69(2) and (3);\n",
      "\n",
      "(xx)\n",
      "\t\n",
      "\n",
      "â€˜stifue to comply with the conditions under this Directive and of the Council of 16 Member State shall develop draft regulatory technical standards to the Commission by 3 January 2016.\n",
      "\n",
      "Power is comply with the requirements to perform investment activities and the conditions under this Directive and of the Council of 16 Member State shall provide the investment firm to communicate to the competent authority of the home Member State shall require that investment firms and market operator operating an MTF o\n"
     ]
    },
    {
     "name": "stdout",
     "output_type": "stream",
     "text": [
      "Epoch 16. Loss: 74.15061771742228\n",
      "The committee supporabing of the investment firm to obtain that is provided to the client and the second subparagraph of Article 25(1), the first subparagraph in accordance with Article 89 and the investment firm to obtain that is procedures and arrangements to ensure that the competent authority of the home Member State of the investment firm to obtain that is procedures and arrangements to ensure that the competent authority of the home Member State shall require that investment firms and market operator operating an MTF or an OTF settle in point (b) of Article 20(1), the first subparagraph in accordance with Article 19 of Regulation (EU) No 600/2014.\n",
      "\n",
      "(11)\n",
      "\t\n",
      "\n",
      "Ither detiolal period in accordance with the provision of investment firms and market operator operating an MTF or an OTF secure to the competent authority of the home Member State of the investment firm to obtain that issuer or for the purpose of this Directive or of Regulation (EU) No 600/2014.\n",
      "\n",
      "(12)\n",
      "\t\n",
      "\n",
      "It is appropriate protection of personal data reporting ser\n",
      "\n",
      "Implemenation of the directives provided that they are not apply to the investment firm to comply with the requirements set out in this Directive shall not be complex tereshonds. The Commission by 3 January 2016.\n",
      "\n",
      "Power is comply with the conditions under Article 15(1) to (1) and (3);\n",
      "\n",
      "(xxx)\n",
      "\t\n",
      "\n",
      "Article 20(1), the first subparagraph in accordance with Article 8 of the European Parliament and of the Council of 26 And is in respect of the investment firm to comply with the requirements set out in this Directive are applicable to the competent authority of the host Member State shall be considered to be a trading venues to the investment firm to comply with the investment firm in the competent authority of the home Member State of the investment firm to obtain that is procedures and activities that the client and apply the provisions of this Directive or of Regulation (EU) No 600/2014. (3) Lf211.\n",
      "\n",
      "(15)  Directive 2003/79/EC of the European Parliament and of the Council of 26 And is in respect of the investment firm in relation to the competent\n",
      "Epoch 17. Loss: 74.2100000118156\n",
      "The committee supervision of the investment firm to comply with the requirements laid down in Article 14(1) and Antitle be the competent authority shall include a disfrational information and to appoination to compliance with the persons in order to ensure that the competent authority shall communicate the investment firm to comply with the requirements laid down in Article 20(2), the competent authority of the host Member State shall provide the investment firm to comply with the investment firm to comply with the investment firm to comply with the investment firm to comply with the requirements for the purposes of this Directive or of Regulation (EU) No 600/2014. The investment firm to obtain that is proposed acquisition in the conditions under this Directive and of the Council of 16 July 2015 and the competent authority of the host Member State shall be considered to be a professional clients as defined in Article 2(1) of Regulation (EU) No 600/2014.\n",
      "\n",
      "Power is conferred on the Commission to adopt the implementing techn\n",
      "\n",
      "Implemenation of the directives provided to the client and activities to conce third-carry tupes and the competent authority of the host Member State shall be considered to be a trading venue and compliance with the provision of the investment firm to comply with the requirements laid down in Article 2(1) of Regulation (EU) No 600/2014.\n",
      "\n",
      "(13)\n",
      "\t\n",
      "\n",
      "It is appropriate such information provided to the client and activities to conce third-carry tupes and adenter point in accordance with Article 19 of Regulation (EU) No 600/2014. The investment firm to obtain that is also appoint the financial instruments as defined in Article 2(1) of Regulation (EU) No 600/2014 and the competent authority of the home Member State shall require that investment firms and market operator operating an MTF or an OTF comply with the investment firm to comply with the requirements laid down in Article 14(1) and Antitle brencised by a particular the second subparagraph in accordance with Article 89 and the person in accordance with Article 89 and the investment firm to c\n",
      "Epoch 18. Loss: 74.06592224273516\n",
      "The committee supervisory activities to considered to be and subsee and of the competent authority of the home Member State of the investment firm to comply with the requirements laid down in Article 15(2) to (1) and (3);\n",
      "\n",
      "(xxx)\n",
      "\t\n",
      "\n",
      "the second subparagraph of Article 2(1) of Regulation (EU) No 600/2014 and the investment firm to obtain that service provided to the client and activities to consideration of the investment firm in the competent authority shall communicate to the competent authority of the home Member State of the investment firm in the competent authority shall communicate to the competent authority of the home Member State of the investment firm to communicate to the competent authority of the home Member State of the investment firm to obtain that service provided to the client and activities to conflicts of interest and the investment firm in the competent authority shall communicate to the competent authority of the home Member State shall require that investment firms and market operator operating an MTF\n",
      "\n",
      "Implemenation of the directives provided for in Article 19(1) to (1) and (3);\n",
      "\n",
      "(xxviit)\n",
      "\t\n",
      "\n",
      "Article 20(1) to (1) and (3);\n",
      "\n",
      "(xxvii))\n",
      "\n",
      "\n",
      "Action has been that they are not apply to the investment firm to communicate to the competent authority of the home Member State shall require that the investment firm in the competent authority shall communicate to the competent authority of the home Member State of the client to any of the competent authority shall communicate to the competent authority of the home Member State of the investment firm in the competent authority shall communicate to the competent authority of the home Member State of the investment firm to obtain that service provided to the client and activities to consideration of the investment firm to comply with the requirements laid down in Article 2 of Regulation (EU) No 600/2014, precempersaile is subject to the provisions of this Directive or of Regulation (EU) No 600/2014 and the investment firm to obtain that service provided to the client and activities to consideration of the in\n",
      "Epoch 19. Loss: 71.50100069342552\n",
      "The committee supporaring the second subparagraph of Article 2(1) of Regulation (EU) No 600/2014 and the conditions under this Directive and the provisions of this Directive and of the European Parliament and of the Council of 16 Megelt wotition of the proposed acquirer and the service of potential client and activities and the conditions under this Directive and shall communicate to the competent authority of the home Member State shall require that investment firms and market operator operating an MTF or an OTF comply with the requirements laid down in Article 1(1) and the conditions under this Directive and shall communicate to the competent authority of the home Member State shall require that investment firms and market operator operating an MTF or an OTF comply with the requirements laid down in Article 2(1) of Regulation (EU) No 600/2014.\n",
      "\n",
      "Power is conferred on the Commission by 3 July 2015.\n",
      "\n",
      "Power is conferred on the Commission by 3 July 2015.\n",
      "\n",
      "Power is conferred on the Commission by 3 July 2015.\n",
      "\n",
      "Power is conferr\n",
      "\n",
      "Implemenation of the directives be activities that the conditions under this Directive and the provisions of this Directive or of Regulation (EU) No 600/2014.\n",
      "\n",
      "Power is conferred on the Commission to adopt the regulatory technical standards to the Commission by 3 July 2015.\n",
      "\n",
      "Power is conferred on the Commission by 3 July 2015.\n",
      "\n",
      "Power is conferred on the Commission by 3 July 2015.\n",
      "\n",
      "Power is conferred on the Commission by 3 July 2015.\n",
      "\n",
      "Power is conferred on the Commission to adopt the regulatory technical standards to the Commission by 3 July 2015.\n",
      "\n",
      "Power is conferred on the Commission by 3 July 2015.\n",
      "\n",
      "Power is conferred on the Commission by 3 July 2015.\n",
      "\n",
      "Power is conferred on the Commission by 3 July 2015.\n",
      "\n",
      "Power is conferred on the Commission by 3 July 2015.\n",
      "\n",
      "Power is conferred on the Commission by 3 July 2015.\n",
      "\n",
      "Power is conferred on the Commission by 3 July 2015.\n",
      "\n",
      "Power is conferred on the Commission by 3 July 2015.\n",
      "\n",
      "Power is conferred on the Commission to adopt the regulatory technical standards to the Commission by 3 July 2015.\n",
      "\n",
      "Power i\n"
     ]
    },
    {
     "name": "stdout",
     "output_type": "stream",
     "text": [
      "Epoch 20. Loss: 70.73005477745544\n",
      "The committee shall submit those draft regulatory technical standards to the Commission by 3 July 2015.\n",
      "\n",
      "Power is delegated to the Commission by 3 July 2015.\n",
      "\n",
      "Power is conferred on the Commission to adopt the regulatory technical standards to the Commission by 3 July 2015.\n",
      "\n",
      "Power is conferred on the Commission by 3 July 2015.\n",
      "\n",
      "Power is conferred on the Commission to adopt the regulatory technical standards to the Commission by 3 July 2015.\n",
      "\n",
      "Power is delegated to the Commission by 3 July 2015.\n",
      "\n",
      "Power is conferred on the Commission by 3 July 2015.\n",
      "\n",
      "Power is conferred on the Commission by 3 July 2015.\n",
      "\n",
      "Power is conferred on the Commission by 3 July 2015.\n",
      "\n",
      "Power is conferred on the Commission by 3 July 2015.\n",
      "\n",
      "Power is conferred on the Commission by 3 July 2015.\n",
      "\n",
      "Power is conferred on the Commission by 3 July 2015.\n",
      "\n",
      "Power is conferred on the Commission by 3 July 2015.\n",
      "\n",
      "Power is conferred on the Commission by 3 July 2015.\n",
      "\n",
      "Power is conferred on the Commission by 3 July 2015.\n",
      "\n",
      "Power is conferred on the Commission by 3 July 2015.\n",
      "\n",
      "Implemenation of the directives by an independent basis of the investment firm to comply with the requirements laid down in Article 15(2) and (3);\n",
      "\n",
      "(xx)\n",
      "\t\n",
      "\n",
      "Article 2(1) of Regulation (EU) No 600/2014 and the conditions under which an investment firm to comply with the requirements laid down in Article 14(1) and (3);\n",
      "\n",
      "(xx)\n",
      "\t\n",
      "\n",
      "Article 20(1), the first subparagraph in accordance with Article 89 to specify the competent authority of the home Member State of the competent authority of the home Member State shall require that investment firms and market operator operating an MTF or an OTF comply with the requirements laid down in Article 2(1) of Regulation (EU) No 600/2014.\n",
      "\n",
      "Power is conferred on the Commission by 3 July 2015.\n",
      "\n",
      "Power is conferred on the Commission by 3 July 2015.\n",
      "\n",
      "Power is conferred on the Commission by 3 July 2015.\n",
      "\n",
      "Power is delegated to the Commission by 3 July 2015.\n",
      "\n",
      "Power is conferred on the Commission by 3 July 2015.\n",
      "\n",
      "Power is conferred on the Commission by 3 July 2015.\n",
      "\n",
      "Power is conferred on the Commission by 3 July 2015.\n",
      "\n",
      "Epoch 21. Loss: 70.37216528011275\n",
      "The committee shall submit those draft regulatory technical standards to the Commission by 3 July 2015.\n",
      "\n",
      "Power is conferred on the Commission by 3 July 2015.\n",
      "\n",
      "Power is conferred on the Commission by 3 July 2015.\n",
      "\n",
      "Power is conferred on the Commission to adopt the regulatory technical standards to the Commission by 3 July 2015.\n",
      "\n",
      "Power is conferred on the Commission by 3 July 2015.\n",
      "\n",
      "Power is conferred on the Commission to adopt the regulatory technical standards to the Commission by 3 July 2015.\n",
      "\n",
      "Power is conferred on the Commission by 3 July 2015.\n",
      "\n",
      "Power is conferred on the Commission to adopt the regulatory technical standards to the Commission by 3 July 2015.\n",
      "\n",
      "Power is conferred on the Commission by 3 July 2015.\n",
      "\n",
      "Power is conferred on the Commission by 3 July 2015.\n",
      "\n",
      "Power is conferred on the Commission to adopt the regulatory technical standards referred to in the first subparagraph in accordance with Article 19 of Regulation (EU) No 600/2014 and the conditions under which an investment firm to comply with the requirement\n",
      "\n",
      "Implemenation of the directives referred to in paragraph 1 and the provisions adopted pursuant to this Directive and the competent authority of the home Member State shall require that investment firms and market operators operating an MTF or an OTF establish ensure that the conditions under this Directive and shall communicate to the competent authority of the home Member State shall require that investment firms and market operator operating an MTF or an OTF establish ensure that the competent authorities of the investment firm to comply with the requirements laid down in Article 14(1) and (3);\n",
      "\n",
      "(xx)\n",
      "\t\n",
      "\n",
      "Article 2(1) of Regulation (EU) No 600/2014 and the conditions under which an investment firm to comply with the requirements laid down in Article 2(1) of Regulation (EU) No 600/2014, procedures as a proification and shall clients within a regulated market to the competent authority of the home Member State shall require that investment firms and market operator operating an MTF or an OTF establish ensure that the conditions under this Di\n",
      "Epoch 22. Loss: 70.14054719179978\n",
      "The committee shall submit those draft regulatory technical standards to the Commission by 3 July 2015.\n",
      "\n",
      "Power is conferred on the Commission by 3 July 2015.\n",
      "\n",
      "Power is conferred on the Commission by 3 July 2015.\n",
      "\n",
      "Power is delegated to the Commission by 3 July 2015.\n",
      "\n",
      "Power is conferred on the Commission by 3 July 2015.\n",
      "\n",
      "Power is conferred on the Commission to adopt the regulatory technical standards to the Commission by 3 July 2015.\n",
      "\n",
      "Power is delegated to the Commission by 3 July 2015.\n",
      "\n",
      "Power is conferred on the Commission to adopt the regulatory technical standards to the Commission by 3 July 2015.\n",
      "\n",
      "Power is conferred on the Commission to adopt the implementing technical standards to the Commission by 3 July 2015.\n",
      "\n",
      "Power is conferred on the Commission to adopt the regulatory technical standards to the Commission by 3 July 2015.\n",
      "\n",
      "Power is conferred on the Commission to adopt the regulatory technical standards referred to in the first subparagraph in accordance with Article 19 of Regulation (EU) No 600/2014.\n",
      "\n",
      "Power is confe\n",
      "\n",
      "Implemenation of the directives referred to in paragraph 1 and the provisions adopted pursuant to this Directive and of the Council of 16 Megelt woritirity of the competent authority of the home Member State shall communicate to the competent authority of the home Member State shall communicate to the Commission by 3 July 2015.\n",
      "\n",
      "Power is delegated to the Commission by 3 July 2015.\n",
      "\n",
      "Power is conferred on the Commission to adopt the implementing technical standards to the Commission by 3 July 2015.\n",
      "\n",
      "Power is conferred on the Commission to adopt the regulatory technical standards to the Commission by 3 July 2015.\n",
      "\n",
      "Power is conferred on the Commission by 3 July 2015.\n",
      "\n",
      "Power is conferred on the Commission by 3 July 2015.\n",
      "\n",
      "Power is conferred on the Commission by 3 July 2015.\n",
      "\n",
      "Power is conferred on the Commission by 3 July 2015.\n",
      "\n",
      "Power is conferred on the Commission to adopt the regulatory technical standards to the Commission by 3 July 2015.\n",
      "\n",
      "Power is conferred on the Commission to adopt the regulatory technical standards to the Commission by 3 \n",
      "Epoch 23. Loss: 69.93515041780991\n",
      "The committee shall submit those draft regulatory technical standards to the Commission by 3 July 2015.\n",
      "\n",
      "Power is conferred on the Commission by 3 July 2015.\n",
      "\n",
      "Power is conferred on the Commission by 3 July 2015.\n",
      "\n",
      "Power is conferred on the Commission to adopt the regulatory technical standards referred to in the first subparagraph in accordance with Article 69(2) and (3);\n",
      "\n",
      "(xxxi))\n",
      "\t\n",
      "\n",
      "the conditions and procedures and arrangements to a trading venues to the investment firm to communicate to the competent authority of the home Member State shall require that investment firms and market operators operating an MTF or an OTF comply with the requirements to ensure that the conditions under this Directive and shall communicate the investment firm to comply with the provisions of this Directive or of Regulation (EU) No 600/2014 and the provision of investment firms and market operator operating an MTF or an OTF comply with the relevant recommend to the competent authority of the home Member State shall communicate the investment f\n",
      "\n",
      "Implemenation of the directives referred to in the first subparagraph in accordance with Article 89 to specify the competent authority of the home Member State of the conditions under which an investment firm to comply with the requirements laid down in paragraph 1 of this Directive or of Regulation (EU) No 600/2014 and the competent authority of the home Member State of the conditions under Article 2(1) of Regulation (EU) No 600/2014 and the conditions under which an investment firm to comply with the requirements laid down in paragraph 1 of this Directive or of Regulation (EU) No 600/2014 and the conditions under which an investment firm to comply with the provisions of this Directive or of Regulation (EU) No 600/2014 and the competent authority of the home Member State of the conditions under which and paragraph 1 and the provisions of this Directive or of Regulation (EU) No 600/2014.\n",
      "\n",
      "Article 34\n",
      "\n",
      "Competent authorities may allow the conditions and procedures and arrangements to a trading venues to ensure that the conditions and procedur\n"
     ]
    },
    {
     "name": "stdout",
     "output_type": "stream",
     "text": [
      "Epoch 24. Loss: 69.77740541578774\n",
      "The committee shall submit those draft regulatory technical standards to the Commission by 3 July 2015.\n",
      "\n",
      "Power is delegated to the Commission to adopt the regulatory technical standards to the Commission by 3 July 2015.\n",
      "\n",
      "Power is delegated to the Commission to adopt the regulatory technical standards to the Commission to adopt the regulatory technical standards to the Commission by 3 July 2015.\n",
      "\n",
      "Power is delegated to the Commission to adopt the regulatory technical standards to the Commission by 3 July 2015.\n",
      "\n",
      "Power is delegated to the Commission by 3 July 2015.\n",
      "\n",
      "Power is delegated to the Commission to adopt the regulatory technical standards to the Commission by 3 July 2015.\n",
      "\n",
      "Power is delegated to the Commission by 3 July 2015.\n",
      "\n",
      "Power is delegated to the Commission to adopt the regulatory technical standards to the Commission to adopt the regulatory technical standards to the Commission to adopt the regulatory technical standards to the Commission by 3 July 2015.\n",
      "\n",
      "Power is delegated to the Commission to adopt the regulato\n",
      "\n",
      "Implemenation of the directives referred to in the first subparagraph in accordance with Article 89 to specify the competent authority of the home Member State or transmit and the provisions adopted pursuant to this Directive or of Regulation (EU) No 600/2014.\n",
      "\n",
      "Article 13\n",
      "\n",
      "Article 20(1), the first subparagraph of Article 2(1) of Regulation (EU) No 600/2014.\n",
      "\n",
      "3.   The competent authority of the home Member State or transmit and the supervision of the competent authority of the home Member State shall communicate to the Commission to adopt the regulatory technical standards to the Commission by 3 July 2015.\n",
      "\n",
      "Power is delegated to the Commission to adopt the regulatory technical standards to the Commission to adopt the regulatory technical standards to the Commission by 3 July 2015.\n",
      "\n",
      "Power is delegated to the Commission by 3 July 2015.\n",
      "\n",
      "Power is delegated to the Commission to adopt the regulatory technical standards to the Commission by 3 July 2015.\n",
      "\n",
      "Power is delegated to the Commission to adopt the regulatory technical standards to the Commi\n",
      "Epoch 25. Loss: 69.68628449297643\n",
      "The committee shall submit those draft implementing technical standards to the Commission by 3 July 2015.\n",
      "\n",
      "Power is delegated to the Commission to adopt the regulatory technical standards to the Commission by 3 July 2015.\n",
      "\n",
      "Power is delegated to the Commission by 3 July 2015.\n",
      "\n",
      "Power is delegated to the Commission by 3 July 2015.\n",
      "\n",
      "Power is delegated to the Commission by 3 July 2015.\n",
      "\n",
      "Power is delegated to the Commission by 3 July 2015.\n",
      "\n",
      "Power is delegated to the Commission by 3 July 2015.\n",
      "\n",
      "Power is delegated to the Commission by 3 July 2015.\n",
      "\n",
      "Power is delegated to the Commission to adopt the regulatory technical standards to the Commission by 3 July 2015.\n",
      "\n",
      "Power is delegated to the Commission by 3 July 2015.\n",
      "\n",
      "Power is delegated to the Commission to adopt the regulatory technical standards to the Commission by 3 July 2015.\n",
      "\n",
      "Power is delegated to the Commission by 3 July 2015.\n",
      "\n",
      "Power is delegated to the Commission by 3 July 2015.\n",
      "\n",
      "Power is delegated to the Commission by 3 July 2015.\n",
      "\n",
      "Power is delegated to the Commission by 3 \n",
      "\n",
      "Implemenation of the directives referred to in paragraph 1 and the provisions adopted pursuant to this Directive in the content of the investment firm to and of the competent authority of the home Member State shall require that investment firms and market operators operating an MTF or an OTF comply with the requirements laid down in Article 1(1) and the competent authority of the home Member State shall require that investment firms and market operators operating an MTF or an OTF comply with the provision of investment firms and market operator operating an MTF or an OTF comply with the provision of investment firms and market operator operating an MTF or an OTF competent authorities shall be considered to be a sumertions and measures and other competent authorities should be and persons involving the procedures and creail ale information and considered to be a third party in accordance with Article 19(1) to (1) and (3);\n",
      "\n",
      "(xxx)\n",
      "\t\n",
      "\n",
      "the supervision of consideration of the investment firm and the conditions under this Directive and shall com\n",
      "Epoch 26. Loss: 69.60720981906374\n",
      "The committee shall submit those draft implementing technical standards to the Commission by 3 July 2015.\n",
      "\n",
      "Power is delegated to the Commission by 3 July 2015.\n",
      "\n",
      "Power is delegated to the Commission to adopt the regulatory technical standards to the Commission to adopt the regulatory technical standards referred to in the first subparagraph in accordance with Article 89 to specify the competent authority of the home Member State shall require that investment firms and market operators operating an MTF or an OTF comply with the provision of investment firms and market operators operating an MTF or an OTF comply with the requirements laid down in paragraph 1 are to be able to concent and of the Council of 16 Megelt wnicable to the competent authorities of the transaction in accordance with Article 29 of Regulation (EU) No 600/2014.\n",
      "\n",
      "Power is conferred on the Commission to adopt the regulatory technical standards to the Commission by 3 July 2015.\n",
      "\n",
      "Power is delegated to the Commission to adopt the regulatory technical standard\n",
      "\n",
      "Implemenation of the directives referred to in paragraph 1 and the provisions of this Directive or of Regulation (EU) No 600/2014.\n",
      "\n",
      "Article 23\n",
      "\n",
      "Register that are required by this Directive and of the Council of 26 Anvestment termitaled by a dementing trading venues to the investment firm that the conditions under this Directive and shall communicate to the competent authority of the home Member State shall require that investment firms and market operators operating an MTF or an OTF competent authorities shall be considered to be a provisions of this Directive the orderly functioning of the market operator operating an MTF or an OTF comply with the requirements laid down in paragraph 1 of this Directive and of the European Parliament and of the Council of 16 Member State shall be included by the competent authority of the home Member State shall require that investment firms and market operators operating an MTF or an OTF comply with the provisions of this Directive or of Regulation (EU) No 600/2014.\n",
      "\n",
      "Article 33\n",
      "\n",
      "Coverent and are under the\n",
      "Epoch 27. Loss: 69.46303000570776\n",
      "The committee shall submit those draft regulatory technical standards to the Commission by 3 July 2015.\n",
      "\n",
      "Power is delegated to the Commission to adopt the regulatory technical standards to the Commission by 3 July 2015.\n",
      "\n",
      "Power is delegated to the Commission by 3 July 2015.\n",
      "\n",
      "Power is delegated to the Commission to adopt the regulatory technical standards to the Commission by 3 July 2015.\n",
      "\n",
      "Power is delegated to the Commission by 3 July 2015.\n",
      "\n",
      "Power is conferred on the Commission to adopt the regulatory technical standards to the Commission to adopt the regulatory technical standards to the Commission by 3 July 2015.\n",
      "\n",
      "Power is delegated to the Commission by 3 July 2015.\n",
      "\n",
      "Power is delegated to the Commission by 3 July 2015.\n",
      "\n",
      "Power is delegated to the Commission by 3 July 2015.\n",
      "\n",
      "Power is delegated to the Commission to adopt the regulatory technical standards to the Commission by 3 July 2015.\n",
      "\n",
      "Power is delegated to the Commission to adopt the regulatory technical standards to the Commission by 3 July 2015.\n",
      "\n",
      "Power is delegated t\n",
      "\n",
      "Implemenation of the directives referred to in the first subparagraph in accordance with Article 19 of Regulation (EU) No 600/2014.\n",
      "\n",
      "3.   The competent authority of the home Member State shall require that investment firms and market operators operating an MTF or an OTF comply with the provision of investment firms and market operator operating an MTF or an OTF comply with the provision of investment firms and market operator operating an MTF or an OTF competent authorities shall be considered to be a provedube and in accordance with Article 19(1) and (3);\n",
      "\n",
      "(xiv)\n",
      "\t\n",
      "\n",
      "Article 2(1) of Regulation (EU) No 600/2014.\n",
      "\n",
      "3.   The Commission shall be empowered to adopt delegated acts in accordance with Article 19 of Regulation (EU) No 600/2014.\n",
      "\n",
      "3.   The competent authority of the home Member State shall require that investment firms and market operators operating an MTF or an OTF establish ensure that the competent authority of the home Member State of the conditions under which a reasonable stems to ensure that the conditions and procedures for the\n"
     ]
    },
    {
     "name": "stdout",
     "output_type": "stream",
     "text": [
      "Epoch 28. Loss: 69.31699228817698\n",
      "The committee shall submit those draft regulatory technical standards to the Commission by 3 July 2015.\n",
      "\n",
      "Power is delegated to the Commission to adopt the regulatory technical standards to the Commission by 3 July 2015.\n",
      "\n",
      "Power is delegated to the Commission to adopt the regulatory technical standards to the Commission by 3 July 2015.\n",
      "\n",
      "Power is delegated to the Commission to adopt the regulatory technical standards to the Commission by 3 July 2015.\n",
      "\n",
      "Power is delegated to the Commission to adopt the regulatory technical standards referred to in the first subparagraph in accordance with Article 89 to specify the investment firm in relation to the competent authorities to ensure that the competent authority of the home Member State shall communicate to the competent authority of the home Member State shall communicate to the Commission to adopt the regulatory technical standards to the Commission by 3 July 2015.\n",
      "\n",
      "Power is delegated to the Commission to adopt the regulatory technical standards to the Commission by 3 July 2015.\n",
      "\n",
      "Implemenation of the directives referred to in paragraph 1 and that it as a sestoms. exclading the investment firm or market operator operating an MTF or an OTF and other financial instruments as defined in Article 1(1) of Regulation (EU) No 600/2014.\n",
      "\n",
      "Power is conferred on the Commission to adopt the regulatory technical standards to the Commission by 3 July 2015.\n",
      "\n",
      "Power is delegated to the Commission to adopt the regulatory technical standards to the Commission by 3 July 2015.\n",
      "\n",
      "Power is delegated to the Commission to adopt the regulatory technical standards to the Commission to adopt the regulatory technical standards to the Commission by 3 July 2015.\n",
      "\n",
      "Power is delegated to the Commission to adopt the regulatory technical standards to the Commission by 3 July 2015.\n",
      "\n",
      "Power is delegated to the Commission to adopt the regulatory technical standards to the Commission by 3 July 2015.\n",
      "\n",
      "Power is delegated to the Commission to adopt the regulatory technical standards to the Commission by 3 July 2015.\n",
      "\n",
      "Power is delegated to the Commission to adop\n",
      "Epoch 29. Loss: 68.32652782447084\n",
      "The committee shall be interest and shall be uppose the service of the procedures and arrangements management of the services to the competent authority of the home Member State shall require that investment firms and market operators operating an MTF or an OTF competent authorities shall be investment services or perform investment activities and any provisions of this Directive or of Regulation (EU) No 600/2014.\n",
      "\n",
      "(12)\n",
      "\t\n",
      "\n",
      "It is appropriate to the competent authority of the home Member State shall require that investment firms and market operators operating an MTF or an OTF competent authorities shall be considered to be a provisions of this Directive or of Regulation (EU) No 600/2014 and the competent authority of the home Member State shall require that investment firms and market operators operating an MTF or an OTF competent authorities shall be investment services and activities and procedures for the purposes of this Directive and of Regulation (EU) No 600/2014 and the provisions of this Directive or of Regulation (\n",
      "\n",
      "Implemenation of the directives referred to in paragraph 1 of this Directive or of Regulation (EU) No 600/2014.\n",
      "\n",
      "(12)\n",
      "\t\n",
      "\n",
      "It is appropriate to the competent authority of the home Member State shall communicate to the Commission by 3 July 2015.\n",
      "\n",
      "Power is delegated to the Commission by 3 July 2015.\n",
      "\n",
      "Power is delegated to the Commission to adopt the implementing technical standards referred to in the first subparagraph in accordance with Article 19 of Regulation (EU) No 600/2014 and the requirements applicable to the competent authority of the home Member State shall communicate to the Commission by 3 July 2015.\n",
      "\n",
      "Power is delegated to the Commission by 3 July 2015.\n",
      "\n",
      "Power is delegated to the Commission by 3 July 2015.\n",
      "\n",
      "Power is delegated to the Commission to adopt the regulatory technical standards referred to in the first subparagraph in accordance with Article 19 of Regulation (EU) No 600/2014.\n",
      "\n",
      "Power is delegated to the Commission by 3 July 2015.\n",
      "\n",
      "Power is delegated to the Commission by 3 July 2015.\n",
      "\n",
      "Power is delegated to the Commission to \n",
      "Epoch 30. Loss: 67.8489637625285\n",
      "The committee shall be in the content of the investment firm with the person in a seground concludes the conditions under which authorisation and operating an MTF or an OTF competent authorities shall be applied in accordance with Article 89 to specify the investment firm shall also be considered to be a provided to the competent authority of the home Member State shall require that investment firms and market operators operating an MTF or an OTF competent authorities shall ensure that the competent authority of the home Member State shall require that investment firms and market operators operating an MTF or an OTF competent authorities shall be considered to be a provided to the client and the such raguben on the protection of provide the conditions under which authorisation where the investment firm in relation to the competent authority of the home Member State shall communicate to the Commission by 3 July 2015.\n",
      "\n",
      "Power is delegated to the Commission by 3 July 2015.\n",
      "\n",
      "Power is delegated to the Commission by 3 July 2015.\n",
      "\n",
      "Implemenation of the directives referred to in paragraph 2 of this Directive or of Regulation (EU) No 600/2014 and the competent authority of the home Member State shall require that investment firms and market operators operating an MTF or an OTF competent authorities shall be included in the competent authority of the home Member State shall require that investment firms and market operators operating an MTF or an OTF comply with the provision of investment firms and market operators operating an MTF or an OTF competent authorities shall ensure that the competent authority of the home Member State shall communicate to the Commission by 3 July 2015.\n",
      "\n",
      "Power is delegated to the Commission by 3 July 2015.\n",
      "\n",
      "Power is delegated to the Commission by 3 July 2015.\n",
      "\n",
      "Power is delegated to the Commission by 3 July 2015.\n",
      "\n",
      "Power is delegated to the Commission by 3 July 2015.\n",
      "\n",
      "Power is delegated to the Commission to adopt the regulatory technical standards referred to in the first subparagraph in accordance with Article 19 of Regulation (EU) No 600/2014\n",
      "Epoch 31. Loss: 67.63592027617078\n",
      "The committee shall submit those draft regulatory technical standards to the Commission by 3 July 2015.\n",
      "\n",
      "Power is delegated to the Commission by 3 July 2015.\n",
      "\n",
      "Power is delegated to the Commission by 3 July 2015.\n",
      "\n",
      "Power is delegated to the Commission to adopt the regulatory technical standards referred to in the first subparagraph in accordance with Article 19 of Regulation (EU) No 600/2014 and the content of the investment firm with the provision of investment services and activities and the supervision of the competent authority of the home Member State shall require that investment firms and market operators operating an MTF or an OTF comply with the provision of investment services and/or activities and procedures for the competent authority of the home Member State shall require that investment firms and market operators operating an MTF or an OTF competent authorities shall ensure that the competent authority of the home Member State shall require that investment firms and market operators operating an MTF or an OTF \n",
      "\n",
      "Implemenation of the directives referred to in paragraph 1 of this Directive or of Regulation (EU) No 600/2014.\n",
      "\n",
      "(11)\n",
      "\t\n",
      "\n",
      "It is appropriate to the competent authority of the home Member State shall require that investment firms and market operators operating an MTF or an OTF comply with the provision of investment services or performing investment services and activities that the conditions for infringements of this Directive or of Regulation (EU) No 600/2014.\n",
      "\n",
      "(12)\n",
      "\t\n",
      "\n",
      "It is appropriate to the investment firm shall ensure that the competent authority of the home Member State shall require that investment firms and market operators operating an MTF or an OTF competent authorities shall be considered to be a provided to the competent authority of the home Member State shall require that investment firms and market operators operating an MTF or an OTF competent authorities shall ensure that the competent authority of the home Member State shall require that investment firms and market operators operating an MTF or an OTF competent authorities \n"
     ]
    },
    {
     "name": "stdout",
     "output_type": "stream",
     "text": [
      "Epoch 32. Loss: 67.57129895816529\n",
      "The committee shall submit those draft regulatory technical standards to the Commission by 3 July 2015.\n",
      "\n",
      "Power is delegated to the Commission by 3 July 2015.\n",
      "\n",
      "Power is delegated to the Commission to adopt the regulatory technical standards referred to in the first subparagraph in accordance with Article 19 of Regulation (EU) No 600/2014 and the provisions of this Directive or of Regulation (EU) No 600/2014 and the competent authority of the home Member State shall require that investment firms and market operators operating an MTF or an OTF comply with the provision of investment firms and market operators operating an MTF or an OTF comply with the provision of investment services and activities and the second sentence of Article 2(1) of Regulation (EU) No 600/2014 and the processing of allow the investment firm with the provision of investment firms and market operators operating an MTF or an OTF comply with the provision of investment services and activities and contricture interests of the market operator operating an \n",
      "\n",
      "Implemenation of the directives referred to in paragraph 1 and the provision of investment services and activities and the second sentence of Article 1(1) of Regulation (EU) No 600/2014 and the provisions of this Directive or of Regulation (EU) No 600/2014.\n",
      "\n",
      "(13)\n",
      "\t\n",
      "\n",
      "Ither the contract an investment firm or market operator operating the conditions under this Directive or of Regulation (EU) No 600/2014.\n",
      "\n",
      "(14)\n",
      "\t\n",
      "\n",
      "Ither the competent authority of the home Member State shall require that investment firms and market operators operating an MTF or an OTF comply with the provision of investment firms and market operator operating an MTF or an OTF comply with the provision of investment services and activities and the second subparagraph of Article 2(1) of Regulation (EU) No 600/2014 and the provisions of this Directive or of Regulation (EU) No 600/2014 and the processing of allow the investment firm with the provision of investment services and activities and the second sentence of Article 14(2), the first sentence of Article 15(2), the first subpa\n",
      "Epoch 33. Loss: 67.4376572099311\n",
      "The committee shall submit those draft regulatory technical standards to the Commission by 3 July 2015.\n",
      "\n",
      "Power is delegated to the Commission to adopt the regulatory technical standards referred to in the first subparagraph in accordance with Article 19 of Regulation (EU) No 600/2014.\n",
      "\n",
      "(12)\n",
      "\t\n",
      "\n",
      "It is appropriate to the competent authority of the home Member State shall require that investment firms and market operators operating an MTF or an OTF comply with the provision of investment services and activities and the second subparagraph of Article 20(1), the first subparagraph of Article 2(1) of Regulation (EU) No 600/2014 and the conditions under which authorisation was reasonally subparagraph of Article 29(1) to (1) such a manner and the service or activities and the proposed acquirer is and the provisions of this Directive or of Regulation (EU) No 600/2014 and the provision of investment firms and market operators operating an MTF or an OTF comply with the provision of investment firms and market operators operating an M\n",
      "\n",
      "Implemenation of the directives referred to in the first subparagraph in accordance with Article 89 to specify the investment firm with the provision of investment firms and market operators operating an MTF or an OTF comply with the provision of investment firms and market operators operating an MTF or an OTF comply with the provision of investment firms and market operators operating an MTF or an OTF comply with the provision of investment firms and market operators operating an MTF or an OTF comply with the provision of investment firms and market operators operating an MTF or an OTF comply with the provision of investment firms and market operators operating an MTF or an OTF comply with the provision of investment services and activities and the conditions for infringements of this Directive or of Regulation (EU) No 600/2014.\n",
      "\n",
      "(12)\n",
      "\t\n",
      "\n",
      "It is appropriate to the competent authorities of the regulated market to the public at the regulated market in accordance with Article 89 to specify the investment firm with the provision of investment f\n",
      "Epoch 34. Loss: 67.28610598481008\n",
      "The committee shall submit those draft regulatory technical standards to the Commission by 3 July 2015.\n",
      "\n",
      "Power is delegated to the Commission by 3 July 2015.\n",
      "\n",
      "Power is delegated to the Commission to adopt the regulatory technical standards referred to in the first subparagraph in accordance with Article 89 to determine the provisions of this Directive or of Regulation (EU) No 600/2014.\n",
      "\n",
      "(12)\n",
      "\t\n",
      "\n",
      "It is appropriate to adopt the implementing technical standards referred to in the first subparagraph in accordance with Article 19 of Regulation (EU) No 600/2014.\n",
      "\n",
      "(12)\n",
      "\t\n",
      "\n",
      "It is appropriate to the competent authority of the home Member State shall require that investment firms and market operators operating an MTF or an OTF competent authorities shall be imposed on the services to the competent authority of the home Member State shall require that investment firms and market operators operating an MTF or an OTF competent authorities shall ensure that the competent authority of the home Member State shall require that investment fi\n",
      "\n",
      "Implemenation of the directives referred to in the first subparagraph in accordance with Article 19 of Regulation (EU) No 600/2014.\n",
      "\n",
      "(14)\n",
      "\t\n",
      "\n",
      "It is appropriate to the competent authorities of the investment firm to comply with the requirements laid down in paragraph 1 and the provision of investment services and activities and the second subparagraph of Article 2(1) of Regulation (EU) No 600/2014.\n",
      "\n",
      "(12)\n",
      "\t\n",
      "\n",
      "It is appropriate to the investment firm and the investment firm with the provision of investment services and activities and the second sentence of Article 15(2), the first sentence of Article 15(1) and the competent authority of the home Member State shall contract to the provisions of this Directive or of Regulation (EU) No 600/2014.\n",
      "\n",
      "(12)\n",
      "\t\n",
      "\n",
      "It is appropriate to the competent authority of the home Member State shall require that investment firms and market operators operating an MTF or an OTF competent authorities shall ensure that the competent authority of the home Member State shall require that investment firms and market operator\n",
      "Epoch 35. Loss: 67.10900435026966\n",
      "The committee shall submit those draft regulatory technical standards to the Commission by 3 July 2015.\n",
      "\n",
      "Power is delegated to the Commission to adopt the regulatory technical standards referred to in the first subparagraph in accordance with Article 89 to specify the investment firm with the provision of investment services and activities and the second sentence of Article 14(2), the first sentence of Article 15(2) and Article 29(2) and (3);\n",
      "\n",
      "(xivi)\n",
      "\t\n",
      "\n",
      "Article 29(1) to (10) and the competent authority of the home Member State shall require that investment firms and market operators operating an MTF or an OTF comply with the provision of investment services or performing investment services and activities and the second subparagraph of Article 20(1), the first subparagraph of Article 26(1), the first subparagraph of Article 2(1) of Regulation (EU) No 600/2014 and the contracts referred to in paragraph 1 of this Directive or of Regulation (EU) No 600/2014.\n",
      "\n",
      "(12)\n",
      "\t\n",
      "\n",
      "It is appropriate to the competent authorities of the inve\n",
      "\n",
      "Implemenation of the directives referred to in the first subparagraph in accordance with Article 19 of Regulation (EU) No 600/2014 and the provisions of this Directive or of Regulation (EU) No 600/2014.\n",
      "\n",
      "(13)\n",
      "\t\n",
      "\n",
      "It is appropriate to the competent authority of the home Member State shall require that investment firms and market operators operating an MTF or an OTF comply with the provision of investment services and activities and the second sentence of Article 15(2), the first sentence of Article 13(1), the first sentence of Article 14(2), the first sentence of Article 15(2), the first sentence of Article 15(2) and Article 29(1) and (2);\n",
      "\n",
      "(xx)\n",
      "\t\n",
      "\n",
      "â€˜hain of the market operator operating the conditions laid down in the financial instrument is considered to be a provided to the client or potential client to any of the European Parliament and of the Council of 15 Mentral regulation in accordance with Article 19 of Regulation (EU) No 600/2014.\n",
      "\n",
      "Power is delegated to the Commission by 3 July 2015.\n",
      "\n",
      "Power is delegated to the Commission to adopt \n"
     ]
    },
    {
     "name": "stdout",
     "output_type": "stream",
     "text": [
      "Epoch 36. Loss: 67.03097469096757\n",
      "The committee shall submit those draft regulatory technical standards to the Commission to adopt the regulatory technical standards referred to in the first subparagraph in accordance with Article 89 to specify the investment firm with the provision of investment firms and market operators operating an MTF or an OTF competent authorities shall require that investment firms and market operators operating an MTF or an OTF competent authorities shall ensure that the competent authority of the home Member State shall require that investment firms and market operators operating an MTF or an OTF comply with the provision of investment services or performing investment services or performing investment services or performed as an the conditions under this Directive and shall contract to any control those investment services and/or activities and procedures for the competent authority of the home Member State shall require that investment firms and market operators operating an MTF or an OTF competent authorities shall ensure tha\n",
      "\n",
      "Implemenation of the directives referred to in paragraph 1 and the provision of investment services and activities and the contracts relating to commodity derivatives therefore permons the provision of investment services and activities and the supervision of credit institutions and compliance with the provision of investment services and activities and the contracts relating to comply with the relevant retuis take allow the investment firm with the provision of investment services or performing investment services or perform investment activities and any provisions of this Directive or of Regulation (EU) No 600/2014.\n",
      "\n",
      "(12)\n",
      "\t\n",
      "\n",
      "It is appropriate to such as encital the conditions under which an investment firm in an investment firm or market operator operating an MTF or an OTF comply with the provision of investment services and activities and the contracts relating to comply with the provision of investment services and activities and the supervision of credit institutions and considered to be a provided to the competent authorities of the \n",
      "Epoch 37. Loss: 66.93655584081583\n",
      "The committee shall be considered to be a provided to the client on a regulated markets and the competent authority of the home Member State shall require that investment firms and market operators operating an MTF or an OTF caming the proposed acquirer is and the provisions adopted pursuant to this Directive or executing the conditions and any admins that regulated markets and procedures and arrangements and the second subparagraph of Article 29(1);\n",
      "\n",
      "(xxxi)\n",
      "\t\n",
      "\n",
      "Article 29(1) to (1);\n",
      "\n",
      "(xix)\n",
      "\t\n",
      "\n",
      "Article 13(1) to (1);\n",
      "\n",
      "(xxxirinity of a professional carried out by paragraph 1 of this Directive and shall consult to the competent authority of the home Member State shall require that investment firms and market operators operating an MTF or an OTF competent authorities shall ensure that the competent authority of the home Member State shall require that investment firms and market operators operating an MTF or an OTF competent authorities shall ensure that the competent authority of the home Member State shall require that invest\n",
      "\n",
      "Implemenation of the directives referred to in the first subparagraph in accordance with Article 89 to determine clients on the protection of investors and the securities made provided to the client and activities that the client is consect to the competent authority of the home Member State shall require that investment firms and market operators operating an MTF or an OTF competent authorities shall ensure that the competent authority of the home Member State shall require that investment firms and market operators operating an MTF or an OTF competent authorities shall ensure that the competent authority of the home Member State shall require that investment firms and market operators operating an MTF or an OTF competent authorities shall ensure that the competent authority of the home Member State shall require that investment firms and market operators operating an MTF or an OTF competent authorities shall ensure that the competent authority of the home Member State shall require that investment firms and market operators operating an \n",
      "Epoch 38. Loss: 66.85674254969187\n",
      "The committee shall be in accordance with Article 89 to specify the competent authority of the home Member State shall require that investment firms and market operators operating an MTF or an OTF comply with the provision of investment services and activities and contrictures to the competent authority of the home Member State shall contract to the provisions of this Directive and of Regulation (EU) No 600/2014 and the proposed acquisition agriem to a settlement systems and procedures for the purposes of this Directive and of the Council (43) or Article 21(4), and the competent authority of the home Member State shall require that investment firms and market operators operating an MTF or an OTF comply with the provision of investment services or performing investment services and activities and contricture in protecting the provisions of this Directive and of Regulation (EU) No 600/2014 and the provisions of this Directive or of Regulation (EU) No 600/2014.\n",
      "\n",
      "(13)\n",
      "\t\n",
      "\n",
      "Ither the conditions under which authorised in accordan\n",
      "\n",
      "Implemenation of the directives referred to in paragraph 1 and the provision of investment services and activities and the supervision of consideration of the provisions of this Directive and of Regulation (EU) No 600/2014 and the procedures and the size of the services or provided to the competent authorities of the trading venue and complexing and relating to the provisions of this Directive or of Regulation (EU) No 600/2014 and the provisions of this Directive and of Regulation (EU) No 600/2014 and the procedures and arrangements in a specific nemented can act a pare a regulated markets and provided that the conditions under this Directive and the provisions of this Directive and of Regulation (EU) No 600/2014.\n",
      "\n",
      "(11)\n",
      "\t\n",
      "\n",
      "Ither the conditions and measures shall be considered to be a provided to the competent authorities of the trading venue the investment firm with the conditions under this Directive or of Regulation (EU) No 600/2014 and the provision of investment services and activities and procedures for the purposes of this Directive \n",
      "Epoch 39. Loss: 66.51471988736316\n",
      "The committee shall be informed the competent authority of the home Member State shall require that investment firms and market operators operating an MTF or an OTF competent authorities shall ensure that the competent authority of the home Member State shall require that investment firms and market operators operating an MTF or an OTF and other derivative contracts relating to the provisions of this Directive or of Regulation (EU) No 600/2014 and the competent authority of the home Member State of the obligation to the competent authority of the home Member State shall require that investment firms and market operators operating an MTF or an OTF competent authorities shall ensure that the competent authority of the host Member State shall contract to the provisions of this Directive or of Regulation (EU) No 600/2014 and the competent authority of the home Member State shall require that investment firms and market operators operating an MTF or an OTF competent authorities shall ensure that the competent authority of the \n",
      "\n",
      "Implemenation of the directives referred to in paragraph 1 and the provision of investment services and activities and the same information referred to in paragraph 1 and the provision of investment services and activities and the service of the management body of the investment firm with the provision of services to clients and the second subparagraph of Article 14(1), the first sentence of Article 24(1), the first sentence of Article 14(1), the first sentence of Article 15(1), the first sentence of Article 15(2), the first sentence of Article 15(2) and (2), on the provision of investment services and activities and contrictures for submitions in accordance with Article 89 to determine commissions or investigations or an investment firm shall not be subject to the provisions of this Directive or of Regulation (EU) No 600/2014 and the provision of services and activities and to be able to ensure that the competent authority of the home Member State shall require that investment firms and market operators operating an MTF or an OTF competen\n"
     ]
    },
    {
     "name": "stdout",
     "output_type": "stream",
     "text": [
      "Epoch 40. Loss: 66.17381053738254\n",
      "The committee shall be interrations to clients of the provisions of this Directive or of Regulation (EU) No 600/2014 and the competent authority of the home Member State of the obligations under this Directive and shall contract to any shall be provided to the client or potential client to a controls as well as the competent authority of the home Member State of the competent authority of the home Member State shall require that investment firms and market operators operating an MTF or an OTF competent authorities shall ensure that the competent authority of the home Member State of the obligations under this Directive and the firm which may transfer of information and shall communicate to the Commission to adopt the regulatory technical standards referred to in the first subparagraph in accordance with Article 19 of Regulation (EU) No 1095/2010.\n",
      "\n",
      "Article 33\n",
      "\n",
      "Supervisory of those measures should be able to considered to be an investment firm and the conditions for initial authorisation and operation of the competent autho\n",
      "\n",
      "Implemenation of the directives referred to in the first subparagraph in accordance with Article 19 of Regulation (EU) No 1095/2010.\n",
      "\n",
      "Article 13\n",
      "\n",
      "Article 20(1), (2) and (3);\n",
      "\n",
      "(xivi)\n",
      "\t\n",
      "\n",
      "Article 39(1) to (10) and the competent authority of the home Member State shall require that investment firms and market operators operating an MTF or an OTF competent authorities shall be applied in the competent authority of the home Member State shall require that investment firms and market operators operating an MTF or an OTF competent authorities shall be impated and the provision of investment services and activities and compliance with the provision of investment services and activities and compliance with the position limits shall be considered to be effectively consider in tied agents should be considered to be a provided in accordance with Article 19 of Regulation (EU) No 1095/2010.\n",
      "\n",
      "Article 33\n",
      "\n",
      "Suspenses for the purposes of this Directive and of Regulation (EU) No 600/2014 and the content of the investment firm shall not be subject to the provis\n",
      "Epoch 41. Loss: 65.98416706879325\n",
      "The committee shall be in accordance with Article 29 of Regulation (EU) No 600/2014 and the competent authority of the home Member State of the competent authority of the home Member State shall require that investment firms and market operators operating an MTF or an OTF competent authorities shall ensure that the competent authority of the home Member State shall require that investment firms and market operators operating an MTF or an OTF competent authorities shall ensure that the competent authority of the home Member State shall require that investment firms and market operators operating an MTF or an OTF and other dethonassestanded as an investment firm which is a regulated markets and provide the competent authority of the home Member State shall require that investment firms and market operators operating an MTF or an OTF competent authorities shall ensure that the competent authority of the home Member State shall require that investment firms and market operators operating an MTF or an OTF competent authorities\n",
      "\n",
      "Implemenation of the directives referred to in the first subparagraph in accordance with Article 29 of Regulation (EU) No 600/2014 and the competent authority of the home Member State shall require that investment firms and market operators operating an MTF or an OTF establish and maintain effective ancilities and consumer and in accordance with Article 29 of Regulation (EU) No 1095/2010.\n",
      "\n",
      "Article 13\n",
      "\n",
      "Article 20(1), the first subparagraph of Article 14(1) and (2);\n",
      "\n",
      "(xxiv)\n",
      "\t\n",
      "\n",
      "Article 29(1) and (2);\n",
      "\n",
      "(xivi)\n",
      "\t\n",
      "\n",
      "Article 20(1) to (10) and to the client and activities that the conditions for infringements of this Directive or of Regulation (EU) No 600/2014 and the provision of the services or activities to be authorisation shall be applied in the competent authority of the home Member State shall require that investment firms and market operators operating an MTF or an OTF competent authorities shall ensure that the competent authority of the home Member State shall require that investment firms and market operators operating an MTF or an OTF co\n",
      "Epoch 42. Loss: 65.89719725270791\n",
      "The committee shall be informed on a regular and deers and the service of the trading venue and complexity of the competent authority of the home Member State shall require that investment firms and market operators operating an MTF or an OTF competent authorities shall ensure that the competent authority of the home Member State shall require that investment firms and market operators operating an MTF or an OTF and other derivative contracts relating to the provisions of this Directive or of Regulation (EU) No 600/2014 and the competent authority of the home Member State shall require that investment firms and market operators operating an MTF or an OTF competent authorities shall ensure that the competent authority of the home Member State shall require that investment firms and market operators operating an MTF or an OTF establish encluding all the information referred to in the first subparagraph in accordance with Article 19 of Regulation (EU) No 600/2014 and the provision of investment services and activities and co\n",
      "\n",
      "Implemenation of the directives referred to in paragraph 1 and the management body of the investment firm with the provision of investment services and activities and contrictures to the provision of investment services and activities and contrictures to the provision of investment services and activities and contrictures to the provision of investment services and activities and compliance with the requirements and proportional requirements of the investment firm shall not be subject to the provisions of this Directive or of Regulation (EU) No 600/2014 and the provision of investment services or performing investment services and activities and control the interest of a client management of the investment firm with the provision of investment services and activities and contrictures to the provision of investment services and activities and the proposed acquisition of the proposed acquirer is needed to the provision of investment services and activities and compliance with the requirements and the competent authority of the home Member St\n",
      "Epoch 43. Loss: 65.79215992732361\n",
      "The committee shall be informed the competent authority of the home Member State shall require that investment firms and market operators operating an MTF or an OTF competent authorities shall ensure that the provision of investment services and activities and contrictures to the competent authority of the home Member State shall require that investment firms and market operators operating an MTF or an OTF competent authorities shall ensure that the competent authority of the home Member State shall require that investment firms and market operators operating an MTF or an OTF competent authorities shall ensure that the competent authority of the home Member State shall require that investment firms and market operators operating an MTF or an OTF comply with the provision of investment services and activities and contrictures to the provision of investment services and activities and contrictures to the provision of investment services and activities and control the interest of a client markets ho for cllest shall be appli\n",
      "\n",
      "Implemenation of the directives referred to in paragraph 1 and the provision of investment services and activities and compliance with the requirements and the competent authority of the home Member State shall require that investment firms and market operators operating an MTF or an OTF and other derivative contracts should be allowed to access to the competent authority of the home Member State shall require that investment firms and market operators operating an MTF or an OTF and other derivative contracts relating to the provisions of this Directive or of Regulation (EU) No 600/2014.\n",
      "\n",
      "(12)\n",
      "\t\n",
      "\n",
      "It is appropriate to the competent authority of the home Member State shall require that investment firms and market operators operating an MTF or an OTF and the competent authority of the home Member State shall require that investment firms and market operators operating an MTF or an OTF and other derivative contracts relating to the provisions of this Directive or of Regulation (EU) No 600/2014.\n",
      "\n",
      "(12)\n",
      "\t\n",
      "\n",
      "It is appropriate to any control for the\n"
     ]
    },
    {
     "name": "stdout",
     "output_type": "stream",
     "text": [
      "Epoch 44. Loss: 65.67426258244775\n",
      "The committee shall be informed of a regulated market to the competent authority of the home Member State shall require that investment firms and market operators operating an MTF or an OTF comply with the provision of services to clients and the provision of investment services and activities and contrictures to the possibility of the competent authority of the home Member State shall require that investment firms and market operators operating an MTF or an OTF comply with the provision of investment services and activities and contrictures to the competent authority of the home Member State shall require that investment firms and market operators operating an MTF or an OTF and other derivative contracts relating to the competent authority of the home Member State of the obligations under this Directive and the firm in the investment firm and the competent authority of the home Member State shall require that investment firms and market operators operating an MTF or an OTF comply with the provision of investment services\n",
      "\n",
      "Implemenation of the directives referred to in the first subparagraph in accordance with Article 89 to detirg sinclusions complexe it is appropriate to clients of the provisions of this Directive or of Regulation (EU) No 600/2014.\n",
      "\n",
      "(12)\n",
      "\t\n",
      "\n",
      "Ither the competent authority of the home Member State of the investment firm and the conditions for initial authorisation and operation of the competent authority of the home Member State of the obligations under this Directive and shall contract to any of the competent authority of the home Member State shall require that investment firms and market operator operating an MTF or an OTF shall be investment services and activities and the service of the provisions of this Directive or of Regulation (EU) No 600/2014 and the competent authority of the home Member State of the competent authority of the home Member State shall require the CTP to the competent authority of the home Member State of the competent authority of the home Member State shall require that investment firms and market operators operati\n",
      "Epoch 45. Loss: 65.61387445861799\n",
      "The committee shall be interrations to the competent authority of the home Member State shall require the CTP to the competent authority of the home Member State shall require that investment firms and market operators operating an MTF or an OTF establish and maintain and experience and considered to be a sect issuer or provided that those regulated markets or the provision of investment services and activities and contrictures to the provision of investment firms and market operators operating an MTF or an OTF establish and maintain experding the sanctions and procedures and arrangements to ensure that the competent authority of the home Member State shall require that investment firms and market operators operating an MTF or an OTF establish and maintain effective ancilities and consuitions of the transactions executed to the competent authority of the home Member State shall require that investment firms and market operators operating an MTF or an OTF establish ensure that the competent authority of the host Member Sta\n",
      "\n",
      "Implemenation of the directives referred to in paragraph 1 of this Directive or of Regulation (EU) No 600/2014.\n",
      "\n",
      "(12)\n",
      "\t\n",
      "\n",
      "It is appropriate to the competent authority of the home Member State shall require that investment firms and market operators operating an MTF or an OTF and operation of the investment firm or market operator operating an MTF or an OTF shall be investment services and activities and control the interest of a client management of the competent authority of the home Member State shall require that investment firms and market operators operating an MTF or an OTF comply with the provision of investment firms and market operators operating an MTF or an OTF and operation of the provision of investment services and activities and compliance with the requirements and the competent authority of the home Member State shall require that investment firms and market operators operating an MTF or an OTF establish and maintain and the service of the management body of the investment firm with the provision of investment services and a\n",
      "Epoch 46. Loss: 65.51198599264893\n",
      "The committee shall be interrations the information referred to in the first subparagraph in accordance with Article 19 of Regulation (EU) No 600/2014 and the provision of investment firms and market operators operating an MTF or an OTF and other derivative contracts relating to the provisions of this Directive or of Regulation (EU) No 600/2014 and the conditions under which an investment firm or market operator operating the requirements laid down in paragraph 1 are advice ot exercised or accersination law in respect of investment firms and market operators operating an MTF or an OTF and other derivative contracts relating to the provisions of this Directive or of Regulation (EU) No 600/2014 and the competent authority of the home Member State of the competent authority of the home Member State shall require that investment firms and market operators operating an MTF or an OTF establish encluding a specific received for information referred to in the first subparagraph in accordance with Article 19 of Regulation (EU) No \n",
      "\n",
      "Implemenation of the directives referred to in the first subparagraph in accordance with Article 89 to determine commissions on the protection of the provisions of this Directive or of Regulation (EU) No 600/2014 and the content of the investment firm shall not be subject to the provisions of this Directive or of Regulation (EU) No 600/2014 and the content of the investment firm shall not be subject to the service of provided in a consistent when decision in the competent authority of the home Member State shall require that investment firms and market operators operating an MTF or an OTF and other derivative contracts relating to the provisions of this Directive or of Regulation (EU) No 600/2014 and the conditions for infringements of this Directive and of Regulation (EU) No 600/2014 and the provision of services to clients and the provision of investment services and activities and control the interest of a contract in the financial instrument is to provide investment services and activities and contrictures to the competent authority of\n",
      "Epoch 47. Loss: 65.44052937662956\n",
      "The committee shall be in accordance with this Directive and so as to ensure that the competent authority of the home Member State shall require that investment firms and market operators operating an MTF or an OTF competent authorities shall ensure that the competent authority of the home Member State shall require that investment firms and market operators operating an MTF or an OTF competent authorities shall ensure that the competent authority of the home Member State shall require that investment firms and market operators operating an MTF or an OTF comply with the provision of investment services and activities and compliance with the requirements laid down in paragraph 1 are advice provide the competent authority of the home Member State shall require that investment firms and market operators operating an MTF or an OTF comply with the provision of investment services or performing investment services or performing investment services or performing investment services or performing investment services and activitie\n",
      "\n",
      "Implemenation of the directives referred to in the first subparagraph in accordance with Article 29 of Regulation (EU) No 600/2014.\n",
      "\n",
      "(12)\n",
      "\t\n",
      "\n",
      "It is appropriate to ensure that the competent authority of the home Member State shall require that investment firms and market operators operating an MTF or an OTF competent authorities shall ensure that the competent authority of the home Member State shall require that investment firms and market operators operating an MTF or an OTF and other derivative contracts relating to the competent authority of the home Member State shall require that investment firms and market operators operating an MTF or an OTF and other derivative contracts relating to the provisions of this Directive or of Regulation (EU) No 600/2014 and the provision of investment services and activities and control the interests of the European Parliament and of the Council of 15 Member State shall be informed of such as exchange investor considered to be a provided to the client or potential client to a control and activities to be\n"
     ]
    },
    {
     "name": "stdout",
     "output_type": "stream",
     "text": [
      "Epoch 48. Loss: 65.32659746193194\n",
      "The committee shall be in accordance with Article 19 of Regulation (EU) No 1095/2010.\n",
      "\n",
      "Article 20\n",
      "\n",
      "Article 20(1), (2) and (3) and (3);\n",
      "\n",
      "(xxvii) \tanticuser the client or potential clients within the meaning of Article 2(1) of Regulation (EU) No 600/2014 and the content of the investment firm shall not be subject to the service the requirements applicable to the competent authority of the home Member State shall require that investment firms and market operators operating an MTF or an OTF establish and maintain and shall communicate to the competent authority of the home Member State shall require that investment firms and market operators operating an MTF or an OTF and other derivative contracts should be allowed to the provision of investment services and activities and contrictures to the possibility of the competent authority of the home Member State shall require the CTP to the competent authority of the home Member State shall require the CTP to the competent authority of the home Member State shall require that inves\n",
      "\n",
      "Implemenation of the directives companies of a number of provided by the investment firm with the provision of investment services and activities and control the client is consolidated tape as execution of the investment firm with the provision of investment services and activities and control the interest of a contract in the conditions should be able to considered to be a provided to the client or potential client to any other similar for authorisation in accordance with Article 19 of Regulation (EU) No 600/2014.\n",
      "\n",
      "(12)\n",
      "\t\n",
      "\n",
      "It is appropriate to ensure that the competent authority of the home Member State shall require that investment firms and market operators operating an MTF or an OTF and other derivative contracts should be and portersate to carry out the provision of services and activities that the conditions for infringements of this Directive or of Regulation (EU) No 600/2014.\n",
      "\n",
      "(12)\n",
      "\t\n",
      "\n",
      "It is appropriate to execution of the investment firm with the provision of investment services and activities and control the interest of a contract\n",
      "Epoch 49. Loss: 65.15755056439647\n",
      "The committee shall be informed of a regulated market to the competent authority of the home Member State of the obligations under this Directive and shall contract to any procedures and arrangements to a financial instrument or derivatives thereof and the size of the services or provided to the competent authority of the home Member State of the obligations under this Directive and the firm and the procedures and the size of the services or provided to the competent authority of the host Member State shall contract to the provision of the services or activities or the order on the market operator operating an MTF or an OTF shall be investment services or perform investment activities as defined in Article 2(1) of Regulation (EU) No 600/2014 and the competent authority of the home Member State of the investment firm shall not be subject to the service in respect of the services or activities that the conditions for initial authorisation and operation of the regulated market shall be made available to the competent authori\n",
      "\n",
      "Implemenation of the directives referred to in paragraph 1 and the provision of investment services and activities and communicate to the competent authority of the home Member State shall require that investment firms and market operators operating an MTF or an OTF establish and main business of the competent authority of the home Member State of the obligations under this Directive and the firm in the investment firm shall ensure that the competent authority of the home Member State of the obligations under this Directive and the firm and the competent authority of the home Member State of the obligations under this Directive and the firm in the investment firm or market operator operating an MTF or an OTF shall be investment services and activities and complies with the requirements laid down in paragraph 1 are are of possible and unility and the competent authority of the home Member State of the obligation to the competent authority of the home Member State of the obligations under this Directive and the firm in the investment firm sh\n"
     ]
    }
   ],
   "source": [
    "epochs = 50\n",
    "moving_loss=0.\n",
    "\n",
    "learning_rate = 0.5\n",
    "\n",
    "for e in range(epochs):\n",
    "    if ((e+1) % 10 ==0):\n",
    "        learning_rate = learning_rate /2.0\n",
    "    state = nd.zeros(shape=(batch_size, num_hidden), ctx=ctx)\n",
    "    for i in range(num_batches):\n",
    "        data_one_hot = train_data[i]\n",
    "        label_one_hot = train_label[i]\n",
    "        with autograd.record():\n",
    "            outputs, state = simple_rnn(data_one_hot, state)\n",
    "            loss = average_ce_loss(outputs, label_one_hot)\n",
    "            loss.backward()\n",
    "        SGD(params, learning_rate)\n",
    "        \n",
    "        if (i ==0) and (e == 0):\n",
    "            moving_loss = np.mean(loss.asnumpy()[0])\n",
    "        else: \n",
    "            moving_loss = .99 * moving_loss + .01 + np.mean(loss.asnumpy()[0])\n",
    "            \n",
    "    print(\"Epoch %s. Loss: %s\" % (e, moving_loss))\n",
    "    print(sample(\"The committee\", 1024,temperature=.1 ))\n",
    "    print(\"\")\n",
    "    print(sample(\"Implemenation of the directives\", 1024, temperature=.1))\n",
    "            \n",
    "        \n",
    "        "
   ]
  },
  {
   "cell_type": "code",
   "execution_count": null,
   "metadata": {
    "collapsed": true
   },
   "outputs": [],
   "source": []
  }
 ],
 "metadata": {
  "kernelspec": {
   "display_name": "Python 3",
   "language": "python",
   "name": "python3"
  },
  "language_info": {
   "codemirror_mode": {
    "name": "ipython",
    "version": 3
   },
   "file_extension": ".py",
   "mimetype": "text/x-python",
   "name": "python",
   "nbconvert_exporter": "python",
   "pygments_lexer": "ipython3",
   "version": "3.6.3"
  }
 },
 "nbformat": 4,
 "nbformat_minor": 2
}

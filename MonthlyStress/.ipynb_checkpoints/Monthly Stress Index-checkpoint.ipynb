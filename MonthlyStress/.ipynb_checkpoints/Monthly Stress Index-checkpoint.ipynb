{
 "cells": [
  {
   "cell_type": "code",
   "execution_count": 2,
   "metadata": {
    "collapsed": true
   },
   "outputs": [],
   "source": [
    "import pandas as pd\n",
    "import numpy as np\n",
    "import matplotlib.pyplot as plt\n",
    "%matplotlib inline"
   ]
  },
  {
   "cell_type": "code",
   "execution_count": 3,
   "metadata": {
    "collapsed": true
   },
   "outputs": [],
   "source": [
    "collated_df = pd.read_csv(\"Collated.csv\")"
   ]
  },
  {
   "cell_type": "code",
   "execution_count": 4,
   "metadata": {},
   "outputs": [
    {
     "data": {
      "text/html": [
       "<div>\n",
       "<style>\n",
       "    .dataframe thead tr:only-child th {\n",
       "        text-align: right;\n",
       "    }\n",
       "\n",
       "    .dataframe thead th {\n",
       "        text-align: left;\n",
       "    }\n",
       "\n",
       "    .dataframe tbody tr th {\n",
       "        vertical-align: top;\n",
       "    }\n",
       "</style>\n",
       "<table border=\"1\" class=\"dataframe\">\n",
       "  <thead>\n",
       "    <tr style=\"text-align: right;\">\n",
       "      <th></th>\n",
       "      <th>TB3MS</th>\n",
       "      <th>T10Y3MM</th>\n",
       "      <th>T10Y2YM</th>\n",
       "      <th>FEDFUNDS</th>\n",
       "      <th>BAA10YM</th>\n",
       "      <th>AAA10YM</th>\n",
       "    </tr>\n",
       "  </thead>\n",
       "  <tbody>\n",
       "    <tr>\n",
       "      <th>0</th>\n",
       "      <td>7.64</td>\n",
       "      <td>0.31</td>\n",
       "      <td>0.12</td>\n",
       "      <td>8.23</td>\n",
       "      <td>1.73</td>\n",
       "      <td>0.78</td>\n",
       "    </tr>\n",
       "    <tr>\n",
       "      <th>1</th>\n",
       "      <td>7.74</td>\n",
       "      <td>0.47</td>\n",
       "      <td>0.10</td>\n",
       "      <td>8.24</td>\n",
       "      <td>1.67</td>\n",
       "      <td>0.75</td>\n",
       "    </tr>\n",
       "    <tr>\n",
       "      <th>2</th>\n",
       "      <td>7.90</td>\n",
       "      <td>0.42</td>\n",
       "      <td>-0.04</td>\n",
       "      <td>8.28</td>\n",
       "      <td>1.62</td>\n",
       "      <td>0.78</td>\n",
       "    </tr>\n",
       "    <tr>\n",
       "      <th>3</th>\n",
       "      <td>7.77</td>\n",
       "      <td>0.75</td>\n",
       "      <td>0.07</td>\n",
       "      <td>8.26</td>\n",
       "      <td>1.51</td>\n",
       "      <td>0.67</td>\n",
       "    </tr>\n",
       "    <tr>\n",
       "      <th>4</th>\n",
       "      <td>7.74</td>\n",
       "      <td>0.75</td>\n",
       "      <td>0.12</td>\n",
       "      <td>8.18</td>\n",
       "      <td>1.65</td>\n",
       "      <td>0.71</td>\n",
       "    </tr>\n",
       "  </tbody>\n",
       "</table>\n",
       "</div>"
      ],
      "text/plain": [
       "   TB3MS  T10Y3MM  T10Y2YM  FEDFUNDS  BAA10YM  AAA10YM\n",
       "0   7.64     0.31     0.12      8.23     1.73     0.78\n",
       "1   7.74     0.47     0.10      8.24     1.67     0.75\n",
       "2   7.90     0.42    -0.04      8.28     1.62     0.78\n",
       "3   7.77     0.75     0.07      8.26     1.51     0.67\n",
       "4   7.74     0.75     0.12      8.18     1.65     0.71"
      ]
     },
     "execution_count": 4,
     "metadata": {},
     "output_type": "execute_result"
    }
   ],
   "source": [
    "collated_df.head()"
   ]
  },
  {
   "cell_type": "code",
   "execution_count": 9,
   "metadata": {},
   "outputs": [
    {
     "data": {
      "text/plain": [
       "2.7629940119760477"
      ]
     },
     "execution_count": 9,
     "metadata": {},
     "output_type": "execute_result"
    }
   ],
   "source": [
    "collated_df['TB3MS'].mean()"
   ]
  },
  {
   "cell_type": "code",
   "execution_count": 15,
   "metadata": {},
   "outputs": [
    {
     "data": {
      "text/plain": [
       "2.2888810791648027"
      ]
     },
     "execution_count": 15,
     "metadata": {},
     "output_type": "execute_result"
    }
   ],
   "source": [
    "collated_df['TB3MS'].std()"
   ]
  },
  {
   "cell_type": "code",
   "execution_count": 13,
   "metadata": {},
   "outputs": [
    {
     "data": {
      "text/plain": [
       "1.8267664670658685"
      ]
     },
     "execution_count": 13,
     "metadata": {},
     "output_type": "execute_result"
    }
   ],
   "source": [
    "collated_df['T10Y3MM'].mean()\n"
   ]
  },
  {
   "cell_type": "code",
   "execution_count": 14,
   "metadata": {},
   "outputs": [
    {
     "data": {
      "text/plain": [
       "1.1151828352828081"
      ]
     },
     "execution_count": 14,
     "metadata": {},
     "output_type": "execute_result"
    }
   ],
   "source": [
    "collated_df['T10Y3MM'].std()"
   ]
  },
  {
   "cell_type": "code",
   "execution_count": 5,
   "metadata": {
    "collapsed": true
   },
   "outputs": [],
   "source": [
    "from sklearn.preprocessing import MinMaxScaler\n",
    "scaler = MinMaxScaler()\n"
   ]
  },
  {
   "cell_type": "code",
   "execution_count": 6,
   "metadata": {},
   "outputs": [
    {
     "data": {
      "text/plain": [
       "MinMaxScaler(copy=True, feature_range=(0, 1))"
      ]
     },
     "execution_count": 6,
     "metadata": {},
     "output_type": "execute_result"
    }
   ],
   "source": [
    "scaler.fit(collated_df)"
   ]
  },
  {
   "cell_type": "code",
   "execution_count": 7,
   "metadata": {
    "collapsed": true
   },
   "outputs": [],
   "source": [
    "collated_scaled = scaler.transform(collated_df)"
   ]
  },
  {
   "cell_type": "code",
   "execution_count": 8,
   "metadata": {},
   "outputs": [
    {
     "name": "stdout",
     "output_type": "stream",
     "text": [
      "per feature minimum before scaling:\n",
      " TB3MS       0.01\n",
      "T10Y3MM    -0.70\n",
      "T10Y2YM    -0.41\n",
      "FEDFUNDS    0.07\n",
      "BAA10YM     1.29\n",
      "AAA10YM     0.64\n",
      "dtype: float64\n"
     ]
    }
   ],
   "source": [
    "print(\"per feature minimum before scaling:\\n {}\".format(collated_df.min(axis=0)))"
   ]
  },
  {
   "cell_type": "code",
   "execution_count": 9,
   "metadata": {},
   "outputs": [
    {
     "name": "stdout",
     "output_type": "stream",
     "text": [
      "per feature minimum after scaling:\n",
      " [ 0.  0.  0.  0.  0.  0.]\n"
     ]
    }
   ],
   "source": [
    "print(\"per feature minimum after scaling:\\n {}\".format(collated_scaled.min(axis=0)))"
   ]
  },
  {
   "cell_type": "code",
   "execution_count": 23,
   "metadata": {
    "collapsed": true
   },
   "outputs": [],
   "source": [
    "from sklearn.decomposition import PCA"
   ]
  },
  {
   "cell_type": "code",
   "execution_count": 24,
   "metadata": {},
   "outputs": [
    {
     "data": {
      "text/plain": [
       "PCA(copy=True, iterated_power='auto', n_components=2, random_state=None,\n",
       "  svd_solver='auto', tol=0.0, whiten=False)"
      ]
     },
     "execution_count": 24,
     "metadata": {},
     "output_type": "execute_result"
    }
   ],
   "source": [
    "pca = PCA(n_components=2)\n",
    "pca.fit(collated_scaled)"
   ]
  },
  {
   "cell_type": "code",
   "execution_count": 25,
   "metadata": {
    "collapsed": true
   },
   "outputs": [],
   "source": [
    "collated_pca = pca.transform(collated_scaled)"
   ]
  },
  {
   "cell_type": "code",
   "execution_count": 26,
   "metadata": {},
   "outputs": [
    {
     "data": {
      "text/plain": [
       "array([[  1.05175368e+00,   8.01479928e-02],\n",
       "       [  1.05563864e+00,   1.14285701e-01],\n",
       "       [  1.08932866e+00,   8.95468076e-02],\n",
       "       [  1.05924210e+00,   1.80653741e-01],\n",
       "       [  1.03307692e+00,   1.66415207e-01],\n",
       "       [  1.04467800e+00,   1.10532405e-01],\n",
       "       [  9.96945368e-01,   1.47684121e-01],\n",
       "       [  9.14749231e-01,   2.90734027e-01],\n",
       "       [  8.72453771e-01,   3.30949995e-01],\n",
       "       [  8.14425279e-01,   2.81554989e-01],\n",
       "       [  7.88711131e-01,   1.96255084e-01],\n",
       "       [  7.22213988e-01,   1.55543135e-01],\n",
       "       [  5.94641578e-01,   2.40491652e-01],\n",
       "       [  5.29443196e-01,   2.29506258e-01],\n",
       "       [  5.26552045e-01,   3.24431405e-01],\n",
       "       [  4.73354813e-01,   3.55601641e-01],\n",
       "       [  4.15916872e-01,   4.21762310e-01],\n",
       "       [  4.33153741e-01,   4.65805777e-01],\n",
       "       [  4.28058458e-01,   4.70850515e-01],\n",
       "       [  3.70969673e-01,   4.22819238e-01],\n",
       "       [  3.38629849e-01,   3.64816915e-01],\n",
       "       [  2.65299426e-01,   3.68607869e-01],\n",
       "       [  1.42053062e-01,   4.14976018e-01],\n",
       "       [  1.32093638e-02,   3.98970548e-01],\n",
       "       [ -3.73532039e-02,   4.29933670e-01],\n",
       "       [ -2.00705663e-02,   5.43897025e-01],\n",
       "       [  5.49503152e-02,   5.55323281e-01],\n",
       "       [ -4.62313579e-02,   6.04860126e-01],\n",
       "       [ -6.01385021e-02,   6.00450153e-01],\n",
       "       [ -6.87143436e-02,   5.64249293e-01],\n",
       "       [ -2.22224420e-01,   5.07087051e-01],\n",
       "       [ -2.22014657e-01,   4.36190264e-01],\n",
       "       [ -2.91885122e-01,   4.12579526e-01],\n",
       "       [ -3.03915868e-01,   4.56021571e-01],\n",
       "       [ -2.23582119e-01,   4.83596223e-01],\n",
       "       [ -1.82315163e-01,   4.38432328e-01],\n",
       "       [ -2.26227597e-01,   4.31212317e-01],\n",
       "       [ -2.26147648e-01,   3.48597671e-01],\n",
       "       [ -2.04776587e-01,   2.51459314e-01],\n",
       "       [ -2.19293697e-01,   2.96311631e-01],\n",
       "       [ -1.83345711e-01,   3.09397152e-01],\n",
       "       [ -1.16642361e-01,   2.59140922e-01],\n",
       "       [ -9.80503789e-02,   2.35044863e-01],\n",
       "       [ -4.56869903e-02,   2.67428965e-01],\n",
       "       [ -2.60693350e-02,   1.74674495e-01],\n",
       "       [ -1.81597568e-02,   1.42413200e-01],\n",
       "       [ -2.76562464e-02,   2.35157353e-01],\n",
       "       [ -3.36380450e-02,   2.60013978e-01],\n",
       "       [ -4.64213966e-02,   2.75576380e-01],\n",
       "       [  1.85981082e-02,   2.83882195e-01],\n",
       "       [  4.56856356e-02,   3.60949715e-01],\n",
       "       [  7.30017244e-02,   4.33322365e-01],\n",
       "       [  2.03336361e-01,   4.18329947e-01],\n",
       "       [  2.14841992e-01,   3.88455391e-01],\n",
       "       [  2.40032464e-01,   4.10008175e-01],\n",
       "       [  2.92292138e-01,   3.69182507e-01],\n",
       "       [  3.01130114e-01,   3.78797219e-01],\n",
       "       [  3.48668111e-01,   3.86267663e-01],\n",
       "       [  4.63701927e-01,   3.94185071e-01],\n",
       "       [  6.26657867e-01,   2.80818851e-01],\n",
       "       [  6.40867775e-01,   2.60615570e-01],\n",
       "       [  6.65346387e-01,   2.02395738e-01],\n",
       "       [  6.52710246e-01,   1.38207675e-01],\n",
       "       [  6.38642976e-01,   1.22766045e-01],\n",
       "       [  6.68757398e-01,   4.17034850e-02],\n",
       "       [  6.53194874e-01,  -3.75456178e-02],\n",
       "       [  6.19115981e-01,  -1.45453770e-02],\n",
       "       [  6.00899898e-01,   3.22982094e-02],\n",
       "       [  6.18298824e-01,  -1.90423350e-02],\n",
       "       [  6.43750113e-01,  -4.04192201e-02],\n",
       "       [  6.48715241e-01,  -5.42327618e-02],\n",
       "       [  6.24902027e-01,  -7.84647639e-02],\n",
       "       [  5.76654757e-01,  -6.56630152e-02],\n",
       "       [  4.79271495e-01,   1.24036415e-04],\n",
       "       [  5.08409966e-01,   5.56641808e-02],\n",
       "       [  5.07147402e-01,   1.07189964e-01],\n",
       "       [  5.08852002e-01,   1.79922351e-01],\n",
       "       [  5.27425320e-01,   2.14678609e-01],\n",
       "       [  5.53502926e-01,   2.07567795e-01],\n",
       "       [  5.35385827e-01,   1.71591829e-01],\n",
       "       [  5.32154834e-01,   1.92120165e-01],\n",
       "       [  5.28500478e-01,   1.56577701e-01],\n",
       "       [  5.74943927e-01,   7.58463621e-02],\n",
       "       [  5.44225982e-01,   1.07607596e-01],\n",
       "       [  5.42985745e-01,   1.57718153e-01],\n",
       "       [  5.47291776e-01,   1.17935133e-01],\n",
       "       [  5.70410349e-01,   1.46865686e-01],\n",
       "       [  5.73397937e-01,   1.79045652e-01],\n",
       "       [  5.67255649e-01,   1.53233277e-01],\n",
       "       [  5.65358775e-01,   1.19833576e-01],\n",
       "       [  6.12351428e-01,   5.69754080e-02],\n",
       "       [  6.16552792e-01,   6.33278791e-02],\n",
       "       [  5.97558716e-01,   6.67520405e-02],\n",
       "       [  6.16418841e-01,   1.64966615e-02],\n",
       "       [  6.64284814e-01,  -4.10244247e-02],\n",
       "       [  6.90239416e-01,  -5.34152426e-02],\n",
       "       [  6.61590010e-01,  -1.01834883e-01],\n",
       "       [  6.61448078e-01,  -1.17508516e-01],\n",
       "       [  6.57274502e-01,  -9.87598890e-02],\n",
       "       [  6.47427396e-01,  -8.98939603e-02],\n",
       "       [  6.63343319e-01,  -9.25281684e-02],\n",
       "       [  6.90617755e-01,  -1.17451541e-01],\n",
       "       [  6.74209239e-01,  -1.35141347e-01],\n",
       "       [  6.48371925e-01,  -1.65292210e-01],\n",
       "       [  5.51934365e-01,  -3.25155509e-01],\n",
       "       [  3.53937127e-01,  -3.39331622e-01],\n",
       "       [  4.48026207e-01,  -3.05198555e-01],\n",
       "       [  4.68730379e-01,  -3.53364135e-01],\n",
       "       [  4.66141986e-01,  -3.31845926e-01],\n",
       "       [  4.90509117e-01,  -2.59165540e-01],\n",
       "       [  4.72750067e-01,  -2.10179529e-01],\n",
       "       [  4.35965253e-01,  -2.14023363e-01],\n",
       "       [  4.41678488e-01,  -1.51447557e-01],\n",
       "       [  4.38475020e-01,  -9.37819376e-02],\n",
       "       [  4.51205272e-01,  -1.25145044e-01],\n",
       "       [  4.55438231e-01,  -1.37377058e-01],\n",
       "       [  4.55270288e-01,  -1.37717159e-01],\n",
       "       [  4.72889225e-01,  -1.28137251e-01],\n",
       "       [  5.58860768e-01,  -1.34086901e-01],\n",
       "       [  5.66832830e-01,  -8.68850933e-02],\n",
       "       [  5.92503831e-01,   1.05013747e-02],\n",
       "       [  6.87537840e-01,  -8.79674007e-02],\n",
       "       [  7.05828948e-01,  -2.44854211e-01],\n",
       "       [  7.04044694e-01,  -3.67451868e-01],\n",
       "       [  7.12984987e-01,  -2.92287374e-01],\n",
       "       [  7.42067434e-01,  -3.20217374e-01],\n",
       "       [  7.73784565e-01,  -3.49011774e-01],\n",
       "       [  8.00128322e-01,  -4.49404119e-01],\n",
       "       [  7.52584530e-01,  -4.56297977e-01],\n",
       "       [  7.57341230e-01,  -4.63465177e-01],\n",
       "       [  7.81432321e-01,  -4.51851992e-01],\n",
       "       [  6.99939443e-01,  -5.38100186e-01],\n",
       "       [  5.13741535e-01,  -4.17767495e-01],\n",
       "       [  4.40172944e-01,  -4.01914591e-01],\n",
       "       [  3.40795286e-01,  -3.99594167e-01],\n",
       "       [  1.61576083e-01,  -2.51740546e-01],\n",
       "       [  7.08054390e-02,  -1.13834578e-01],\n",
       "       [  3.55649842e-02,  -1.11125170e-01],\n",
       "       [  2.89701352e-02,  -1.23873344e-01],\n",
       "       [ -1.11379633e-02,  -1.93956100e-01],\n",
       "       [ -2.70057779e-01,  -2.18549003e-01],\n",
       "       [ -4.01292947e-01,  -1.73827016e-01],\n",
       "       [ -4.50318627e-01,  -8.95406324e-02],\n",
       "       [ -4.37914190e-01,   1.67865943e-01],\n",
       "       [ -4.17395850e-01,   2.15762145e-01],\n",
       "       [ -3.98325407e-01,   1.40911168e-01],\n",
       "       [ -3.79109359e-01,   1.88095239e-01],\n",
       "       [ -3.95458153e-01,   1.93534298e-01],\n",
       "       [ -4.15967732e-01,   1.83836645e-01],\n",
       "       [ -4.27895770e-01,   1.28194740e-01],\n",
       "       [ -4.67566113e-01,   5.34116753e-02],\n",
       "       [ -4.87840619e-01,  -4.83812956e-02],\n",
       "       [ -4.53421554e-01,  -1.94310407e-01],\n",
       "       [ -5.15368037e-01,  -1.96910093e-01],\n",
       "       [ -5.88117339e-01,  -9.27702474e-02],\n",
       "       [ -5.87940158e-01,  -5.65668602e-02],\n",
       "       [ -5.94453175e-01,  -1.30802296e-02],\n",
       "       [ -5.58344518e-01,  -1.40688104e-02],\n",
       "       [ -5.57098286e-01,  -3.24687223e-02],\n",
       "       [ -5.25069407e-01,   8.96356424e-02],\n",
       "       [ -4.51930348e-01,   5.03875522e-02],\n",
       "       [ -4.50448214e-01,   2.45978587e-02],\n",
       "       [ -5.46812563e-01,   2.16175849e-01],\n",
       "       [ -5.72059211e-01,   3.13073591e-01],\n",
       "       [ -5.57185365e-01,   2.81788159e-01],\n",
       "       [ -5.49329720e-01,   2.98763337e-01],\n",
       "       [ -5.13174951e-01,   2.94754417e-01],\n",
       "       [ -5.14517366e-01,   2.95441447e-01],\n",
       "       [ -5.14054141e-01,   2.76887384e-01],\n",
       "       [ -4.94568468e-01,   2.55343279e-01],\n",
       "       [ -4.77094463e-01,   1.81241094e-01],\n",
       "       [ -4.97254509e-01,   2.97482987e-01],\n",
       "       [ -4.90876844e-01,   3.48147866e-01],\n",
       "       [ -4.17532395e-01,   2.99541089e-01],\n",
       "       [ -3.68530110e-01,   2.34508308e-01],\n",
       "       [ -3.16439757e-01,   1.63149817e-01],\n",
       "       [ -2.35584019e-01,   1.13514227e-01],\n",
       "       [ -2.01390588e-01,   8.15569309e-02],\n",
       "       [ -1.16422040e-01,   5.24866982e-02],\n",
       "       [ -5.39987172e-02,   6.15834330e-02],\n",
       "       [  2.67718324e-02,   4.64579350e-02],\n",
       "       [  1.28112883e-01,   2.69459026e-02],\n",
       "       [  1.66996049e-01,   8.49473691e-02],\n",
       "       [  1.86660074e-01,   1.92603458e-02],\n",
       "       [  2.41267466e-01,  -5.25957233e-02],\n",
       "       [  3.02698321e-01,  -9.48436702e-02],\n",
       "       [  3.61695611e-01,  -7.50049906e-02],\n",
       "       [  4.26586971e-01,  -8.08498612e-02],\n",
       "       [  4.10045378e-01,  -1.10796794e-01],\n",
       "       [  4.56150767e-01,  -1.04117342e-01],\n",
       "       [  4.99987399e-01,  -1.16515288e-01],\n",
       "       [  5.20281480e-01,  -1.34202325e-01],\n",
       "       [  5.98529633e-01,  -1.79220405e-01],\n",
       "       [  6.63218116e-01,  -1.64007632e-01],\n",
       "       [  6.53158927e-01,  -1.44944111e-01],\n",
       "       [  6.35428251e-01,  -1.06433503e-01],\n",
       "       [  6.50878859e-01,  -8.85575159e-02],\n",
       "       [  6.93757984e-01,  -1.05296682e-01],\n",
       "       [  7.40576069e-01,  -1.18878773e-01],\n",
       "       [  7.50679021e-01,  -1.60442502e-01],\n",
       "       [  7.46694221e-01,  -1.66487229e-01],\n",
       "       [  7.68024668e-01,  -1.78182817e-01],\n",
       "       [  8.02989502e-01,  -1.91103470e-01],\n",
       "       [  7.80218644e-01,  -1.92125426e-01],\n",
       "       [  8.07771754e-01,  -1.47598951e-01],\n",
       "       [  8.16632620e-01,  -1.65954826e-01],\n",
       "       [  7.83559525e-01,  -1.89628523e-01],\n",
       "       [  7.52015736e-01,  -1.67894950e-01],\n",
       "       [  7.43923303e-01,  -1.30796900e-01],\n",
       "       [  6.83767845e-01,  -3.67207789e-02],\n",
       "       [  7.07700821e-01,  -8.06600342e-02],\n",
       "       [  5.27343279e-01,  -1.47735184e-01],\n",
       "       [  4.47422225e-01,  -1.41371376e-01],\n",
       "       [  4.49030803e-01,  -1.09363568e-01],\n",
       "       [  2.96871615e-01,  -1.17474849e-01],\n",
       "       [  1.92760479e-01,  -1.17463919e-01],\n",
       "       [  8.63736180e-02,  -1.71812365e-01],\n",
       "       [ -1.81814437e-01,  -1.13556636e-01],\n",
       "       [ -3.77215860e-01,  -1.04327015e-01],\n",
       "       [ -3.47895002e-01,  -9.02112483e-02],\n",
       "       [ -2.52029710e-01,  -8.98113484e-02],\n",
       "       [ -2.15519615e-01,  -5.54808610e-02],\n",
       "       [ -2.76617918e-01,  -5.71254900e-02],\n",
       "       [ -2.77017627e-01,  -1.08961501e-01],\n",
       "       [ -4.27554263e-01,  -1.26279042e-01],\n",
       "       [ -7.81529471e-01,  -2.07935686e-01],\n",
       "       [ -9.28943869e-01,  -2.54364564e-01],\n",
       "       [ -7.97131027e-01,  -5.29534753e-01],\n",
       "       [ -7.73905040e-01,  -4.63106729e-01],\n",
       "       [ -7.60045964e-01,  -3.49181657e-01],\n",
       "       [ -8.31336794e-01,  -4.39392224e-01],\n",
       "       [ -8.25300637e-01,  -3.41299299e-01],\n",
       "       [ -8.36918991e-01,  -1.48065260e-01],\n",
       "       [ -7.96172262e-01,   8.73957036e-02],\n",
       "       [ -7.69027875e-01,   8.89372513e-02],\n",
       "       [ -7.11880787e-01,   1.61954797e-01],\n",
       "       [ -7.05899889e-01,   1.27218226e-01],\n",
       "       [ -7.18543558e-01,   1.24425361e-01],\n",
       "       [ -7.49803392e-01,   1.41769402e-01],\n",
       "       [ -7.57214078e-01,   2.22677519e-01],\n",
       "       [ -7.45837704e-01,   3.02023764e-01],\n",
       "       [ -7.63905994e-01,   2.56183088e-01],\n",
       "       [ -7.27760613e-01,   2.85085470e-01],\n",
       "       [ -7.14776256e-01,   3.37305163e-01],\n",
       "       [ -6.77386932e-01,   2.09987976e-01],\n",
       "       [ -6.90442637e-01,   1.08803079e-01],\n",
       "       [ -6.59886238e-01,   5.95779840e-02],\n",
       "       [ -6.15531744e-01,  -2.95943901e-02],\n",
       "       [ -6.27664097e-01,  -6.13678989e-02],\n",
       "       [ -6.67955633e-01,  -1.48306317e-01],\n",
       "       [ -6.99701748e-01,  -8.90481288e-02],\n",
       "       [ -7.19204837e-01,   1.47916308e-01],\n",
       "       [ -7.24500173e-01,   2.01867472e-01],\n",
       "       [ -7.40655678e-01,   2.45963196e-01],\n",
       "       [ -7.33178626e-01,   1.88862603e-01],\n",
       "       [ -7.42736102e-01,   2.11012992e-01],\n",
       "       [ -7.22062297e-01,   1.30736077e-01],\n",
       "       [ -7.42461085e-01,   4.76042032e-02],\n",
       "       [ -7.34837484e-01,   6.06196399e-02],\n",
       "       [ -6.41542194e-01,  -1.60208786e-01],\n",
       "       [ -5.92914180e-01,  -2.70723866e-01],\n",
       "       [ -5.73276725e-01,  -1.63679382e-01],\n",
       "       [ -5.48202232e-01,  -1.98679007e-01],\n",
       "       [ -5.60948929e-01,  -2.38892666e-01],\n",
       "       [ -5.46612756e-01,  -2.23903940e-01],\n",
       "       [ -5.27123837e-01,  -2.30004442e-01],\n",
       "       [ -5.48307306e-01,  -1.59147455e-01],\n",
       "       [ -5.45630857e-01,  -2.12025504e-01],\n",
       "       [ -5.07591791e-01,  -3.12357290e-01],\n",
       "       [ -4.76795191e-01,  -3.75909556e-01],\n",
       "       [ -4.35112959e-01,  -3.57636337e-01],\n",
       "       [ -4.51568056e-01,  -2.95447426e-01],\n",
       "       [ -4.50180190e-01,  -2.69623960e-01],\n",
       "       [ -4.33836752e-01,  -2.31884361e-01],\n",
       "       [ -4.36205667e-01,  -2.89909945e-01],\n",
       "       [ -4.70511533e-01,  -2.88669057e-01],\n",
       "       [ -5.02031855e-01,  -2.22016070e-01],\n",
       "       [ -5.19217374e-01,  -2.15886801e-01],\n",
       "       [ -5.26936002e-01,  -2.32251515e-01],\n",
       "       [ -4.88255855e-01,  -2.76661061e-01],\n",
       "       [ -5.25484536e-01,  -2.26078221e-01],\n",
       "       [ -6.01098522e-01,  -1.43106507e-01],\n",
       "       [ -6.23576164e-01,  -5.77283544e-03],\n",
       "       [ -6.60235082e-01,   3.05705012e-02],\n",
       "       [ -6.76859726e-01,   4.12240354e-02],\n",
       "       [ -6.52031373e-01,  -2.77570498e-02],\n",
       "       [ -6.75890610e-01,   5.18875496e-03],\n",
       "       [ -6.71969850e-01,   1.06684999e-01],\n",
       "       [ -6.41469404e-01,   1.22440928e-01],\n",
       "       [ -6.34971845e-01,   5.77437310e-02],\n",
       "       [ -6.12319859e-01,   7.32032973e-02],\n",
       "       [ -5.82949836e-01,   1.10427778e-01],\n",
       "       [ -5.65410384e-01,   5.53913430e-02],\n",
       "       [ -5.71634479e-01,   4.56851959e-02],\n",
       "       [ -5.47214048e-01,   2.92479181e-02],\n",
       "       [ -5.36027475e-01,  -1.34689051e-02],\n",
       "       [ -5.35516232e-01,   2.35936144e-02],\n",
       "       [ -5.12874626e-01,  -4.15538317e-02],\n",
       "       [ -5.06872958e-01,  -4.15933152e-02],\n",
       "       [ -4.63524226e-01,  -9.29715795e-02],\n",
       "       [ -4.05717280e-01,  -1.75922922e-01],\n",
       "       [ -4.25585837e-01,  -1.65537337e-01],\n",
       "       [ -4.28591474e-01,  -1.43617250e-01],\n",
       "       [ -4.19808828e-01,  -1.54424139e-01],\n",
       "       [ -5.04958918e-01,  -1.47878792e-01],\n",
       "       [ -5.39766465e-01,  -1.30713754e-01],\n",
       "       [ -5.37040120e-01,  -1.47425629e-01],\n",
       "       [ -5.05753990e-01,  -2.16391315e-01],\n",
       "       [ -5.22919780e-01,  -2.28780123e-01],\n",
       "       [ -5.13059285e-01,  -2.49401141e-01],\n",
       "       [ -4.90880807e-01,  -2.18642164e-01],\n",
       "       [ -4.39827735e-01,  -2.31264965e-01],\n",
       "       [ -4.41174965e-01,  -3.14879068e-01],\n",
       "       [ -4.37161768e-01,  -4.59667241e-01],\n",
       "       [ -3.91345214e-01,  -3.69565380e-01],\n",
       "       [ -3.67900561e-01,  -3.23352645e-01],\n",
       "       [ -3.54207507e-01,  -3.36182484e-01],\n",
       "       [ -3.33366995e-01,  -3.75816077e-01],\n",
       "       [ -2.85957572e-01,  -3.80238740e-01],\n",
       "       [ -2.84054888e-01,  -3.65521047e-01],\n",
       "       [ -2.99900017e-01,  -3.53578162e-01],\n",
       "       [ -3.05714766e-01,  -3.20400009e-01],\n",
       "       [ -3.44921708e-01,  -2.36334727e-01],\n",
       "       [ -3.41294683e-01,  -1.22247010e-01],\n",
       "       [ -3.01731661e-01,  -1.13471926e-01],\n",
       "       [ -3.04585274e-01,  -1.24583475e-01],\n",
       "       [ -2.61261936e-01,  -1.43832887e-01],\n",
       "       [ -2.24799543e-01,  -2.02991723e-01],\n",
       "       [ -1.98730131e-01,  -2.15313322e-01],\n",
       "       [ -1.34421557e-01,  -2.41811534e-01],\n",
       "       [ -1.16817392e-01,  -1.84340652e-01],\n",
       "       [ -1.12461434e-01,  -2.15305876e-01],\n",
       "       [ -1.04020534e-01,  -2.28468842e-01],\n",
       "       [ -7.43557456e-02,  -1.57817517e-01]])"
      ]
     },
     "execution_count": 26,
     "metadata": {},
     "output_type": "execute_result"
    }
   ],
   "source": [
    "collated_pca"
   ]
  },
  {
   "cell_type": "code",
   "execution_count": 27,
   "metadata": {},
   "outputs": [
    {
     "name": "stdout",
     "output_type": "stream",
     "text": [
      "[[ 0.5079544  -0.36231401 -0.44476372  0.51977742 -0.20551261 -0.31700491]\n",
      " [ 0.22497069  0.62771783  0.44492742  0.18531595 -0.30470335 -0.47980409]]\n"
     ]
    }
   ],
   "source": [
    "print(pca.components_)"
   ]
  },
  {
   "cell_type": "code",
   "execution_count": 28,
   "metadata": {},
   "outputs": [
    {
     "name": "stdout",
     "output_type": "stream",
     "text": [
      "[ 0.29652617  0.05784326]\n"
     ]
    }
   ],
   "source": [
    "print(pca.explained_variance_)"
   ]
  },
  {
   "cell_type": "code",
   "execution_count": 7,
   "metadata": {},
   "outputs": [
    {
     "data": {
      "text/plain": [
       "array([[ 1.        ,  0.9997525 ,  0.99951099, ..., -0.21752356,\n",
       "        -0.18268492, -0.14141024],\n",
       "       [ 0.9997525 ,  1.        ,  0.99985812, ..., -0.22766924,\n",
       "        -0.19278432, -0.14762811],\n",
       "       [ 0.99951099,  0.99985812,  1.        , ..., -0.22559223,\n",
       "        -0.19003826, -0.14564547],\n",
       "       ..., \n",
       "       [-0.21752356, -0.22766924, -0.22559223, ...,  1.        ,\n",
       "         0.99854011,  0.97388007],\n",
       "       [-0.18268492, -0.19278432, -0.19003826, ...,  0.99854011,\n",
       "         1.        ,  0.97298031],\n",
       "       [-0.14141024, -0.14762811, -0.14564547, ...,  0.97388007,\n",
       "         0.97298031,  1.        ]])"
      ]
     },
     "execution_count": 7,
     "metadata": {},
     "output_type": "execute_result"
    },
    {
     "data": {
      "image/png": "[encoded data removed]",
      "text/plain": [
       "<matplotlib.figure.Figure at 0x293f49fad30>"
      ]
     },
     "metadata": {},
     "output_type": "display_data"
    }
   ],
   "source": [
    "plt.matshow(collated_df.corr())\n",
    "np.corrcoef(collated_df)"
   ]
  },
  {
   "cell_type": "code",
   "execution_count": 35,
   "metadata": {},
   "outputs": [
    {
     "data": {
      "text/plain": [
       "Text(0.5,0,'number of components')"
      ]
     },
     "execution_count": 35,
     "metadata": {},
     "output_type": "execute_result"
    },
    {
     "data": {
      "image/png": "[encoded data removed]",
      "text/plain": [
       "<matplotlib.figure.Figure at 0x1b486a56be0>"
      ]
     },
     "metadata": {},
     "output_type": "display_data"
    }
   ],
   "source": [
    "plt.xlabel('number of components')"
   ]
  },
  {
   "cell_type": "code",
   "execution_count": 31,
   "metadata": {},
   "outputs": [
    {
     "data": {
      "text/plain": [
       "Text(0,0.5,'cumulative explained variance')"
      ]
     },
     "execution_count": 31,
     "metadata": {},
     "output_type": "execute_result"
    }
   ],
   "source": [
    "plt.ylabel('cumulative explained variance')"
   ]
  },
  {
   "cell_type": "code",
   "execution_count": 8,
   "metadata": {},
   "outputs": [
    {
     "data": {
      "text/plain": [
       "array([[ 1.        ,  0.9997525 ,  0.99951099, ..., -0.21752356,\n",
       "        -0.18268492, -0.14141024],\n",
       "       [ 0.9997525 ,  1.        ,  0.99985812, ..., -0.22766924,\n",
       "        -0.19278432, -0.14762811],\n",
       "       [ 0.99951099,  0.99985812,  1.        , ..., -0.22559223,\n",
       "        -0.19003826, -0.14564547],\n",
       "       ..., \n",
       "       [-0.21752356, -0.22766924, -0.22559223, ...,  1.        ,\n",
       "         0.99854011,  0.97388007],\n",
       "       [-0.18268492, -0.19278432, -0.19003826, ...,  0.99854011,\n",
       "         1.        ,  0.97298031],\n",
       "       [-0.14141024, -0.14762811, -0.14564547, ...,  0.97388007,\n",
       "         0.97298031,  1.        ]])"
      ]
     },
     "execution_count": 8,
     "metadata": {},
     "output_type": "execute_result"
    }
   ],
   "source": [
    "np.corrcoef(collated_df)"
   ]
  },
  {
   "cell_type": "code",
   "execution_count": null,
   "metadata": {
    "collapsed": true
   },
   "outputs": [],
   "source": []
  }
 ],
 "metadata": {
  "kernelspec": {
   "display_name": "Python 3",
   "language": "python",
   "name": "python3"
  },
  "language_info": {
   "codemirror_mode": {
    "name": "ipython",
    "version": 3
   },
   "file_extension": ".py",
   "mimetype": "text/x-python",
   "name": "python",
   "nbconvert_exporter": "python",
   "pygments_lexer": "ipython3",
   "version": "3.5.3"
  }
 },
 "nbformat": 4,
 "nbformat_minor": 2
}
